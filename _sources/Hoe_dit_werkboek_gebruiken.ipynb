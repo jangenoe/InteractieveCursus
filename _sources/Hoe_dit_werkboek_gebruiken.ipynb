{
 "cells": [
  {
   "cell_type": "markdown",
   "metadata": {},
   "source": [
    "# Hoe dit werkboek te gebruiken"
   ]
  },
  {
   "cell_type": "markdown",
   "metadata": {},
   "source": [
    "Dit werkboek werd gemaakt met [Jupyter Book](https://jupyterbook.org/intro.html), een open-source project om online interactieve boeken te ontwerpen waarvan de code ook effectief kan uitgerekend worden.\n",
    "\n",
    "We leggen hier kort de concepten van interactieve boeken uit. De meeste features kunnen in de toolbar bovenaan de pagina gevonden worden."
   ]
  },
  {
   "cell_type": "markdown",
   "metadata": {},
   "source": [
    "## Werkbalk bovenaan"
   ]
  },
  {
   "cell_type": "markdown",
   "metadata": {},
   "source": [
    "### <i class=\"fa fa-rocket\" aria-hidden=\"true\"></i> Open Jupyter Notebook in de Cloud "
   ]
  },
  {
   "cell_type": "markdown",
   "metadata": {},
   "source": [
    "Je kan de meeste pagina's van dit boek openen in de cloud en van daarin de code live laten lopen. Gebruik hiervoor het raket icon <i class=\"fa fa-rocket\" aria-hidden=\"true\"></i>  bovenop de pagina klik op \"Binder\"om een versie van dezelfde pagina te open in de cloud."
   ]
  },
  {
   "cell_type": "markdown",
   "metadata": {},
   "source": [
    "[Binder](https://mybinder.org/) is een dienst om jupyter notebooks uit te voeren zonder voorafgaande configuratie of installatie. Merk wel op dat dat behoorlijk lang kan duren, dus moet je geduldig zijn."
   ]
  },
  {
   "cell_type": "markdown",
   "metadata": {},
   "source": [
    "### <i class=\"fas fa-expand\" aria-hidden=\"true\"></i> Werk  full Screen"
   ]
  },
  {
   "cell_type": "markdown",
   "metadata": {},
   "source": [
    "Om dit boek full screen te bekijken, klik op het <i class=\"fas fa-expand\" aria-hidden=\"true\"></i> icon bovenaan de pagina."
   ]
  },
  {
   "cell_type": "markdown",
   "metadata": {},
   "source": [
    "### <i class=\"fab fa-github\" aria-hidden=\"true\"></i> Naar GitHub"
   ]
  },
  {
   "cell_type": "markdown",
   "metadata": {},
   "source": [
    "Als je een probleem hebt of een suggestie, kan je dit melden op Github door naar het GitHub icon <i class=\"fab fa-github\" aria-hidden=\"true\"></i> te gaan en klik op \"open issue.\""
   ]
  },
  {
   "cell_type": "markdown",
   "metadata": {},
   "source": [
    "Je kan me natuurlijk ook steeds emailen met een probleem of een suggesties op: jan.genoe@kuleuven.be"
   ]
  },
  {
   "cell_type": "markdown",
   "metadata": {},
   "source": [
    "### <i class=\"fa fa-download\" aria-hidden=\"true\"></i> Download het hoofdstuk"
   ]
  },
  {
   "cell_type": "markdown",
   "metadata": {},
   "source": [
    "Je kan elke Jupyter notebook pagina van dit boek downloaden als een notebook file (.ipynb). Gebruik hiervoor het download icon <i class=\"fa fa-download\" aria-hidden=\"true\"></i> en klik op \".ipynb\""
   ]
  },
  {
   "cell_type": "markdown",
   "metadata": {},
   "source": [
    "```{attention}\n",
    "Om te werken met deze .ipynb file, moet je Jupyter geinstalleerd hebben op je eigen computer.\n",
    "```"
   ]
  },
  {
   "cell_type": "markdown",
   "metadata": {},
   "source": [
    "Je kan ook elke Jupyter notebook pagina van dit boek downloaden als een PDF file.  Gebruik hiervoor het download icon <i class=\"fa fa-download\" aria-hidden=\"true\"></i> en klik op \".pdf\""
   ]
  },
  {
   "cell_type": "markdown",
   "metadata": {},
   "source": [
    "## Toon de gebruikte code te tonen"
   ]
  },
  {
   "cell_type": "markdown",
   "metadata": {},
   "source": [
    "Om de leesbaarheid van dit boek te vergroten heb ik zo veel mogelijk de gebruikte code verborgen. Je kan deze steeds tonen door te klikken op \"Click to Show\" naast de verborgen code cell. \n",
    "\n",
    "De bedoeling van het ter beschikking stellen van de gebruikte code is natuurlijk dat je zelf ook met deze code gaat experimenteren."
   ]
  },
  {
   "cell_type": "code",
   "execution_count": 1,
   "metadata": {
    "execution": {
     "iopub.execute_input": "2021-11-20T20:10:15.651422Z",
     "iopub.status.busy": "2021-11-20T20:10:15.651422Z",
     "iopub.status.idle": "2021-11-20T20:10:15.671369Z",
     "shell.execute_reply": "2021-11-20T20:10:15.671369Z",
     "shell.execute_reply.started": "2021-11-20T20:10:15.651422Z"
    },
    "tags": [
     "hide-input"
    ]
   },
   "outputs": [
    {
     "name": "stdout",
     "output_type": "stream",
     "text": [
      "Hier is een voorbeeld van verborgen code. Klik op de 'Click to Show' om deze te zien\n"
     ]
    }
   ],
   "source": [
    "print(\"Hier is een voorbeeld van verborgen code. Klik op de 'Click to Show' om deze te zien\")"
   ]
  },
  {
   "cell_type": "markdown",
   "metadata": {},
   "source": [
    "## Bekijken van de slides\n",
    "\n",
    "Bovenaan elk hoofdstuk kan je een link vinden naar de slides: \n",
    "\n",
    "De presentatie slides van dit hoofdstuk kan je hier vinden.\n",
    "\n",
    "Achter deze link bevind zich een reveal.js presentatie van de slides.\n",
    "\n",
    "Toets| funktie\n",
    "--|--\n",
    "N of Spatiebalk | (next slide).\n",
    "P | for the (previous slide).\n",
    "← of H | It is used to navigate left.\n",
    "→ of L | This key will navigate right.\n",
    "↑ of K | Helps to navigate up.\n",
    "↑ or J | It will navigate down.\n",
    "Home | Use this key to the first slide.\n",
    "End | Helps for the last slide.\n",
    "B of . | It is used to pause (blackout).\n",
    "F | his key will be fullscreen.\n",
    "Esc or O | Helps to slide overview/escape from full-screen.\n",
    "S | Used for speaker notes view.\n",
    "? | It will show keyboard shortcuts.\n",
    "Alt+muisklik  | Helps to zoom in. Repeat to zoom back out."
   ]
  },
  {
   "cell_type": "markdown",
   "metadata": {
    "execution": {
     "iopub.execute_input": "2022-01-02T14:15:52.456033Z",
     "iopub.status.busy": "2022-01-02T14:15:52.456033Z",
     "iopub.status.idle": "2022-01-02T14:15:52.474982Z",
     "shell.execute_reply": "2022-01-02T14:15:52.473984Z",
     "shell.execute_reply.started": "2022-01-02T14:15:52.456033Z"
    }
   },
   "source": []
  },
  {
   "cell_type": "code",
   "execution_count": null,
   "metadata": {},
   "outputs": [],
   "source": []
  }
 ],
 "metadata": {
  "citation-manager": {
   "items": {}
  },
  "kernelspec": {
   "display_name": "Python 3 (ipykernel)",
   "language": "python",
   "name": "python3"
  },
  "language_info": {
   "codemirror_mode": {
    "name": "ipython",
    "version": 3
   },
   "file_extension": ".py",
   "mimetype": "text/x-python",
   "name": "python",
   "nbconvert_exporter": "python",
   "pygments_lexer": "ipython3",
   "version": "3.8.12"
  },
  "widgets": {
   "application/vnd.jupyter.widget-state+json": {
    "state": {},
    "version_major": 2,
    "version_minor": 0
   }
  }
 },
 "nbformat": 4,
 "nbformat_minor": 4
}
