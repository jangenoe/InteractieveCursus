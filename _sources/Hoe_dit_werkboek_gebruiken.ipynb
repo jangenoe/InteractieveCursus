{
 "cells": [
  {
   "cell_type": "markdown",
   "metadata": {},
   "source": [
    "# Hoe dit werkboek te gebruiken"
   ]
  },
  {
   "cell_type": "markdown",
   "metadata": {},
   "source": [
    "Dit werkboek werd gemaakt met [Jupyter Book](https://jupyterbook.org/intro.html), een open-source project om online interactieve boeken te ontwerpen waarvan de code ook effectief kan uitgerekend worden.\n",
    "\n",
    "We leggen hier kort de concepten van interactieve boeken uit. De meeste features kunnen in de toolbar bovenaan de pagina gevonden worden."
   ]
  },
  {
   "cell_type": "markdown",
   "metadata": {},
   "source": [
    "## Werkbalk bovenaan"
   ]
  },
  {
   "cell_type": "markdown",
   "metadata": {},
   "source": [
    "### <i class=\"fa fa-rocket\" aria-hidden=\"true\"></i> Open Jupyter Notebook in de Cloud "
   ]
  },
  {
   "cell_type": "markdown",
   "metadata": {},
   "source": [
    "Je kan de meeste pagina's van dit boek openen in de cloud en van daarin de code live laten lopen. Gebruik hiervoor het raket icon <i class=\"fa fa-rocket\" aria-hidden=\"true\"></i>  bovenop de pagina klik op \"Binder\"om een versie van dezelfde pagina te open in de cloud."
   ]
  },
  {
   "cell_type": "markdown",
   "metadata": {},
   "source": [
    "[Binder](https://mybinder.org/) is een dienst om jupyter notebooks uit te voeren zonder voorafgaande configuratie of installatie. Merk wel op dat dat behoorlijk lang kan duren, dus moet je geduldig zijn."
   ]
  },
  {
   "cell_type": "markdown",
   "metadata": {},
   "source": [
    "### <i class=\"fas fa-expand\" aria-hidden=\"true\"></i> Werk  full Screen"
   ]
  },
  {
   "cell_type": "markdown",
   "metadata": {},
   "source": [
    "Om dit boek full screen te bekijken, klik op het <i class=\"fas fa-expand\" aria-hidden=\"true\"></i> icon bovenaan de pagina."
   ]
  },
  {
   "cell_type": "markdown",
   "metadata": {},
   "source": [
    "### <i class=\"fab fa-github\" aria-hidden=\"true\"></i> Naar GitHub"
   ]
  },
  {
   "cell_type": "markdown",
   "metadata": {},
   "source": [
    "Als je een probleem hebt of een suggestie, kan je dit melden op Github door naar het GitHub icon <i class=\"fab fa-github\" aria-hidden=\"true\"></i> te gaan en klik op \"open issue.\""
   ]
  },
  {
   "cell_type": "markdown",
   "metadata": {},
   "source": [
    "Je kan me natuurlijk ook steeds emailen met een probleem of een suggesties op: jan.genoe@kuleuven.be"
   ]
  },
  {
   "cell_type": "markdown",
   "metadata": {},
   "source": [
    "### <i class=\"fa fa-download\" aria-hidden=\"true\"></i> Download het hoofdstuk"
   ]
  },
  {
   "cell_type": "markdown",
   "metadata": {},
   "source": [
    "Je kan elke Jupyter notebook pagina van dit boek downloaden als een notebook file (.ipynb). Gebruik hiervoor het download icon <i class=\"fa fa-download\" aria-hidden=\"true\"></i> en klik op \".ipynb\""
   ]
  },
  {
   "cell_type": "markdown",
   "metadata": {},
   "source": [
    "```{attention}\n",
    "Om te werken met deze .ipynb file, moet je Jupyter geinstalleerd hebben op je eigen computer.\n",
    "```"
   ]
  },
  {
   "cell_type": "markdown",
   "metadata": {},
   "source": [
    "Je kan ook elke Jupyter notebook pagina van dit boek downloaden als een PDF file.  Gebruik hiervoor het download icon <i class=\"fa fa-download\" aria-hidden=\"true\"></i> en klik op \".pdf\""
   ]
  },
  {
   "cell_type": "markdown",
   "metadata": {},
   "source": [
    "## Bekijken van de slides\n",
    "\n",
    "Bovenaan elk hoofdstuk kan je een link vinden naar de slides: \n",
    "\n",
    "Achter deze link bevindt zich een reveal.js presentatie van de slides.\n",
    "\n",
    "Toets| funktie\n",
    "--|--\n",
    "N of Spatiebalk | (volgende slide).\n",
    "P | voor de (vorige slide).\n",
    "← of H | Om te navigeren naar links.\n",
    "→ of L | Om te navigeren naar rechts.\n",
    "↑ of K | Om te navigeren naar boven.\n",
    "↑ of J | Om te navigeren naar beneden.\n",
    "Home | Om te navigeren naar de eerste slide.\n",
    "End | Om te navigeren naar de laatste slide.\n",
    "B of . | Om te pauzeren (zwart).\n",
    "F | Naar fullscreen gaan.\n",
    "Esc of O | Naar het slide overzicht/ontsnappen van full-screen.\n",
    "S | Toon het  \"speaker notes\" zicht.\n",
    "? | Toon dit keyboard shortcuts  overzicht.\n",
    "Alt+muisklik  | Om in te zoomen. Herhaal dit om terug out-te-zoomen."
   ]
  }
 ],
 "metadata": {
  "citation-manager": {
   "items": {}
  },
  "kernelspec": {
   "display_name": "Python 3 (ipykernel)",
   "language": "python",
   "name": "python3"
  },
  "language_info": {
   "codemirror_mode": {
    "name": "ipython",
    "version": 3
   },
   "file_extension": ".py",
   "mimetype": "text/x-python",
   "name": "python",
   "nbconvert_exporter": "python",
   "pygments_lexer": "ipython3",
   "version": "3.9.10"
  },
  "widgets": {
   "application/vnd.jupyter.widget-state+json": {
    "state": {},
    "version_major": 2,
    "version_minor": 0
   }
  }
 },
 "nbformat": 4,
 "nbformat_minor": 4
}
