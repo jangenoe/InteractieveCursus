{
 "cells": [
  {
   "cell_type": "markdown",
   "metadata": {},
   "source": [
    "# How to Interact With This Book"
   ]
  },
  {
   "cell_type": "markdown",
   "metadata": {},
   "source": [
    "This book was created with [Jupyter Book](https://jupyterbook.org/intro.html), an open-source project for designing online interactive books that contain code and other computational material. \n",
    "\n",
    "Below the interactive features of this Jupyter Book are explained in further detail. Most interactive features can be found in the toolbar at the top of the page."
   ]
  },
  {
   "cell_type": "markdown",
   "metadata": {},
   "source": [
    "## <i class=\"fa fa-rocket\" aria-hidden=\"true\"></i> Open Jupyter Notebook in the Cloud "
   ]
  },
  {
   "cell_type": "markdown",
   "metadata": {},
   "source": [
    "You can open most pages from this book in the cloud and run the code live. Hover over the rocket icon <i class=\"fa fa-rocket\" aria-hidden=\"true\"></i>  at the top of the page and click \"Binder\" to open a version of the same page in the cloud."
   ]
  },
  {
   "cell_type": "markdown",
   "metadata": {},
   "source": [
    "[Binder](https://mybinder.org/) is a service that allows you to run Jupyter notebooks without any prior configuration or installation. It may take a few minutes for the Jupyter notebook to load, so be patient."
   ]
  },
  {
   "cell_type": "markdown",
   "metadata": {},
   "source": [
    "## <i class=\"fa fa-download\" aria-hidden=\"true\"></i> Download Jupyter Notebook "
   ]
  },
  {
   "cell_type": "markdown",
   "metadata": {},
   "source": [
    "You can download any Jupyter notebook page from this book as a Jupyter notebook file (.ipynb). Hover over the download icon <i class=\"fa fa-download\" aria-hidden=\"true\"></i> and click \".ipynb\""
   ]
  },
  {
   "cell_type": "markdown",
   "metadata": {},
   "source": [
    "```{attention}\n",
    "To work with this .ipynb file, you will need to have [Jupyter installed](https://jupyter.org/install) and running on your own computer.\n",
    "```"
   ]
  },
  {
   "cell_type": "markdown",
   "metadata": {},
   "source": [
    "## <i class=\"fa fa-download\" aria-hidden=\"true\"></i> Download PDF "
   ]
  },
  {
   "cell_type": "markdown",
   "metadata": {},
   "source": [
    "You can download any Jupyter notebook page from this book as a PDF file. Hover over the download icon <i class=\"fa fa-download\" aria-hidden=\"true\"></i> and click \".pdf\""
   ]
  },
  {
   "cell_type": "markdown",
   "metadata": {},
   "source": [
    "## <i class=\"fas fa-expand\" aria-hidden=\"true\"></i> Make Full Screen"
   ]
  },
  {
   "cell_type": "markdown",
   "metadata": {},
   "source": [
    "To make any page from this book full screen, click the full screen <i class=\"fas fa-expand\" aria-hidden=\"true\"></i> icon at the top of the page."
   ]
  },
  {
   "cell_type": "markdown",
   "metadata": {},
   "source": [
    "## <i class=\"fab fa-github\" aria-hidden=\"true\"></i> Open Issue on GitHub"
   ]
  },
  {
   "cell_type": "markdown",
   "metadata": {},
   "source": [
    "If you run into any issues or would like to make a suggestion, you can open an issue on GitHub by hovering over the GitHub icon <i class=\"fab fa-github\" aria-hidden=\"true\"></i> and clicking \"open issue.\""
   ]
  },
  {
   "cell_type": "markdown",
   "metadata": {},
   "source": [
    "You can also email me with issues or suggestions at jan.genoe@kuleuven.be "
   ]
  },
  {
   "cell_type": "markdown",
   "metadata": {},
   "source": [
    "## Investigating slides\n",
    "\n",
    "On top of each chapter of the book you can find a link to the slides:\n",
    "\n",
    "Behind the link a reveal.js presentation can be found.\n",
    "\n",
    "Key| function\n",
    "--|--\n",
    "N or Space bar | (next slide).\n",
    "P | for the (previous slide).\n",
    "← or H | It is used to navigate left.\n",
    "→ or L | This key will navigate right.\n",
    "↑ or K | Helps to navigate up.\n",
    "↑ or J | It will navigate down.\n",
    "Home | Use this key to the first slide.\n",
    "End | Helps for the last slide.\n",
    "B or . | It is used to pause (blackout).\n",
    "F | his key will be fullscreen.\n",
    "Esc or O | Helps to slide overview/escape from full-screen.\n",
    "S | Used for speaker notes view.\n",
    "? | It will show keyboard shortcuts.\n",
    "Alt+mouse click | Helps to zoom in. Repeat to zoom back out."
   ]
  }
 ],
 "metadata": {
  "kernelspec": {
   "display_name": "Python 3 (ipykernel)",
   "language": "python",
   "name": "python3"
  },
  "language_info": {
   "codemirror_mode": {
    "name": "ipython",
    "version": 3
   },
   "file_extension": ".py",
   "mimetype": "text/x-python",
   "name": "python",
   "nbconvert_exporter": "python",
   "pygments_lexer": "ipython3",
   "version": "3.9.10"
  }
 },
 "nbformat": 4,
 "nbformat_minor": 4
}
