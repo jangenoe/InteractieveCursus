{
 "cells": [
  {
   "cell_type": "markdown",
   "id": "4c15f443",
   "metadata": {
    "@deathbeds/jupyterlab-fonts": {
     "styles": {
      "": {
       "body[data-jp-deck-mode='presenting'] &": {
        "height": "82%",
        "left": "-4%",
        "position": "fixed",
        "top": "7.5%",
        "width": "110%"
       }
      }
     }
    },
    "slideshow": {
     "slide_type": "slide"
    },
    "tags": [
     "remove_cell",
     "remove_cell4reveal"
    ]
   },
   "source": [
    "<div style = \"height: 700px; width:100%; background-color:#1D8DB0; color:#fff\"></div>"
   ]
  },
  {
   "cell_type": "markdown",
   "id": "ae918f64",
   "metadata": {
    "@deathbeds/jupyterlab-fonts": {
     "styles": {
      "": {
       "body[data-jp-deck-mode='presenting'] &": {
        "height": "13.7%",
        "left": "9.2%",
        "position": "fixed",
        "top": "1.1%",
        "width": "20.4%"
       }
      }
     }
    },
    "jupyterlab-deck": {
     "layer": "slide"
    },
    "tags": [
     "remove_cell",
     "remove_cell4reveal"
    ]
   },
   "source": [
    "<img src=\"./images/KULeuven.png\" >"
   ]
  },
  {
   "cell_type": "markdown",
   "id": "aad2180f-216c-4c6f-a6f0-045822ed4ce7",
   "metadata": {
    "slideshow": {
     "slide_type": "skip"
    },
    "tags": []
   },
   "source": [
    "# SmithKaart\n",
    "\n",
    "<a href=\"./slides/SmithKaart.slides.html\" target=\"_blank\">![slides](./images/slides-beschikbaar-blue.svg)</a> "
   ]
  },
  {
   "cell_type": "code",
   "execution_count": null,
   "id": "a42e7f4a-1f42-4b77-b105-00ac9d54c82d",
   "metadata": {},
   "outputs": [],
   "source": [
    "%config InlineBackend.figure_format = 'svg'\n",
    "%run cursusdef.py"
   ]
  },
  {
   "cell_type": "markdown",
   "id": "3e2ba5e6",
   "metadata": {
    "@deathbeds/jupyterlab-fonts": {
     "styles": {
      "": {
       "body[data-jp-deck-mode='presenting'] &": {
        "height": "11%",
        "left": "-4%",
        "position": "fixed",
        "top": "95%",
        "width": "110%"
       }
      }
     }
    },
    "jupyterlab-deck": {
     "layer": "deck"
    },
    "tags": [
     "remove_cell",
     "remove_cell4reveal"
    ]
   },
   "source": [
    "<div style = \"height: 50px; width:100%; background-color:#1D8DB0;\"></div>"
   ]
  },
  {
   "cell_type": "markdown",
   "id": "dd8bfe96",
   "metadata": {
    "@deathbeds/jupyterlab-fonts": {
     "styles": {
      "": {
       "body[data-jp-deck-mode='presenting'] &": {
        "bottom": "1%",
        "position": "fixed",
        "right": "11%",
        "width": "6%"
       }
      }
     }
    },
    "jupyterlab-deck": {
     "layer": "deck"
    },
    "tags": [
     "remove_cell",
     "remove_cell4reveal"
    ]
   },
   "source": [
    "<img src=\"./images/KULeuven.png\" >"
   ]
  }
 ],
 "metadata": {
  "@deathbeds/jupyterlab-fonts": {
   "styles": {
    ".MathJax_Display": {
     "body[data-jp-deck-mode='presenting'] &": {
      "font-size": "8vh"
     }
    },
    "h6": {
     "body[data-jp-deck-mode='presenting'] &": {
      "color": "#1D8DB0",
      "font-size": "4vh",
      "font-weight": "bold",
      "height": "9vh",
      "letter-spacing": "normal",
      "line-height": "1.0",
      "margin": "0 0 0 0",
      "max-height": "85vh",
      "max-width": "95vw",
      "object-fit": "contain",
      "text-align": "center",
      "text-shadow": "none",
      "text-transform": "uppercase",
      "top": "0vh",
      "word-wrap": "break-word"
     }
    },
    "img": {
     "body[data-jp-deck-mode='presenting'] &": {
      "height": "75vh",
      "left": "0vw",
      "object-fit": "contain",
      "top": "0vh",
      "width": "100vw"
     }
    }
   }
  },
  "KULeuvenSlides": {
   "authors": "Jan Genoe",
   "date": "December 2022",
   "kuleuven_presentation_style": "1425",
   "subtitle": "Reflecties op analoge transmissielijnen",
   "title": "Smith Kaart"
  },
  "citation-manager": {
   "items": {}
  },
  "kernelspec": {
   "display_name": "KULeuven",
   "language": "python",
   "name": "kuleuven"
  },
  "language_info": {
   "codemirror_mode": {
    "name": "ipython",
    "version": 3
   },
   "file_extension": ".py",
   "mimetype": "text/x-python",
   "name": "python",
   "nbconvert_exporter": "python",
   "pygments_lexer": "ipython3",
   "version": "3.8.13"
  },
  "widgets": {
   "application/vnd.jupyter.widget-state+json": {
    "state": {},
    "version_major": 2,
    "version_minor": 0
   }
  }
 },
 "nbformat": 4,
 "nbformat_minor": 5
}
