{
 "cells": [
  {
   "cell_type": "markdown",
   "id": "8507c4ce",
   "metadata": {
    "@deathbeds/jupyterlab-fonts": {
     "styles": {
      "": {
       "body[data-jp-deck-mode='presenting'] &": {
        "height": "82%",
        "left": "-4%",
        "position": "fixed",
        "top": "7.5%",
        "width": "110%"
       }
      }
     }
    },
    "slideshow": {
     "slide_type": "slide"
    },
    "tags": [
     "remove_cell",
     "remove_cell4reveal"
    ]
   },
   "source": [
    "<div style = \"height: 700px; width:100%; background-color:#1D8DB0; color:#fff\"></div>"
   ]
  },
  {
   "cell_type": "markdown",
   "id": "871fab32",
   "metadata": {
    "@deathbeds/jupyterlab-fonts": {
     "styles": {
      "": {
       "body[data-jp-deck-mode='presenting'] &": {
        "height": "13.7%",
        "left": "9.2%",
        "position": "fixed",
        "top": "1.1%",
        "width": "20.4%"
       }
      }
     }
    },
    "jupyterlab-deck": {
     "layer": "slide"
    },
    "tags": [
     "remove_cell",
     "remove_cell4reveal"
    ]
   },
   "source": [
    "<img src=\"./images/KULeuven.png\" >"
   ]
  },
  {
   "cell_type": "markdown",
   "id": "1a3f63d8-b7bb-425f-a0f5-2c1d4b74826f",
   "metadata": {
    "slideshow": {
     "slide_type": "slide"
    },
    "tags": []
   },
   "source": [
    "# Transmissie lijnen"
   ]
  },
  {
   "cell_type": "markdown",
   "id": "3d2d38e9-441c-4832-90b8-ffb3e2289c7c",
   "metadata": {
    "slideshow": {
     "slide_type": "skip"
    },
    "tags": []
   },
   "source": [
    "<a href=\"./slides/transmissielijn.slides.html\" target=\"_blank\">![slides](./images/slides-beschikbaar-blue.svg)</a> \n",
    "<a href=\"../Lite/ToegepasteAnalogeElektronica/lab?path=transmissielijn.ipynb\" target=\"_blank\">![slides](./images/open_in-JupyterLite-blue.svg)</a>\n",
    "<a href=\"../Deck/ToegepasteAnalogeElektronica/lab?path=transmissielijn.ipynb\" target=\"_blank\">![slides](./images/JupyterDeck-slides-blue.svg)</a>"
   ]
  },
  {
   "cell_type": "markdown",
   "id": "da24fff4",
   "metadata": {
    "@deathbeds/jupyterlab-fonts": {
     "styles": {
      "": {
       "body[data-jp-deck-mode='presenting'] &": {
        "height": "11%",
        "left": "-4%",
        "position": "fixed",
        "top": "95%",
        "width": "110%"
       }
      }
     }
    },
    "jupyterlab-deck": {
     "layer": "deck"
    },
    "tags": [
     "remove_cell",
     "remove_cell4reveal"
    ]
   },
   "source": [
    "<div style = \"height: 50px; width:100%; background-color:#1D8DB0;\"></div>"
   ]
  },
  {
   "cell_type": "markdown",
   "id": "d46b9325",
   "metadata": {
    "@deathbeds/jupyterlab-fonts": {
     "styles": {
      "": {
       "body[data-jp-deck-mode='presenting'] &": {
        "bottom": "1%",
        "position": "fixed",
        "right": "11%",
        "width": "6%"
       }
      }
     }
    },
    "jupyterlab-deck": {
     "layer": "deck"
    },
    "tags": [
     "remove_cell",
     "remove_cell4reveal"
    ]
   },
   "source": [
    "<img src=\"./images/KULeuven.png\" >"
   ]
  },
  {
   "cell_type": "code",
   "execution_count": 4,
   "id": "a7682e58-36b6-4bdf-8117-e711974297a3",
   "metadata": {
    "execution": {
     "iopub.execute_input": "2022-09-18T15:09:59.059893Z",
     "iopub.status.busy": "2022-09-18T15:09:59.058895Z",
     "iopub.status.idle": "2022-09-18T15:10:06.752730Z",
     "shell.execute_reply": "2022-09-18T15:10:06.752730Z",
     "shell.execute_reply.started": "2022-09-18T15:09:59.059893Z"
    },
    "slideshow": {
     "slide_type": "skip"
    },
    "tags": []
   },
   "outputs": [],
   "source": [
    "%config InlineBackend.figure_format = 'svg'\n",
    "%run cursusdef.py\n",
    "import schemdraw.elements as elm"
   ]
  },
  {
   "cell_type": "markdown",
   "id": "796ecee8",
   "metadata": {
    "slideshow": {
     "slide_type": "slide"
    },
    "tags": [
     "remove_cell",
     "slide_title"
    ]
   },
   "source": [
    "###### Netwerk model"
   ]
  },
  {
   "cell_type": "code",
   "execution_count": 8,
   "id": "b25121d9-a602-40b8-917b-6c1b6183dce4",
   "metadata": {
    "KULeuvenSlides": {},
    "execution": {
     "iopub.execute_input": "2021-12-05T14:23:27.975817Z",
     "iopub.status.busy": "2021-12-05T14:23:27.974820Z",
     "iopub.status.idle": "2021-12-05T14:23:28.176279Z",
     "shell.execute_reply": "2021-12-05T14:23:28.176279Z",
     "shell.execute_reply.started": "2021-12-05T14:23:27.975817Z"
    },
    "jupyter": {
     "source_hidden": true
    },
    "mystnb": {
     "figure": {
      "caption": "Netwerk model van een 50 Ohm transmissielijn.",
      "name": "t_model"
     }
    },
    "tags": []
   },
   "outputs": [
    {
     "data": {
      "image/png": "[encoded data removed]",
      "image/svg+xml": [
       "<?xml version=\"1.0\" encoding=\"utf-8\" standalone=\"no\"?>\n",
       "<!DOCTYPE svg PUBLIC \"-//W3C//DTD SVG 1.1//EN\"\n",
       "  \"http://www.w3.org/Graphics/SVG/1.1/DTD/svg11.dtd\">\n",
       "<svg xmlns:xlink=\"http://www.w3.org/1999/xlink\" width=\"178.11pt\" height=\"75.175pt\" viewBox=\"0 0 178.11 75.175\" xmlns=\"http://www.w3.org/2000/svg\" version=\"1.1\">\n",
       " <metadata>\n",
       "  <rdf:RDF xmlns:dc=\"http://purl.org/dc/elements/1.1/\" xmlns:cc=\"http://creativecommons.org/ns#\" xmlns:rdf=\"http://www.w3.org/1999/02/22-rdf-syntax-ns#\">\n",
       "   <cc:Work>\n",
       "    <dc:type rdf:resource=\"http://purl.org/dc/dcmitype/StillImage\"/>\n",
       "    <dc:date>2021-12-05T15:23:28.056599</dc:date>\n",
       "    <dc:format>image/svg+xml</dc:format>\n",
       "    <dc:creator>\n",
       "     <cc:Agent>\n",
       "      <dc:title>Matplotlib v3.5.0, https://matplotlib.org/</dc:title>\n",
       "     </cc:Agent>\n",
       "    </dc:creator>\n",
       "   </cc:Work>\n",
       "  </rdf:RDF>\n",
       " </metadata>\n",
       " <defs>\n",
       "  <style type=\"text/css\">*{stroke-linejoin: round; stroke-linecap: butt}</style>\n",
       " </defs>\n",
       " <g id=\"figure_1\">\n",
       "  <g id=\"patch_1\">\n",
       "   <path d=\"M 0 75.175 \n",
       "L 178.11 75.175 \n",
       "L 178.11 0 \n",
       "L 0 0 \n",
       "L 0 75.175 \n",
       "z\n",
       "\" style=\"fill: none\"/>\n",
       "  </g>\n",
       "  <g id=\"axes_1\">\n",
       "   <g id=\"patch_2\">\n",
       "    <path d=\"M 35.505 38.14 \n",
       "C 35.505 36.934493 35.386271 35.740709 35.155607 34.626966 \n",
       "C 34.924943 33.513223 34.586831 32.501182 34.16062 31.64876 \n",
       "C 33.734409 30.796338 33.228388 30.120113 32.671517 29.658786 \n",
       "C 32.114646 29.197459 31.517753 28.96 30.915 28.96 \n",
       "C 30.312247 28.96 29.715354 29.197459 29.158483 29.658786 \n",
       "C 28.601612 30.120113 28.095591 30.796338 27.66938 31.64876 \n",
       "C 27.243169 32.501182 26.905057 33.513223 26.674393 34.626966 \n",
       "C 26.443729 35.740709 26.325 36.934493 26.325 38.14 \n",
       "C 26.325 39.345507 26.443729 40.539291 26.674393 41.653034 \n",
       "C 26.905057 42.766777 27.243169 43.778818 27.66938 44.63124 \n",
       "C 28.095591 45.483662 28.601612 46.159887 29.158483 46.621214 \n",
       "C 29.715354 47.082541 30.312247 47.32 30.915 47.32 \n",
       "C 31.517753 47.32 32.114646 47.082541 32.671517 46.621214 \n",
       "C 33.228388 46.159887 33.734409 45.483662 34.16062 44.63124 \n",
       "C 34.586831 43.778818 34.924943 42.766777 35.155607 41.653034 \n",
       "C 35.386271 40.539291 35.505 39.345507 35.505 38.14 \n",
       "\" clip-path=\"url(#p19f2719cb5)\" style=\"fill: none; stroke: #000000; stroke-width: 2; stroke-linejoin: miter\"/>\n",
       "   </g>\n",
       "   <g id=\"patch_3\">\n",
       "    <path d=\"M 147.195 47.32 \n",
       "C 148.411877 47.32 149.580158 46.352164 150.44062 44.63124 \n",
       "C 151.301082 42.910317 151.785 40.573754 151.785 38.14 \n",
       "C 151.785 35.706246 151.301082 33.369683 150.44062 31.64876 \n",
       "C 149.580158 29.927836 148.411877 28.96 147.195 28.96 \n",
       "\" clip-path=\"url(#p19f2719cb5)\" style=\"fill: none; stroke: #000000; stroke-width: 2; stroke-linejoin: miter\"/>\n",
       "   </g>\n",
       "   <g id=\"line2d_1\">\n",
       "    <path d=\"M 12.555 38.14 \n",
       "L 30.915 38.14 \n",
       "M 151.785 38.14 \n",
       "L 165.555 38.14 \n",
       "\" clip-path=\"url(#p19f2719cb5)\" style=\"fill: none; stroke: #000000; stroke-width: 2; stroke-linecap: round\"/>\n",
       "   </g>\n",
       "   <g id=\"line2d_2\">\n",
       "    <path d=\"M 30.915 28.96 \n",
       "L 147.195 28.96 \n",
       "\" clip-path=\"url(#p19f2719cb5)\" style=\"fill: none; stroke: #000000; stroke-width: 2; stroke-linecap: round\"/>\n",
       "   </g>\n",
       "   <g id=\"line2d_3\">\n",
       "    <path d=\"M 30.915 47.32 \n",
       "L 147.195 47.32 \n",
       "\" clip-path=\"url(#p19f2719cb5)\" style=\"fill: none; stroke: #000000; stroke-width: 2; stroke-linecap: round\"/>\n",
       "   </g>\n",
       "   <g id=\"line2d_4\">\n",
       "    <path d=\"M 147.195 47.32 \n",
       "L 147.195 54.97 \n",
       "L 147.195 62.62 \n",
       "\" clip-path=\"url(#p19f2719cb5)\" style=\"fill: none; stroke: #000000; stroke-width: 2; stroke-linecap: round\"/>\n",
       "   </g>\n",
       "   <g id=\"line2d_5\">\n",
       "    <path d=\"M 147.195 62.62 \n",
       "L 154.845 62.62 \n",
       "L 162.495 62.62 \n",
       "\" clip-path=\"url(#p19f2719cb5)\" style=\"fill: none; stroke: #000000; stroke-width: 2; stroke-linecap: round\"/>\n",
       "   </g>\n",
       "   <g id=\"line2d_6\">\n",
       "    <path d=\"M 30.915 47.32 \n",
       "L 30.915 54.97 \n",
       "L 30.915 62.62 \n",
       "\" clip-path=\"url(#p19f2719cb5)\" style=\"fill: none; stroke: #000000; stroke-width: 2; stroke-linecap: round\"/>\n",
       "   </g>\n",
       "   <g id=\"line2d_7\">\n",
       "    <path d=\"M 30.915 62.62 \n",
       "L 23.265 62.62 \n",
       "L 15.615 62.62 \n",
       "\" clip-path=\"url(#p19f2719cb5)\" style=\"fill: none; stroke: #000000; stroke-width: 2; stroke-linecap: round\"/>\n",
       "   </g>\n",
       "   <g id=\"text_1\">\n",
       "    <!-- $50\\Omega$ -->\n",
       "    <g transform=\"translate(74.775 22.988437)scale(0.14 -0.14)\">\n",
       "     <defs>\n",
       "      <path id=\"DejaVuSans-35\" d=\"M 691 4666 \n",
       "L 3169 4666 \n",
       "L 3169 4134 \n",
       "L 1269 4134 \n",
       "L 1269 2991 \n",
       "Q 1406 3038 1543 3061 \n",
       "Q 1681 3084 1819 3084 \n",
       "Q 2600 3084 3056 2656 \n",
       "Q 3513 2228 3513 1497 \n",
       "Q 3513 744 3044 326 \n",
       "Q 2575 -91 1722 -91 \n",
       "Q 1428 -91 1123 -41 \n",
       "Q 819 9 494 109 \n",
       "L 494 744 \n",
       "Q 775 591 1075 516 \n",
       "Q 1375 441 1709 441 \n",
       "Q 2250 441 2565 725 \n",
       "Q 2881 1009 2881 1497 \n",
       "Q 2881 1984 2565 2268 \n",
       "Q 2250 2553 1709 2553 \n",
       "Q 1456 2553 1204 2497 \n",
       "Q 953 2441 691 2322 \n",
       "L 691 4666 \n",
       "z\n",
       "\" transform=\"scale(0.015625)\"/>\n",
       "      <path id=\"DejaVuSans-30\" d=\"M 2034 4250 \n",
       "Q 1547 4250 1301 3770 \n",
       "Q 1056 3291 1056 2328 \n",
       "Q 1056 1369 1301 889 \n",
       "Q 1547 409 2034 409 \n",
       "Q 2525 409 2770 889 \n",
       "Q 3016 1369 3016 2328 \n",
       "Q 3016 3291 2770 3770 \n",
       "Q 2525 4250 2034 4250 \n",
       "z\n",
       "M 2034 4750 \n",
       "Q 2819 4750 3233 4129 \n",
       "Q 3647 3509 3647 2328 \n",
       "Q 3647 1150 3233 529 \n",
       "Q 2819 -91 2034 -91 \n",
       "Q 1250 -91 836 529 \n",
       "Q 422 1150 422 2328 \n",
       "Q 422 3509 836 4129 \n",
       "Q 1250 4750 2034 4750 \n",
       "z\n",
       "\" transform=\"scale(0.015625)\"/>\n",
       "      <path id=\"DejaVuSans-3a9\" d=\"M 4647 556 \n",
       "L 4647 0 \n",
       "L 2772 0 \n",
       "L 2772 556 \n",
       "Q 3325 859 3634 1378 \n",
       "Q 3944 1897 3944 2528 \n",
       "Q 3944 3278 3531 3731 \n",
       "Q 3119 4184 2444 4184 \n",
       "Q 1769 4184 1355 3729 \n",
       "Q 941 3275 941 2528 \n",
       "Q 941 1897 1250 1378 \n",
       "Q 1563 859 2119 556 \n",
       "L 2119 0 \n",
       "L 244 0 \n",
       "L 244 556 \n",
       "L 1241 556 \n",
       "Q 747 991 519 1456 \n",
       "Q 294 1922 294 2497 \n",
       "Q 294 3491 894 4106 \n",
       "Q 1491 4722 2444 4722 \n",
       "Q 3391 4722 3994 4106 \n",
       "Q 4594 3494 4594 2528 \n",
       "Q 4594 1922 4372 1459 \n",
       "Q 4150 997 3647 556 \n",
       "L 4647 556 \n",
       "z\n",
       "\" transform=\"scale(0.015625)\"/>\n",
       "     </defs>\n",
       "     <use xlink:href=\"#DejaVuSans-35\" transform=\"translate(0 0.78125)\"/>\n",
       "     <use xlink:href=\"#DejaVuSans-30\" transform=\"translate(63.623047 0.78125)\"/>\n",
       "     <use xlink:href=\"#DejaVuSans-3a9\" transform=\"translate(127.246094 0.78125)\"/>\n",
       "    </g>\n",
       "   </g>\n",
       "   <g id=\"text_2\">\n",
       "    <!-- coax -->\n",
       "    <g transform=\"translate(72.490156 61.017812)scale(0.14 -0.14)\">\n",
       "     <defs>\n",
       "      <path id=\"DejaVuSans-63\" d=\"M 3122 3366 \n",
       "L 3122 2828 \n",
       "Q 2878 2963 2633 3030 \n",
       "Q 2388 3097 2138 3097 \n",
       "Q 1578 3097 1268 2742 \n",
       "Q 959 2388 959 1747 \n",
       "Q 959 1106 1268 751 \n",
       "Q 1578 397 2138 397 \n",
       "Q 2388 397 2633 464 \n",
       "Q 2878 531 3122 666 \n",
       "L 3122 134 \n",
       "Q 2881 22 2623 -34 \n",
       "Q 2366 -91 2075 -91 \n",
       "Q 1284 -91 818 406 \n",
       "Q 353 903 353 1747 \n",
       "Q 353 2603 823 3093 \n",
       "Q 1294 3584 2113 3584 \n",
       "Q 2378 3584 2631 3529 \n",
       "Q 2884 3475 3122 3366 \n",
       "z\n",
       "\" transform=\"scale(0.015625)\"/>\n",
       "      <path id=\"DejaVuSans-6f\" d=\"M 1959 3097 \n",
       "Q 1497 3097 1228 2736 \n",
       "Q 959 2375 959 1747 \n",
       "Q 959 1119 1226 758 \n",
       "Q 1494 397 1959 397 \n",
       "Q 2419 397 2687 759 \n",
       "Q 2956 1122 2956 1747 \n",
       "Q 2956 2369 2687 2733 \n",
       "Q 2419 3097 1959 3097 \n",
       "z\n",
       "M 1959 3584 \n",
       "Q 2709 3584 3137 3096 \n",
       "Q 3566 2609 3566 1747 \n",
       "Q 3566 888 3137 398 \n",
       "Q 2709 -91 1959 -91 \n",
       "Q 1206 -91 779 398 \n",
       "Q 353 888 353 1747 \n",
       "Q 353 2609 779 3096 \n",
       "Q 1206 3584 1959 3584 \n",
       "z\n",
       "\" transform=\"scale(0.015625)\"/>\n",
       "      <path id=\"DejaVuSans-61\" d=\"M 2194 1759 \n",
       "Q 1497 1759 1228 1600 \n",
       "Q 959 1441 959 1056 \n",
       "Q 959 750 1161 570 \n",
       "Q 1363 391 1709 391 \n",
       "Q 2188 391 2477 730 \n",
       "Q 2766 1069 2766 1631 \n",
       "L 2766 1759 \n",
       "L 2194 1759 \n",
       "z\n",
       "M 3341 1997 \n",
       "L 3341 0 \n",
       "L 2766 0 \n",
       "L 2766 531 \n",
       "Q 2569 213 2275 61 \n",
       "Q 1981 -91 1556 -91 \n",
       "Q 1019 -91 701 211 \n",
       "Q 384 513 384 1019 \n",
       "Q 384 1609 779 1909 \n",
       "Q 1175 2209 1959 2209 \n",
       "L 2766 2209 \n",
       "L 2766 2266 \n",
       "Q 2766 2663 2505 2880 \n",
       "Q 2244 3097 1772 3097 \n",
       "Q 1472 3097 1187 3025 \n",
       "Q 903 2953 641 2809 \n",
       "L 641 3341 \n",
       "Q 956 3463 1253 3523 \n",
       "Q 1550 3584 1831 3584 \n",
       "Q 2591 3584 2966 3190 \n",
       "Q 3341 2797 3341 1997 \n",
       "z\n",
       "\" transform=\"scale(0.015625)\"/>\n",
       "      <path id=\"DejaVuSans-78\" d=\"M 3513 3500 \n",
       "L 2247 1797 \n",
       "L 3578 0 \n",
       "L 2900 0 \n",
       "L 1881 1375 \n",
       "L 863 0 \n",
       "L 184 0 \n",
       "L 1544 1831 \n",
       "L 300 3500 \n",
       "L 978 3500 \n",
       "L 1906 2253 \n",
       "L 2834 3500 \n",
       "L 3513 3500 \n",
       "z\n",
       "\" transform=\"scale(0.015625)\"/>\n",
       "     </defs>\n",
       "     <use xlink:href=\"#DejaVuSans-63\"/>\n",
       "     <use xlink:href=\"#DejaVuSans-6f\" x=\"54.980469\"/>\n",
       "     <use xlink:href=\"#DejaVuSans-61\" x=\"116.162109\"/>\n",
       "     <use xlink:href=\"#DejaVuSans-78\" x=\"177.441406\"/>\n",
       "    </g>\n",
       "   </g>\n",
       "   <g id=\"patch_4\">\n",
       "    <path d=\"M 12.555 40.435 \n",
       "C 13.163641 40.435 13.747436 40.193184 14.17781 39.76281 \n",
       "C 14.608184 39.332436 14.85 38.748641 14.85 38.14 \n",
       "C 14.85 37.531359 14.608184 36.947564 14.17781 36.51719 \n",
       "C 13.747436 36.086816 13.163641 35.845 12.555 35.845 \n",
       "C 11.946359 35.845 11.362564 36.086816 10.93219 36.51719 \n",
       "C 10.501816 36.947564 10.26 37.531359 10.26 38.14 \n",
       "C 10.26 38.748641 10.501816 39.332436 10.93219 39.76281 \n",
       "C 11.362564 40.193184 11.946359 40.435 12.555 40.435 \n",
       "z\n",
       "\" clip-path=\"url(#p19f2719cb5)\" style=\"fill: #ff0000; stroke: #ff0000; stroke-width: 2; stroke-linejoin: miter\"/>\n",
       "   </g>\n",
       "   <g id=\"patch_5\">\n",
       "    <path d=\"M 165.555 40.435 \n",
       "C 166.163641 40.435 166.747436 40.193184 167.17781 39.76281 \n",
       "C 167.608184 39.332436 167.85 38.748641 167.85 38.14 \n",
       "C 167.85 37.531359 167.608184 36.947564 167.17781 36.51719 \n",
       "C 166.747436 36.086816 166.163641 35.845 165.555 35.845 \n",
       "C 164.946359 35.845 164.362564 36.086816 163.93219 36.51719 \n",
       "C 163.501816 36.947564 163.26 37.531359 163.26 38.14 \n",
       "C 163.26 38.748641 163.501816 39.332436 163.93219 39.76281 \n",
       "C 164.362564 40.193184 164.946359 40.435 165.555 40.435 \n",
       "z\n",
       "\" clip-path=\"url(#p19f2719cb5)\" style=\"fill: #008000; stroke: #008000; stroke-width: 2; stroke-linejoin: miter\"/>\n",
       "   </g>\n",
       "   <g id=\"patch_6\">\n",
       "    <path d=\"M 162.495 64.915 \n",
       "C 163.103641 64.915 163.687436 64.673184 164.11781 64.24281 \n",
       "C 164.548184 63.812436 164.79 63.228641 164.79 62.62 \n",
       "C 164.79 62.011359 164.548184 61.427564 164.11781 60.99719 \n",
       "C 163.687436 60.566816 163.103641 60.325 162.495 60.325 \n",
       "C 161.886359 60.325 161.302564 60.566816 160.87219 60.99719 \n",
       "C 160.441816 61.427564 160.2 62.011359 160.2 62.62 \n",
       "C 160.2 63.228641 160.441816 63.812436 160.87219 64.24281 \n",
       "C 161.302564 64.673184 161.886359 64.915 162.495 64.915 \n",
       "z\n",
       "\" clip-path=\"url(#p19f2719cb5)\" style=\"fill: #008000; stroke: #008000; stroke-width: 2; stroke-linejoin: miter\"/>\n",
       "   </g>\n",
       "   <g id=\"patch_7\">\n",
       "    <path d=\"M 15.615 64.915 \n",
       "C 16.223641 64.915 16.807436 64.673184 17.23781 64.24281 \n",
       "C 17.668184 63.812436 17.91 63.228641 17.91 62.62 \n",
       "C 17.91 62.011359 17.668184 61.427564 17.23781 60.99719 \n",
       "C 16.807436 60.566816 16.223641 60.325 15.615 60.325 \n",
       "C 15.006359 60.325 14.422564 60.566816 13.99219 60.99719 \n",
       "C 13.561816 61.427564 13.32 62.011359 13.32 62.62 \n",
       "C 13.32 63.228641 13.561816 63.812436 13.99219 64.24281 \n",
       "C 14.422564 64.673184 15.006359 64.915 15.615 64.915 \n",
       "z\n",
       "\" clip-path=\"url(#p19f2719cb5)\" style=\"fill: #ff0000; stroke: #ff0000; stroke-width: 2; stroke-linejoin: miter\"/>\n",
       "   </g>\n",
       "  </g>\n",
       " </g>\n",
       " <defs>\n",
       "  <clipPath id=\"p19f2719cb5\">\n",
       "   <rect x=\"7.2\" y=\"7.2\" width=\"163.71\" height=\"60.775\"/>\n",
       "  </clipPath>\n",
       " </defs>\n",
       "</svg>\n"
      ],
      "text/plain": [
       "<schemdraw.backends.mpl.Figure object at 0x000001B912840A30>"
      ]
     },
     "execution_count": 8,
     "metadata": {},
     "output_type": "execute_result"
    }
   ],
   "source": [
    "d = schemdraw.Drawing()\n",
    "\n",
    "d.add(elm.Dot,color='r')\n",
    "coax=d.add(elm.coax(d='right',length=5, label='$50\\Omega$', botlabel='coax'))\n",
    "d.add(elm.Dot,color='g')\n",
    "d.add(elm.Line(xy=coax.shieldend,l=0.5,d='down'))\n",
    "d.add(elm.Line(l=0.5,d='right'))\n",
    "d.add(elm.Dot,color='g')\n",
    "d.add(elm.Line(xy=coax.shieldstart,l=0.5,d='down') )\n",
    "d.add(elm.Line(l=0.5,d='left'))\n",
    "d.add(elm.Dot,color='r')\n",
    "d.draw()"
   ]
  },
  {
   "cell_type": "markdown",
   "id": "0b958957",
   "metadata": {
    "slideshow": {
     "slide_type": "slide"
    },
    "tags": [
     "remove_cell",
     "slide_overzicht"
    ]
   },
   "source": [
    "######  Overzicht\n",
    " \n"
   ]
  },
  {
   "cell_type": "markdown",
   "id": "6bfed12f-6919-4f26-b0e2-984a762d43f8",
   "metadata": {
    "slideshow": {
     "slide_type": "skip"
    },
    "tags": []
   },
   "source": [
    "## Transmissie lijn model"
   ]
  },
  {
   "cell_type": "markdown",
   "id": "e5e225ce",
   "metadata": {
    "slideshow": {
     "slide_type": "slide"
    },
    "tags": [
     "remove_cell",
     "slide_title"
    ]
   },
   "source": [
    "###### Kleinsignaal model"
   ]
  },
  {
   "cell_type": "code",
   "execution_count": 22,
   "id": "e3c63178-6ba7-454a-9fd3-6cee89a8d23d",
   "metadata": {
    "KULeuvenSlides": {},
    "execution": {
     "iopub.execute_input": "2022-09-18T15:22:45.425297Z",
     "iopub.status.busy": "2022-09-18T15:22:45.424297Z",
     "iopub.status.idle": "2022-09-18T15:22:45.520664Z",
     "shell.execute_reply": "2022-09-18T15:22:45.519667Z",
     "shell.execute_reply.started": "2022-09-18T15:22:45.425297Z"
    },
    "mystnb": {
     "figure": {
      "caption": "Kleinsignaal model van een kort stuk",
      "name": "t_model_inf"
     }
    },
    "tags": []
   },
   "outputs": [
    {
     "data": {
      "image/png": "[encoded data removed]",
      "image/svg+xml": [
       "<?xml version=\"1.0\" encoding=\"utf-8\" standalone=\"no\"?>\n",
       "<!DOCTYPE svg PUBLIC \"-//W3C//DTD SVG 1.1//EN\"\n",
       "  \"http://www.w3.org/Graphics/SVG/1.1/DTD/svg11.dtd\">\n",
       "<svg xmlns:xlink=\"http://www.w3.org/1999/xlink\" width=\"239.31pt\" height=\"151.062052pt\" viewBox=\"0 0 239.31 151.062052\" xmlns=\"http://www.w3.org/2000/svg\" version=\"1.1\">\n",
       " <metadata>\n",
       "  <rdf:RDF xmlns:dc=\"http://purl.org/dc/elements/1.1/\" xmlns:cc=\"http://creativecommons.org/ns#\" xmlns:rdf=\"http://www.w3.org/1999/02/22-rdf-syntax-ns#\">\n",
       "   <cc:Work>\n",
       "    <dc:type rdf:resource=\"http://purl.org/dc/dcmitype/StillImage\"/>\n",
       "    <dc:date>2022-09-18T17:22:45.483054</dc:date>\n",
       "    <dc:format>image/svg+xml</dc:format>\n",
       "    <dc:creator>\n",
       "     <cc:Agent>\n",
       "      <dc:title>Matplotlib v3.5.3, https://matplotlib.org/</dc:title>\n",
       "     </cc:Agent>\n",
       "    </dc:creator>\n",
       "   </cc:Work>\n",
       "  </rdf:RDF>\n",
       " </metadata>\n",
       " <defs>\n",
       "  <style type=\"text/css\">*{stroke-linejoin: round; stroke-linecap: butt}</style>\n",
       " </defs>\n",
       " <g id=\"figure_1\">\n",
       "  <g id=\"patch_1\">\n",
       "   <path d=\"M 0 151.062052 \n",
       "L 239.31 151.062052 \n",
       "L 239.31 0 \n",
       "L 0 0 \n",
       "z\n",
       "\" style=\"fill: #ffffff\"/>\n",
       "  </g>\n",
       "  <g id=\"axes_1\">\n",
       "   <g id=\"line2d_1\">\n",
       "    <path d=\"M 12.555 46.707052 \n",
       "L 35.505 46.707052 \n",
       "L 35.618959 44.187493 \n",
       "L 35.965496 41.645211 \n",
       "L 36.536901 39.293422 \n",
       "L 37.306607 37.329369 \n",
       "L 38.231415 35.917771 \n",
       "L 38.734802 35.458253 \n",
       "L 39.255117 35.17702 \n",
       "L 39.784076 35.08 \n",
       "L 40.313212 35.169239 \n",
       "L 40.834057 35.442855 \n",
       "L 41.338314 35.895082 \n",
       "L 41.81804 36.516386 \n",
       "L 42.674855 38.210557 \n",
       "L 43.353997 40.383282 \n",
       "L 43.819862 42.852336 \n",
       "L 44.054734 45.410644 \n",
       "L 44.06027 47.843644 \n",
       "L 43.85736 49.947285 \n",
       "L 43.484376 51.545138 \n",
       "L 42.993956 52.503192 \n",
       "L 42.723989 52.714872 \n",
       "L 42.448585 52.741098 \n",
       "L 42.176233 52.581319 \n",
       "L 41.915357 52.238903 \n",
       "L 41.460348 51.038724 \n",
       "L 41.143075 49.24122 \n",
       "L 41.011501 46.997143 \n",
       "L 41.098016 44.494702 \n",
       "L 41.416719 41.943772 \n",
       "L 41.962236 39.558296 \n",
       "L 42.71017 37.53834 \n",
       "L 43.619148 36.053315 \n",
       "L 44.117287 35.55239 \n",
       "L 44.634291 35.227767 \n",
       "L 45.161946 35.086287 \n",
       "L 45.691814 35.130934 \n",
       "L 46.21541 35.360765 \n",
       "L 46.724381 35.770937 \n",
       "L 47.210681 36.352804 \n",
       "L 48.085642 37.979202 \n",
       "L 48.788267 40.103556 \n",
       "L 49.280982 42.547701 \n",
       "L 49.543819 45.106648 \n",
       "L 49.57609 47.565784 \n",
       "L 49.396442 49.718864 \n",
       "L 49.041297 51.385313 \n",
       "L 48.561796 52.425368 \n",
       "L 48.294382 52.680954 \n",
       "L 48.019509 52.751802 \n",
       "L 47.745653 52.636418 \n",
       "L 47.481271 52.337236 \n",
       "L 47.013579 51.21644 \n",
       "L 46.677012 49.483414 \n",
       "L 46.521152 47.283503 \n",
       "L 46.580426 44.801211 \n",
       "L 46.871218 42.244724 \n",
       "L 47.390494 39.82845 \n",
       "L 48.116059 37.755039 \n",
       "L 49.008415 36.198384 \n",
       "L 49.500856 35.65666 \n",
       "L 50.014077 35.28904 \n",
       "L 50.539944 35.103272 \n",
       "L 51.070056 35.103272 \n",
       "L 51.595923 35.28904 \n",
       "L 52.109144 35.65666 \n",
       "L 52.601585 36.198384 \n",
       "L 53.493941 37.755039 \n",
       "L 54.219506 39.82845 \n",
       "L 54.738782 42.244724 \n",
       "L 55.029574 44.801211 \n",
       "L 55.088848 47.283503 \n",
       "L 54.932988 49.483414 \n",
       "L 54.596421 51.21644 \n",
       "L 54.128729 52.337236 \n",
       "L 53.864347 52.636418 \n",
       "L 53.590491 52.751802 \n",
       "L 53.315618 52.680954 \n",
       "L 53.048204 52.425368 \n",
       "L 52.568703 51.385313 \n",
       "L 52.213558 49.718864 \n",
       "L 52.03391 47.565784 \n",
       "L 52.066181 45.106648 \n",
       "L 52.329018 42.547701 \n",
       "L 52.821733 40.103556 \n",
       "L 53.524358 37.979202 \n",
       "L 54.399319 36.352804 \n",
       "L 54.885619 35.770937 \n",
       "L 55.39459 35.360765 \n",
       "L 55.918186 35.130934 \n",
       "L 56.448054 35.086287 \n",
       "L 56.975709 35.227767 \n",
       "L 57.492713 35.55239 \n",
       "L 57.990852 36.053315 \n",
       "L 58.462309 36.719982 \n",
       "L 59.296877 38.491139 \n",
       "L 59.947779 40.717317 \n",
       "L 60.38178 43.21181 \n",
       "L 60.583834 45.765408 \n",
       "L 60.558353 48.163945 \n",
       "L 60.328826 50.20626 \n",
       "L 59.93586 51.721066 \n",
       "L 59.433767 52.581319 \n",
       "L 59.161415 52.741098 \n",
       "L 58.886011 52.714872 \n",
       "L 58.616044 52.503192 \n",
       "L 58.359887 52.110522 \n",
       "L 57.920875 50.818957 \n",
       "L 57.627149 48.948497 \n",
       "L 57.524698 46.656015 \n",
       "L 57.643471 44.133779 \n",
       "L 57.994859 41.593324 \n",
       "L 58.570749 39.247714 \n",
       "L 59.344195 37.293673 \n",
       "L 60.271686 35.895082 \n",
       "L 60.775943 35.442855 \n",
       "L 61.296788 35.169239 \n",
       "L 61.825924 35.08 \n",
       "L 62.354883 35.17702 \n",
       "L 62.875198 35.458253 \n",
       "L 63.378585 35.917771 \n",
       "L 63.857118 36.54589 \n",
       "L 64.710687 38.251693 \n",
       "L 65.385673 40.432599 \n",
       "L 65.846821 42.905699 \n",
       "L 66.076809 45.463577 \n",
       "L 66.105 46.707052 \n",
       "L 89.055 46.707052 \n",
       "L 89.055 46.707052 \n",
       "\" clip-path=\"url(#p9717899e5d)\" style=\"fill: none; stroke: #000000; stroke-width: 2; stroke-linecap: round\"/>\n",
       "   </g>\n",
       "   <g id=\"line2d_2\">\n",
       "    <path d=\"M 89.055 46.707052 \n",
       "L 104.355 46.707052 \n",
       "L 106.905 39.057052 \n",
       "L 112.005 54.357052 \n",
       "L 117.105 39.057052 \n",
       "L 122.205 54.357052 \n",
       "L 127.305 39.057052 \n",
       "L 132.405 54.357052 \n",
       "L 134.955 46.707052 \n",
       "L 150.255 46.707052 \n",
       "\" clip-path=\"url(#p9717899e5d)\" style=\"fill: none; stroke: #000000; stroke-width: 2; stroke-linecap: round\"/>\n",
       "   </g>\n",
       "   <g id=\"line2d_3\">\n",
       "    <path d=\"M 150.255 46.707052 \n",
       "L 150.255 89.853052 \n",
       "M 157.905 89.853052 \n",
       "L 142.605 89.853052 \n",
       "M 157.905 95.361052 \n",
       "L 142.605 95.361052 \n",
       "M 150.255 95.361052 \n",
       "L 150.255 138.507052 \n",
       "\" clip-path=\"url(#p9717899e5d)\" style=\"fill: none; stroke: #000000; stroke-width: 2; stroke-linecap: round\"/>\n",
       "   </g>\n",
       "   <g id=\"line2d_4\">\n",
       "    <path d=\"M 150.255 46.707052 \n",
       "L 165.555 46.707052 \n",
       "L 180.855 46.707052 \n",
       "\" clip-path=\"url(#p9717899e5d)\" style=\"fill: none; stroke: #000000; stroke-width: 2; stroke-linecap: round\"/>\n",
       "   </g>\n",
       "   <g id=\"line2d_5\">\n",
       "    <path d=\"M 180.855 46.707052 \n",
       "L 180.855 77.307052 \n",
       "L 188.505 79.857052 \n",
       "L 173.205 84.957052 \n",
       "L 188.505 90.057052 \n",
       "L 173.205 95.157052 \n",
       "L 188.505 100.257052 \n",
       "L 173.205 105.357052 \n",
       "L 180.855 107.907052 \n",
       "L 180.855 138.507052 \n",
       "\" clip-path=\"url(#p9717899e5d)\" style=\"fill: none; stroke: #000000; stroke-width: 2; stroke-linecap: round\"/>\n",
       "   </g>\n",
       "   <g id=\"line2d_6\">\n",
       "    <path d=\"M 180.855 138.507052 \n",
       "L 96.705 138.507052 \n",
       "L 12.555 138.507052 \n",
       "\" clip-path=\"url(#p9717899e5d)\" style=\"fill: none; stroke: #000000; stroke-width: 2; stroke-linecap: round\"/>\n",
       "   </g>\n",
       "   <g id=\"line2d_7\">\n",
       "    <path d=\"M 180.855 138.507052 \n",
       "L 203.805 138.507052 \n",
       "L 226.755 138.507052 \n",
       "\" clip-path=\"url(#p9717899e5d)\" style=\"fill: none; stroke: #000000; stroke-width: 2; stroke-linecap: round\"/>\n",
       "   </g>\n",
       "   <g id=\"line2d_8\">\n",
       "    <path d=\"M 180.855 46.707052 \n",
       "L 203.805 46.707052 \n",
       "L 226.755 46.707052 \n",
       "\" clip-path=\"url(#p9717899e5d)\" style=\"fill: none; stroke: #000000; stroke-width: 2; stroke-linecap: round\"/>\n",
       "   </g>\n",
       "   <g id=\"text_1\">\n",
       "    <g clip-path=\"url(#p9717899e5d)\">\n",
       "     <!-- L -->\n",
       "     <g transform=\"translate(47.322578 29.420391)scale(0.125 -0.125)\">\n",
       "      <defs>\n",
       "       <path id=\"DejaVuSans-4c\" d=\"M 628 4666 \n",
       "L 1259 4666 \n",
       "L 1259 531 \n",
       "L 3531 531 \n",
       "L 3531 0 \n",
       "L 628 0 \n",
       "L 628 4666 \n",
       "z\n",
       "\" transform=\"scale(0.015625)\"/>\n",
       "      </defs>\n",
       "      <use xlink:href=\"#DejaVuSans-4c\"/>\n",
       "     </g>\n",
       "    </g>\n",
       "   </g>\n",
       "   <g id=\"text_2\">\n",
       "    <g clip-path=\"url(#p9717899e5d)\">\n",
       "     <!-- R -->\n",
       "     <g transform=\"translate(115.312227 33.397442)scale(0.125 -0.125)\">\n",
       "      <defs>\n",
       "       <path id=\"DejaVuSans-52\" d=\"M 2841 2188 \n",
       "Q 3044 2119 3236 1894 \n",
       "Q 3428 1669 3622 1275 \n",
       "L 4263 0 \n",
       "L 3584 0 \n",
       "L 2988 1197 \n",
       "Q 2756 1666 2539 1819 \n",
       "Q 2322 1972 1947 1972 \n",
       "L 1259 1972 \n",
       "L 1259 0 \n",
       "L 628 0 \n",
       "L 628 4666 \n",
       "L 2053 4666 \n",
       "Q 2853 4666 3247 4331 \n",
       "Q 3641 3997 3641 3322 \n",
       "Q 3641 2881 3436 2590 \n",
       "Q 3231 2300 2841 2188 \n",
       "z\n",
       "M 1259 4147 \n",
       "L 1259 2491 \n",
       "L 2053 2491 \n",
       "Q 2509 2491 2742 2702 \n",
       "Q 2975 2913 2975 3322 \n",
       "Q 2975 3731 2742 3939 \n",
       "Q 2509 4147 2053 4147 \n",
       "L 1259 4147 \n",
       "z\n",
       "\" transform=\"scale(0.015625)\"/>\n",
       "      </defs>\n",
       "      <use xlink:href=\"#DejaVuSans-52\"/>\n",
       "     </g>\n",
       "    </g>\n",
       "   </g>\n",
       "   <g id=\"text_3\">\n",
       "    <g clip-path=\"url(#p9717899e5d)\">\n",
       "     <!-- C -->\n",
       "     <g transform=\"translate(130.816484 96.056271)scale(0.125 -0.125)\">\n",
       "      <defs>\n",
       "       <path id=\"DejaVuSans-43\" d=\"M 4122 4306 \n",
       "L 4122 3641 \n",
       "Q 3803 3938 3442 4084 \n",
       "Q 3081 4231 2675 4231 \n",
       "Q 1875 4231 1450 3742 \n",
       "Q 1025 3253 1025 2328 \n",
       "Q 1025 1406 1450 917 \n",
       "Q 1875 428 2675 428 \n",
       "Q 3081 428 3442 575 \n",
       "Q 3803 722 4122 1019 \n",
       "L 4122 359 \n",
       "Q 3791 134 3420 21 \n",
       "Q 3050 -91 2638 -91 \n",
       "Q 1578 -91 968 557 \n",
       "Q 359 1206 359 2328 \n",
       "Q 359 3453 968 4101 \n",
       "Q 1578 4750 2638 4750 \n",
       "Q 3056 4750 3426 4639 \n",
       "Q 3797 4528 4122 4306 \n",
       "z\n",
       "\" transform=\"scale(0.015625)\"/>\n",
       "      </defs>\n",
       "      <use xlink:href=\"#DejaVuSans-43\"/>\n",
       "     </g>\n",
       "    </g>\n",
       "   </g>\n",
       "   <g id=\"text_4\">\n",
       "    <g clip-path=\"url(#p9717899e5d)\">\n",
       "     <!-- g -->\n",
       "     <g transform=\"translate(162.209453 96.056271)scale(0.125 -0.125)\">\n",
       "      <defs>\n",
       "       <path id=\"DejaVuSans-67\" d=\"M 2906 1791 \n",
       "Q 2906 2416 2648 2759 \n",
       "Q 2391 3103 1925 3103 \n",
       "Q 1463 3103 1205 2759 \n",
       "Q 947 2416 947 1791 \n",
       "Q 947 1169 1205 825 \n",
       "Q 1463 481 1925 481 \n",
       "Q 2391 481 2648 825 \n",
       "Q 2906 1169 2906 1791 \n",
       "z\n",
       "M 3481 434 \n",
       "Q 3481 -459 3084 -895 \n",
       "Q 2688 -1331 1869 -1331 \n",
       "Q 1566 -1331 1297 -1286 \n",
       "Q 1028 -1241 775 -1147 \n",
       "L 775 -588 \n",
       "Q 1028 -725 1275 -790 \n",
       "Q 1522 -856 1778 -856 \n",
       "Q 2344 -856 2625 -561 \n",
       "Q 2906 -266 2906 331 \n",
       "L 2906 616 \n",
       "Q 2728 306 2450 153 \n",
       "Q 2172 0 1784 0 \n",
       "Q 1141 0 747 490 \n",
       "Q 353 981 353 1791 \n",
       "Q 353 2603 747 3093 \n",
       "Q 1141 3584 1784 3584 \n",
       "Q 2172 3584 2450 3431 \n",
       "Q 2728 3278 2906 2969 \n",
       "L 2906 3500 \n",
       "L 3481 3500 \n",
       "L 3481 434 \n",
       "z\n",
       "\" transform=\"scale(0.015625)\"/>\n",
       "      </defs>\n",
       "      <use xlink:href=\"#DejaVuSans-67\"/>\n",
       "     </g>\n",
       "    </g>\n",
       "   </g>\n",
       "   <g id=\"patch_2\">\n",
       "    <path d=\"M 12.555 49.002052 \n",
       "C 13.163641 49.002052 13.747436 48.760236 14.17781 48.329862 \n",
       "C 14.608184 47.899488 14.85 47.315693 14.85 46.707052 \n",
       "C 14.85 46.098411 14.608184 45.514616 14.17781 45.084242 \n",
       "C 13.747436 44.653867 13.163641 44.412052 12.555 44.412052 \n",
       "C 11.946359 44.412052 11.362564 44.653867 10.93219 45.084242 \n",
       "C 10.501816 45.514616 10.26 46.098411 10.26 46.707052 \n",
       "C 10.26 47.315693 10.501816 47.899488 10.93219 48.329862 \n",
       "C 11.362564 48.760236 11.946359 49.002052 12.555 49.002052 \n",
       "z\n",
       "\" clip-path=\"url(#p9717899e5d)\" style=\"stroke: #000000; stroke-width: 2; stroke-linejoin: miter\"/>\n",
       "   </g>\n",
       "   <g id=\"patch_3\">\n",
       "    <path d=\"M 12.555 140.802052 \n",
       "C 13.163641 140.802052 13.747436 140.560236 14.17781 140.129862 \n",
       "C 14.608184 139.699488 14.85 139.115693 14.85 138.507052 \n",
       "C 14.85 137.898411 14.608184 137.314616 14.17781 136.884242 \n",
       "C 13.747436 136.453867 13.163641 136.212052 12.555 136.212052 \n",
       "C 11.946359 136.212052 11.362564 136.453867 10.93219 136.884242 \n",
       "C 10.501816 137.314616 10.26 137.898411 10.26 138.507052 \n",
       "C 10.26 139.115693 10.501816 139.699488 10.93219 140.129862 \n",
       "C 11.362564 140.560236 11.946359 140.802052 12.555 140.802052 \n",
       "z\n",
       "\" clip-path=\"url(#p9717899e5d)\" style=\"stroke: #000000; stroke-width: 2; stroke-linejoin: miter\"/>\n",
       "   </g>\n",
       "   <g id=\"patch_4\">\n",
       "    <path d=\"M 226.755 140.802052 \n",
       "C 227.363641 140.802052 227.947436 140.560236 228.37781 140.129862 \n",
       "C 228.808184 139.699488 229.05 139.115693 229.05 138.507052 \n",
       "C 229.05 137.898411 228.808184 137.314616 228.37781 136.884242 \n",
       "C 227.947436 136.453867 227.363641 136.212052 226.755 136.212052 \n",
       "C 226.146359 136.212052 225.562564 136.453867 225.13219 136.884242 \n",
       "C 224.701816 137.314616 224.46 137.898411 224.46 138.507052 \n",
       "C 224.46 139.115693 224.701816 139.699488 225.13219 140.129862 \n",
       "C 225.562564 140.560236 226.146359 140.802052 226.755 140.802052 \n",
       "z\n",
       "\" clip-path=\"url(#p9717899e5d)\" style=\"stroke: #000000; stroke-width: 2; stroke-linejoin: miter\"/>\n",
       "   </g>\n",
       "   <g id=\"patch_5\">\n",
       "    <path d=\"M 226.755 49.002052 \n",
       "C 227.363641 49.002052 227.947436 48.760236 228.37781 48.329862 \n",
       "C 228.808184 47.899488 229.05 47.315693 229.05 46.707052 \n",
       "C 229.05 46.098411 228.808184 45.514616 228.37781 45.084242 \n",
       "C 227.947436 44.653867 227.363641 44.412052 226.755 44.412052 \n",
       "C 226.146359 44.412052 225.562564 44.653867 225.13219 45.084242 \n",
       "C 224.701816 45.514616 224.46 46.098411 224.46 46.707052 \n",
       "C 224.46 47.315693 224.701816 47.899488 225.13219 48.329862 \n",
       "C 225.562564 48.760236 226.146359 49.002052 226.755 49.002052 \n",
       "z\n",
       "\" clip-path=\"url(#p9717899e5d)\" style=\"stroke: #000000; stroke-width: 2; stroke-linejoin: miter\"/>\n",
       "   </g>\n",
       "  </g>\n",
       " </g>\n",
       " <defs>\n",
       "  <clipPath id=\"p9717899e5d\">\n",
       "   <rect x=\"7.2\" y=\"7.2\" width=\"224.91\" height=\"136.662052\"/>\n",
       "  </clipPath>\n",
       " </defs>\n",
       "</svg>\n"
      ],
      "text/plain": [
       "<schemdraw.backends.mpl.Figure object at 0x0000021881168940>"
      ]
     },
     "execution_count": 22,
     "metadata": {},
     "output_type": "execute_result"
    }
   ],
   "source": [
    "d = schemdraw.Drawing()\n",
    "d.add(elm.Dot)\n",
    "L=d.add(elm.INDUCTOR2(d='right', l=2.5,label='L'))\n",
    "R=d.add(elm.RES(d='right', l=2, label='R'))\n",
    "d.add(elm.CAP(d='down', label='C'))\n",
    "d.add(elm.Line(xy=R.end,l=1,d='right'))\n",
    "g=d.add(elm.RES(d='down', label='g'))\n",
    "d.add(elm.Line(tox=L.start,d='left'))\n",
    "d.add(elm.Dot)\n",
    "d.add(elm.Line(xy=g.end,l=1.5,d='right'))\n",
    "d.add(elm.Dot)\n",
    "d.add(elm.Line(xy=g.start,l=1.5,d='right'))\n",
    "d.add(elm.Dot)\n",
    "d.draw()"
   ]
  },
  {
   "cell_type": "markdown",
   "id": "fddbc156",
   "metadata": {
    "slideshow": {
     "slide_type": "slide"
    },
    "tags": [
     "remove_cell",
     "slide_title"
    ]
   },
   "source": [
    "###### Kleinsignaal model"
   ]
  },
  {
   "cell_type": "markdown",
   "id": "957d01df-cf62-453d-82de-42befe58e3eb",
   "metadata": {
    "KULeuvenSlides": {},
    "tags": []
   },
   "source": [
    "$$ Z_o=\\sqrt{\\frac{j \\omega L+R}{j \\omega C+g}}$$"
   ]
  },
  {
   "cell_type": "markdown",
   "id": "2cb7a63b-6e48-4254-9f56-6a164b7d03cf",
   "metadata": {
    "slideshow": {
     "slide_type": "skip"
    },
    "tags": []
   },
   "source": [
    "waarbij L de inductantie per eenheid lengte is, C de capaciteit er eenheid lengte is, R de weerstand van de geleider en g de lekgeleidbaarheid van het dielectricum.\n",
    "\n",
    "In het beste geval is de weerstand van de geleider nul (R=0) en de lek ook nul (g=0). $Z_o$ wordt dan "
   ]
  },
  {
   "cell_type": "markdown",
   "id": "2eeeac6d",
   "metadata": {
    "slideshow": {
     "slide_type": "slide"
    },
    "tags": [
     "remove_cell",
     "slide_title"
    ]
   },
   "source": [
    "###### Vereenvoudigd Kleinsignaal model"
   ]
  },
  {
   "cell_type": "markdown",
   "id": "104d0721-330b-4839-bff2-fe2459b1a8b7",
   "metadata": {
    "KULeuvenSlides": {},
    "tags": []
   },
   "source": [
    "$$ Z_o \\approx \\sqrt{\\frac{L}{C}}$$"
   ]
  },
  {
   "cell_type": "markdown",
   "id": "c2873e7c-af7c-4d1e-860f-6da2ef08267e",
   "metadata": {
    "slideshow": {
     "slide_type": "slide"
    },
    "tags": []
   },
   "source": [
    "## Coax kabel"
   ]
  },
  {
   "cell_type": "markdown",
   "id": "f6da14ae-ecdb-4032-9731-3f77a4260aea",
   "metadata": {
    "slideshow": {
     "slide_type": "skip"
    },
    "tags": []
   },
   "source": [
    "{numref}`coaxdoorsnede` toont de doorsnede van een coax kabel met daarop de belangrijkste parameters voor het bepalen van de C per eenheid lengte en de L per eenheid lengte."
   ]
  },
  {
   "cell_type": "markdown",
   "id": "3eec932c",
   "metadata": {
    "slideshow": {
     "slide_type": "slide"
    },
    "tags": [
     "remove_cell",
     "slide_title"
    ]
   },
   "source": [
    "###### Doorsnede coax kabel"
   ]
  },
  {
   "cell_type": "code",
   "execution_count": 1,
   "id": "dcf86f94-46ce-4cb8-a224-34ee45fc5fc9",
   "metadata": {
    "KULeuvenSlides": {},
    "execution": {
     "iopub.execute_input": "2022-09-18T14:48:47.847044Z",
     "iopub.status.busy": "2022-09-18T14:48:47.847044Z",
     "iopub.status.idle": "2022-09-18T14:48:47.865398Z",
     "shell.execute_reply": "2022-09-18T14:48:47.864882Z",
     "shell.execute_reply.started": "2022-09-18T14:48:47.847044Z"
    },
    "mystnb": {
     "figure": {
      "caption": "Schematische cross-section van een coax kabel met de aanduiding van de belangrijkste parameters",
      "name": "coaxdoorsnede"
     }
    },
    "tags": []
   },
   "outputs": [
    {
     "data": {
      "image/png": "[encoded data removed]",
      "text/plain": [
       "<IPython.core.display.Image object>"
      ]
     },
     "execution_count": 1,
     "metadata": {},
     "output_type": "execute_result"
    }
   ],
   "source": [
    "display.Image(\"./images/coax.png\")"
   ]
  },
  {
   "cell_type": "markdown",
   "id": "3ad406f4-3036-4709-8a34-7ddbb35adc82",
   "metadata": {
    "slideshow": {
     "slide_type": "slide"
    },
    "tags": []
   },
   "source": [
    "Voor een typische [coax-kabel](https://en.wikipedia.org/wiki/Coaxial_cable) met binnendiameter 1.2 mm en buiten diameter  2.8 mm bekomen we de volgende parameters:"
   ]
  },
  {
   "cell_type": "code",
   "execution_count": 34,
   "id": "4a5f28d9-bc34-4024-996e-f5d59b83f8d5",
   "metadata": {
    "execution": {
     "iopub.execute_input": "2022-09-18T15:38:27.623963Z",
     "iopub.status.busy": "2022-09-18T15:38:27.623963Z",
     "iopub.status.idle": "2022-09-18T15:38:27.645476Z",
     "shell.execute_reply": "2022-09-18T15:38:27.644473Z",
     "shell.execute_reply.started": "2022-09-18T15:38:27.623963Z"
    },
    "slideshow": {
     "slide_type": "fragment"
    },
    "tags": []
   },
   "outputs": [
    {
     "name": "stdout",
     "output_type": "stream",
     "text": [
      "R = 0.09886 ohms/m\n",
      "L = 169.46 nH/m\n",
      "G = 7.416 S/m\n",
      "C = 65.63 pF/m\n",
      "Zo= 50.81 Ohm\n"
     ]
    }
   ],
   "source": [
    "def coax_parameters(D1,D2,f,e_r,sigma_c,sigma=1,mu=1,mu_c=1,display=True):\n",
    "    e_0 = 8.85e-12 # F/m\n",
    "    mu_0 = 4*np.pi*1e-7 # H/m\n",
    "    Rs = np.sqrt(np.pi*f*mu_0*mu_c/sigma_c)\n",
    "    R_p = Rs/np.pi*(1/D1 +1/D2) # Ohms/m\n",
    "    L_p = mu_0*mu/(2*np.pi)*np.log(D2/D1) #H/m\n",
    "    G_p = 2*np.pi*sigma/np.log(D2/D1) # S/m\n",
    "    C_p = 2*np.pi*e_0*e_r/np.log(D2/D1)\n",
    "    if display:\n",
    "        print(\"R = %2.5f ohms/m\" % (R_p,))\n",
    "        print(\"L = %2.2f nH/m\" % (L_p*1e9,))\n",
    "        print(\"G = %2.3f S/m\" % (G_p,))\n",
    "        print(\"C = %2.2f pF/m\" % (C_p*1e12,))\n",
    "        print(\"Zo= %2.2f Ohm\" % (np.sqrt(L_p/C_p)))\n",
    "    return R_p, L_p, G_p, C_p\n",
    "\n",
    "R_p, L_p, G_p, C_p=coax_parameters(1.2e-3,2.8e-3,1e6,1.0,5.8e7)\n"
   ]
  },
  {
   "cell_type": "markdown",
   "id": "6e78e590-7ead-419d-a25c-779e75ecabc5",
   "metadata": {
    "slideshow": {
     "slide_type": "slide"
    },
    "tags": []
   },
   "source": [
    "\n",
    "Het verloop van de karakteristieke impedantie ziet er voor deze coax kabel uit als aangegeven in {numref}`t_Z-f`"
   ]
  },
  {
   "cell_type": "markdown",
   "id": "6f32abeb",
   "metadata": {
    "slideshow": {
     "slide_type": "slide"
    },
    "tags": [
     "remove_cell",
     "slide_title"
    ]
   },
   "source": [
    "###### Verloop van de karakteristieke impedantie van een RG-58 coax als functie van de frequentie."
   ]
  },
  {
   "cell_type": "code",
   "execution_count": 2,
   "id": "2630bbc4-8fe3-4447-bb7d-595fadf3bf25",
   "metadata": {
    "KULeuvenSlides": {},
    "execution": {
     "iopub.execute_input": "2022-08-14T23:29:34.956042Z",
     "iopub.status.busy": "2022-08-14T23:29:34.954126Z",
     "iopub.status.idle": "2022-08-14T23:29:36.075676Z",
     "shell.execute_reply": "2022-08-14T23:29:36.074558Z",
     "shell.execute_reply.started": "2022-08-14T23:29:34.956042Z"
    },
    "mystnb": {
     "figure": {
      "caption": "Verloop van de karakteristieke impedantie van een RG-58 coax als functie van de frequentie.",
      "name": "t_Z-f"
     }
    },
    "tags": []
   },
   "outputs": [
    {
     "data": {
      "image/png": "[encoded data removed]",
      "text/plain": [
       "<Figure size 864x864 with 2 Axes>"
      ]
     },
     "metadata": {
      "needs_background": "light"
     },
     "output_type": "display_data"
    }
   ],
   "source": [
    "fig,ax = plt.subplots(2,1,figsize=(12,12))\n",
    "w=np.logspace(5,10,50)\n",
    "z=np.sqrt((1.0j*w*273e-9+0.0)/(1.0j*w*93e-12))\n",
    "z2=np.sqrt((1.0j*w*273e-9+0.053)/(1.0j*w*93e-12))\n",
    "z3=np.sqrt((1.0j*w*273e-9+0.005)/(1.0j*w*93e-12))\n",
    "ax[0].plot(w/2/np.pi,abs(z), label=\"R=0 mOhm\")\n",
    "ax[0].plot(w/2/np.pi,abs(z2), label=\"R=53 mOhm\")\n",
    "ax[0].plot(w/2/np.pi,abs(z3), label=\"R=5 mOhm\")\n",
    "ax[1].plot(w/2/np.pi,np.angle(z,deg=True), label=\"R=0 mOhm\")\n",
    "ax[1].plot(w/2/np.pi,np.angle(z2,deg=True), label=\"R=53 mOhm\")\n",
    "ax[1].plot(w/2/np.pi,np.angle(z3,deg=True), label=\"R=5 mOhm\")\n",
    "ax[0].set_xscale('log')\n",
    "ax[0].set_ylabel('Amplitude Karakteristieke Impedantie (Ohm)',size = 10)\n",
    "ax[0].set_xlabel('Frequency (Hz) ',size = 10)\n",
    "ax[1].set_xscale('log')\n",
    "ax[1].set_ylabel('Fase Karakteristieke Impedantie (graden)',size = 10)\n",
    "ax[1].set_xlabel('Frequency (Hz) ',size = 10);\n",
    "ax[0].legend()\n",
    "ax[1].legend();"
   ]
  },
  {
   "cell_type": "markdown",
   "id": "33cce91b-b9a0-4421-b3cc-e08e474c989e",
   "metadata": {
    "slideshow": {
     "slide_type": "skip"
    },
    "tags": []
   },
   "source": [
    "Uit {numref}`t_Z-f` merken we dat bij lage frequenties deze karakteristieke impedantie in belangrijke mate verschilt van 50 Ohm. De negatieve fase geeft aan dat bij lage frequenties de lijn zich capacitief gedraagt."
   ]
  },
  {
   "cell_type": "markdown",
   "id": "96cebfe0-3f3b-4970-b419-91aa5c0e8b4b",
   "metadata": {
    "slideshow": {
     "slide_type": "slide"
    },
    "tags": []
   },
   "source": [
    "## Twisted pair kabel\n",
    "\n",
    "{numref}`twisted_pairdoorsnede` toont de doorsnede van een twisted pair kabel met daarop de belangrijkste parameters voor het bepalen van de C per eenheid lengte en de L per eenheid lengte.\n",
    "\n"
   ]
  },
  {
   "cell_type": "markdown",
   "id": "6224c5cc",
   "metadata": {
    "slideshow": {
     "slide_type": "slide"
    },
    "tags": [
     "remove_cell",
     "slide_title"
    ]
   },
   "source": [
    "###### Doorsnede twisted pair kabel"
   ]
  },
  {
   "cell_type": "code",
   "execution_count": 2,
   "id": "47a3532f-04e1-41c5-8c0b-2b1d6ec7af84",
   "metadata": {
    "KULeuvenSlides": {},
    "execution": {
     "iopub.execute_input": "2022-09-18T14:56:53.799966Z",
     "iopub.status.busy": "2022-09-18T14:56:53.799966Z",
     "iopub.status.idle": "2022-09-18T14:56:53.814704Z",
     "shell.execute_reply": "2022-09-18T14:56:53.813703Z",
     "shell.execute_reply.started": "2022-09-18T14:56:53.799966Z"
    },
    "mystnb": {
     "figure": {
      "caption": "Schematische cross-section van een twisted pair kabel met de aanduiding van de belangrijkste parameters",
      "name": "twisted_pairdoorsnede"
     }
    },
    "tags": []
   },
   "outputs": [
    {
     "data": {
      "image/png": "[encoded data removed]",
      "text/plain": [
       "<IPython.core.display.Image object>"
      ]
     },
     "execution_count": 2,
     "metadata": {},
     "output_type": "execute_result"
    }
   ],
   "source": [
    "display.Image(\"./images/twisted_pair.png\")"
   ]
  },
  {
   "cell_type": "markdown",
   "id": "d4996467-3a8a-4bb4-9e37-490e02b250f8",
   "metadata": {
    "slideshow": {
     "slide_type": "skip"
    },
    "tags": []
   },
   "source": [
    "## striplijn\n",
    "\n"
   ]
  },
  {
   "cell_type": "markdown",
   "id": "4a8e725a-e0c9-4aaa-b2f1-208218c9538a",
   "metadata": {
    "slideshow": {
     "slide_type": "slide"
    },
    "tags": []
   },
   "source": [
    "## Microstriplijn\n",
    "\n",
    "De relevante parameters hier zijn de breedte van het baantje ($w$) en de  dikte van het dielectricum ($h$). Natuurlijk speelt de relatieve permitiviteit van het dielectricum ($\\epsilon_r$) ook mee."
   ]
  },
  {
   "cell_type": "code",
   "execution_count": 1,
   "id": "4b7625ee-4133-4a5a-954a-bfc3c94a4597",
   "metadata": {
    "collapsed": false,
    "execution": {
     "iopub.execute_input": "2022-02-01T22:07:20.559639Z",
     "iopub.status.busy": "2022-02-01T22:07:20.559639Z",
     "iopub.status.idle": "2022-02-01T22:07:20.590890Z",
     "shell.execute_reply": "2022-02-01T22:07:20.590890Z",
     "shell.execute_reply.started": "2022-02-01T22:07:20.559639Z"
    },
    "jupyter": {
     "outputs_hidden": false
    },
    "slideshow": {
     "slide_type": "skip"
    },
    "tags": []
   },
   "outputs": [],
   "source": [
    "def mstrip_anal(s,er):\n",
    "    \"\"\"\n",
    "    Microstrip zero thickness strips design function\n",
    "    \n",
    "    s = w/h\n",
    "    er = material relative permittivity\n",
    "    \n",
    "    Z0 returned\n",
    "    e_eff returned\n",
    "\n",
    "    \"\"\"\n",
    "    e_eff = eps_eff(s,er)\n",
    "    t = (30.67/s)**0.75\n",
    "    Z0 = 60/np.sqrt(e_eff) * \\\n",
    "         np.log((6+(2*np.pi-6)*np.exp(-t))/s + np.sqrt(1+4/s**2))\n",
    "    return Z0, e_eff\n",
    "\n",
    "def mstrip_dsgn(Z0,er):\n",
    "    \"\"\"\n",
    "    Mircostrip zero thickness strips design function\n",
    "    \n",
    "    Z0 = desired characteristic impedance\n",
    "    er = material relative permittivity\n",
    "    \n",
    "    s = w/h is returned\n",
    "    e_eff returned\n",
    "    \n",
    "    \"\"\"\n",
    "    if Z0 <= (44-2*er):\n",
    "        q = 60*np.pi*np.pi/(Z0*np.sqrt(er))\n",
    "        s = 2/np.pi*((q-1)-np.log(2*q-1) + \\\n",
    "                 (er-1)/(2*er)*(np.log(q-1)+0.29-0.52/er))\n",
    "        \n",
    "    else:\n",
    "        p = np.sqrt((er+1)/2)*Z0/60+(er-1)/(er+1)*(0.23 + 0.12/er)\n",
    "        s = 8*np.exp(p)/(np.exp(2*p)-2)\n",
    "    e_eff = eps_eff(s,er)\n",
    "    return s, e_eff\n",
    "\n",
    "def eps_eff(s,er):\n",
    "    \"\"\"\n",
    "    Find microstrip e_eff given s = w/h and er\n",
    "    \"\"\"\n",
    "    x = 0.56*((er-0.9)/(er+3))**0.05\n",
    "    y = 1 + 0.02*np.log((s**4 + 3.7e-4*s**2)/(s**4+0.43)) + \\\n",
    "        0.05*np.log(1+1.7e-4*s**3)\n",
    "    e_eff = (er+1)/2 + (er-1)/2*(1+10/s)**(-x*y)\n",
    "    return e_eff\n",
    "\n",
    "def mstrip_extra(Z0,er,f = 1e9,h = 1):\n",
    "    \"\"\"\n",
    "    Extra parameters: L', C', beta, \\lambda_g\n",
    "    \n",
    "    Z0 = characteristic impedance in Ohms\n",
    "    er = relative permittivity\n",
    "    f = operatng frequency in Hz\n",
    "    h = substrate height in m\n",
    "    \"\"\"\n",
    "    c = 3e8 # m/s\n",
    "    s, e_eff = mstrip_dsgn(Z0,er)\n",
    "    C_p = np.sqrt(e_eff)/(Z0*c) # F/m\n",
    "    L_p = Z0**2*C_p  #H/m\n",
    "    R_p = 0\n",
    "    G_p = 0\n",
    "    alpha = 0\n",
    "    beta = 2*np.pi/c*np.sqrt(e_eff) # rad/m\n",
    "    lambda_g = c/np.sqrt(e_eff)/f # m\n",
    "    print('Breedte van het baantje w = %1.3e mm, Rel. perm: e_eff = %2.3f' % (s*h*1000,e_eff))\n",
    "    print('Breedte van het baantje  w = %1.3e mils (vaak voorkomende PCB eenheid)' % (s*h*1000/0.0254,))\n",
    "    print('-----------------------------------------------------')\n",
    "    print(\"Weerstand per eenheid lengte: R' = 0 ohms/m\")\n",
    "    print(\"Inductantie per eenheid lengte: L' = %1.3e nH/m\" % (L_p*1e9,))\n",
    "    print(\"lek geleidbaarheid per eenheid lengte: G' = 0 S/n\")\n",
    "    print(\"Capaciteit per eenheid lengte: C' = %1.3e pF/m\" % (C_p*1e12,))\n",
    "    print('-----------------------------------------------------')\n",
    "    print('Golflengte in de vrije ruimte: lambda = %1.3e cm' % (c/f*1e2,))\n",
    "    print('Golflengte in het medium (guide): lambda_g = %1.3e cm' % (lambda_g*1e2,))"
   ]
  },
  {
   "cell_type": "markdown",
   "id": "a78581da-a77a-4f62-a470-226cef483e28",
   "metadata": {
    "slideshow": {
     "slide_type": "slide"
    },
    "tags": []
   },
   "source": [
    "Een voorbeeld: \n",
    "\n",
    "We willen een 50 Ohm transmissielijn bekomen voor een 2.4 GHz signaal op een PCB waarvan de relatieve permitiviteit van het dielectricum $\\epsilon_r$=4.6. De dikte van het dielectricum is 1/16 inch"
   ]
  },
  {
   "cell_type": "code",
   "execution_count": 9,
   "id": "a11103b5-480c-4dc9-a5c5-d03c7b26edd1",
   "metadata": {
    "collapsed": false,
    "execution": {
     "iopub.execute_input": "2022-01-04T16:07:02.503973Z",
     "iopub.status.busy": "2022-01-04T16:07:02.502965Z",
     "iopub.status.idle": "2022-01-04T16:07:02.518921Z",
     "shell.execute_reply": "2022-01-04T16:07:02.518921Z",
     "shell.execute_reply.started": "2022-01-04T16:07:02.503973Z"
    },
    "jupyter": {
     "outputs_hidden": false
    },
    "tags": []
   },
   "outputs": [
    {
     "name": "stdout",
     "output_type": "stream",
     "text": [
      "Breedte van het baantje w = 2.931e+00 mm, Rel. perm: e_eff = 3.460\n",
      "Breedte van het baantje  w = 1.154e+02 mils (vaak voorkomende PCB eenheid)\n",
      "-----------------------------------------------------\n",
      "Weerstand per eenheid lengte: R' = 0 ohms/m\n",
      "Inductantie per eenheid lengte: L' = 3.100e+02 nH/m\n",
      "lek geleidbaarheid per eenheid lengte: G' = 0 S/n\n",
      "Capaciteit per eenheid lengte: C' = 1.240e+02 pF/m\n",
      "-----------------------------------------------------\n",
      "Golflengte in de vrije ruimte: lambda = 1.250e+01 cm\n",
      "Golflengte in het medium (guide): lambda_g = 6.720e+00 cm\n"
     ]
    }
   ],
   "source": [
    "mstrip_extra(50,4.6,f= 2.4e9,h=1/16*2.54*1/100) #in*cm/in*m/cm"
   ]
  },
  {
   "cell_type": "code",
   "execution_count": 7,
   "id": "b8623f01-8dab-4352-a078-4cd773a60569",
   "metadata": {
    "collapsed": false,
    "execution": {
     "iopub.execute_input": "2022-01-04T16:06:16.807315Z",
     "iopub.status.busy": "2022-01-04T16:06:16.806286Z",
     "iopub.status.idle": "2022-01-04T16:06:16.812295Z",
     "shell.execute_reply": "2022-01-04T16:06:16.812295Z",
     "shell.execute_reply.started": "2022-01-04T16:06:16.807315Z"
    },
    "jupyter": {
     "outputs_hidden": false
    }
   },
   "outputs": [
    {
     "name": "stdout",
     "output_type": "stream",
     "text": [
      "Quart golflengte bij 2.4 GHz  = 1.680 cm\n"
     ]
    }
   ],
   "source": [
    "print('Quart golflengte bij 2.4 GHz  = %1.3f cm' % (6.72/4,))"
   ]
  },
  {
   "cell_type": "code",
   "execution_count": 5,
   "id": "ff33fae4-6a66-474c-afcb-ca449c170028",
   "metadata": {
    "execution": {
     "iopub.execute_input": "2022-02-01T22:11:50.953506Z",
     "iopub.status.busy": "2022-02-01T22:11:50.953506Z",
     "iopub.status.idle": "2022-02-01T22:11:50.969116Z",
     "shell.execute_reply": "2022-02-01T22:11:50.969116Z",
     "shell.execute_reply.started": "2022-02-01T22:11:50.953506Z"
    },
    "tags": []
   },
   "outputs": [
    {
     "name": "stdout",
     "output_type": "stream",
     "text": [
      "Breedte van het baantje w = 1.884e+00 mm, Rel. perm: e_eff = 3.338\n",
      "Breedte van het baantje  w = 7.418e+01 mils (vaak voorkomende PCB eenheid)\n",
      "-----------------------------------------------------\n",
      "Weerstand per eenheid lengte: R' = 0 ohms/m\n",
      "Inductantie per eenheid lengte: L' = 3.898e+02 nH/m\n",
      "lek geleidbaarheid per eenheid lengte: G' = 0 S/n\n",
      "Capaciteit per eenheid lengte: C' = 9.516e+01 pF/m\n",
      "-----------------------------------------------------\n",
      "Golflengte in de vrije ruimte: lambda = 6.000e+01 cm\n",
      "Golflengte in het medium (guide): lambda_g = 3.284e+01 cm\n"
     ]
    }
   ],
   "source": [
    "mstrip_extra(64,4.6,f= 0.5e9,h=1/16*2.54*1/100) #in*cm/in*m/cm"
   ]
  },
  {
   "cell_type": "markdown",
   "id": "7f23043e-791f-4b60-8f84-fecb54577bda",
   "metadata": {
    "slideshow": {
     "slide_type": "slide"
    },
    "tags": []
   },
   "source": [
    "## Microstrip Analyse Plots\n",
    "We vergelijken 3 types: Micro-fiber PTFE, FR4, en Ceramisch-gevulde PTFE voor een aantal waardes van $w/h$."
   ]
  },
  {
   "cell_type": "markdown",
   "id": "efa971ec",
   "metadata": {
    "slideshow": {
     "slide_type": "slide"
    },
    "tags": [
     "remove_cell",
     "slide_title"
    ]
   },
   "source": [
    "###### Verloop van de karakteristieke impedantie van een microstriplijn als functie van de dimmensies."
   ]
  },
  {
   "cell_type": "code",
   "execution_count": 24,
   "id": "b679539b-100b-423a-99b2-beba9b71929d",
   "metadata": {
    "KULeuvenSlides": {},
    "execution": {
     "iopub.execute_input": "2021-12-06T23:06:22.729914Z",
     "iopub.status.busy": "2021-12-06T23:06:22.729914Z",
     "iopub.status.idle": "2021-12-06T23:06:23.575155Z",
     "shell.execute_reply": "2021-12-06T23:06:23.574158Z",
     "shell.execute_reply.started": "2021-12-06T23:06:22.729914Z"
    },
    "jupyter": {
     "source_hidden": true
    },
    "mystnb": {
     "figure": {
      "caption": "Verloop van de karakteristieke impedantie van een microstriplijn als functie van de dimmensies.",
      "name": "microstrip_ZvW"
     }
    },
    "tags": []
   },
   "outputs": [
    {
     "data": {
      "image/png": "[encoded data removed]",
      "text/plain": [
       "<Figure size 432x288 with 1 Axes>"
      ]
     },
     "metadata": {
      "needs_background": "light"
     },
     "output_type": "display_data"
    }
   ],
   "source": [
    "s = np.arange(0.01,10,.01)\n",
    "Z0 = np.zeros_like(s)\n",
    "e_eff = np.zeros_like(s)\n",
    "er = (2.2,4.6,11.2)\n",
    "for m in range(3):\n",
    "    for k,sk in enumerate(s):\n",
    "        Z0[k],e_eff[k] = mstrip_anal(sk,er[m])\n",
    "    plt.plot(s,Z0)\n",
    "plt.ylim([0,200])\n",
    "plt.xlabel(r'$w/h$')\n",
    "plt.ylabel(r'$Z_0$')\n",
    "plt.title(r'Microstrip Analysis: $Z_0$ vs $w/h$')\n",
    "plt.legend((r'MF-PTFE: $\\epsilon_r = 2.2$',r'FR-4: $\\epsilon_r=4.6$',\n",
    "        r'CF_PTFE: $\\epsilon_r=11.2$'),loc='best')\n",
    "plt.grid();"
   ]
  },
  {
   "cell_type": "markdown",
   "id": "c304989e",
   "metadata": {
    "slideshow": {
     "slide_type": "slide"
    },
    "tags": [
     "remove_cell",
     "slide_title"
    ]
   },
   "source": [
    "###### Verloop van de dielectrische constante van een microstriplijn als functie van de dimmensies."
   ]
  },
  {
   "cell_type": "code",
   "execution_count": 12,
   "id": "8b84b457-0829-46df-b9b6-7df774cfd718",
   "metadata": {
    "KULeuvenSlides": {},
    "execution": {
     "iopub.execute_input": "2022-01-04T16:20:59.864017Z",
     "iopub.status.busy": "2022-01-04T16:20:59.864017Z",
     "iopub.status.idle": "2022-01-04T16:21:00.652457Z",
     "shell.execute_reply": "2022-01-04T16:21:00.652457Z",
     "shell.execute_reply.started": "2022-01-04T16:20:59.864017Z"
    },
    "jupyter": {
     "source_hidden": true
    },
    "mystnb": {
     "figure": {
      "caption": "Verloop van de dielectrische constante van een microstriplijn als functie van de dimmensies.",
      "name": "microstrip_evW"
     }
    },
    "tags": []
   },
   "outputs": [
    {
     "data": {
      "image/png": "[encoded data removed]",
      "text/plain": [
       "<Figure size 432x288 with 1 Axes>"
      ]
     },
     "metadata": {
      "needs_background": "light"
     },
     "output_type": "display_data"
    }
   ],
   "source": [
    "s = np.arange(0.01,10,.01)\n",
    "Z0 = np.zeros_like(s)\n",
    "e_eff = np.zeros_like(s)\n",
    "er = (2.2,4.6,11.2)\n",
    "for m in range(3):\n",
    "    for k,sk in enumerate(s):\n",
    "        Z0[k],e_eff[k] = mstrip_anal(sk,er[m])\n",
    "    plt.plot(s,e_eff)\n",
    "plt.ylim([0,10])\n",
    "plt.xlabel(r'$w/h$')\n",
    "plt.ylabel(r'$\\epsilon_{eff}$')\n",
    "plt.title(r'Microstrip Analyse: $\\epsilon_{eff}$ vs $w/h$')\n",
    "plt.legend((r'$\\epsilon_r = 2.2$',r'$\\epsilon_r=4.6$',\n",
    "        r'$\\epsilon_r=11.2$'),loc='best')\n",
    "plt.grid();"
   ]
  },
  {
   "cell_type": "markdown",
   "id": "6ddff636-1d2e-459a-acfa-c422350a7fc0",
   "metadata": {
    "slideshow": {
     "slide_type": "slide"
    },
    "tags": []
   },
   "source": [
    "## Microstrip Design Plots\n",
    "\n",
    "Voor het design doen we eigenlijk het omgekeerde van de analyse: we vertrekken van een gevraagde $Z_o$ en we rekenen uit wat de $w$ en $h$ moeten zijn om dit te bekomen.\n",
    "We vergelijken 3 types: Micro-fiber PTFE, FR4, en Ceramisch-gevulde PTFE voor een aantal waardes van $w/h$."
   ]
  },
  {
   "cell_type": "markdown",
   "id": "bb2e2f2c",
   "metadata": {
    "slideshow": {
     "slide_type": "slide"
    },
    "tags": [
     "remove_cell",
     "slide_title"
    ]
   },
   "source": [
    "###### dimmensies om de vereiste karakteristieke impedantie van een microstriplijn te bekomen."
   ]
  },
  {
   "cell_type": "code",
   "execution_count": 18,
   "id": "7bd9314d-5cc4-41e3-a283-50865b35b74d",
   "metadata": {
    "KULeuvenSlides": {},
    "execution": {
     "iopub.execute_input": "2022-01-04T16:24:14.057266Z",
     "iopub.status.busy": "2022-01-04T16:24:14.057266Z",
     "iopub.status.idle": "2022-01-04T16:24:14.345493Z",
     "shell.execute_reply": "2022-01-04T16:24:14.345493Z",
     "shell.execute_reply.started": "2022-01-04T16:24:14.057266Z"
    },
    "jupyter": {
     "source_hidden": true
    },
    "mystnb": {
     "figure": {
      "caption": "dimmensies om de vereiste karakteristieke impedantie van een microstriplijn te bekomen.",
      "name": "microstrip_WvZ"
     }
    },
    "tags": []
   },
   "outputs": [
    {
     "data": {
      "image/png": "[encoded data removed]",
      "text/plain": [
       "<Figure size 432x288 with 1 Axes>"
      ]
     },
     "metadata": {
      "needs_background": "light"
     },
     "output_type": "display_data"
    }
   ],
   "source": [
    "Z0 = np.arange(20,140,.1)\n",
    "s = np.zeros_like(Z0)\n",
    "e_eff = np.zeros_like(Z0)\n",
    "er = (2.2,4.6,11.2)\n",
    "for m in range(3):\n",
    "    for k,Z0k in enumerate(Z0):\n",
    "        s[k],e_eff[k] = mstrip_dsgn(Z0k,er[m])\n",
    "    plt.plot(Z0,s)\n",
    "plt.ylim([0,10])\n",
    "plt.xlabel(r'$Z_0$')\n",
    "plt.ylabel(r'$w/h$')\n",
    "plt.title(r'Microstrip Design: $w/h$ vs $Z_0$')\n",
    "plt.legend((r'MF-PTFE: $\\epsilon_r = 2.2$',r'FR-4: $\\epsilon_r=4.6$',\n",
    "        r'CF_PTFE: $\\epsilon_r=11.2$'),loc='best')\n",
    "plt.grid();"
   ]
  },
  {
   "cell_type": "markdown",
   "id": "61aa7d3b",
   "metadata": {
    "slideshow": {
     "slide_type": "slide"
    },
    "tags": [
     "remove_cell",
     "slide_title"
    ]
   },
   "source": [
    "###### De relatie tussen effectieve dielectrische constante en karakteristieke impedantie."
   ]
  },
  {
   "cell_type": "code",
   "execution_count": 21,
   "id": "9fbd06d5-1b4c-4fce-a8aa-b0c5298f47b2",
   "metadata": {
    "KULeuvenSlides": {},
    "execution": {
     "iopub.execute_input": "2022-01-04T16:26:38.610558Z",
     "iopub.status.busy": "2022-01-04T16:26:38.609560Z",
     "iopub.status.idle": "2022-01-04T16:26:38.985555Z",
     "shell.execute_reply": "2022-01-04T16:26:38.984556Z",
     "shell.execute_reply.started": "2022-01-04T16:26:38.610558Z"
    },
    "jupyter": {
     "source_hidden": true
    },
    "mystnb": {
     "figure": {
      "caption": "De relatie tussen effectieve dielectrische constante en karakteristieke impedantie.",
      "name": "microstrip_evZ"
     }
    },
    "tags": []
   },
   "outputs": [
    {
     "data": {
      "image/png": "[encoded data removed]",
      "text/plain": [
       "<Figure size 432x288 with 1 Axes>"
      ]
     },
     "metadata": {
      "needs_background": "light"
     },
     "output_type": "display_data"
    }
   ],
   "source": [
    "for m in range(3):\n",
    "    for k,Z0k in enumerate(Z0):\n",
    "        s[k],e_eff[k] = mstrip_dsgn(Z0k,er[m])\n",
    "    plt.plot(Z0,e_eff)\n",
    "plt.ylim([1,10])\n",
    "plt.xlabel(r'$Z_0$')\n",
    "plt.ylabel(r'$\\epsilon_{eff}$')\n",
    "plt.title(r'Microstrip Design: $\\epsilon_{eff}$ vs $Z_0$')\n",
    "plt.legend((r'MF-PTFE: $\\epsilon_r = 2.2$',r'FR-4: $\\epsilon_r=4.6$',\n",
    "        r'CF_PTFE: $\\epsilon_r=11.2$'),loc='best')\n",
    "plt.grid();"
   ]
  },
  {
   "cell_type": "code",
   "execution_count": null,
   "id": "de008e6c-70fd-4acb-93c3-a104b1b1a6a2",
   "metadata": {},
   "outputs": [],
   "source": []
  }
 ],
 "metadata": {
  "@deathbeds/jupyterlab-fonts": {
   "styles": {
    ".MathJax_Display": {
     "body[data-jp-deck-mode='presenting'] &": {
      "font-size": "8vh"
     }
    },
    "h6": {
     "body[data-jp-deck-mode='presenting'] &": {
      "color": "#1D8DB0",
      "font-size": "4vh",
      "font-weight": "bold",
      "height": "9vh",
      "letter-spacing": "normal",
      "line-height": "1.0",
      "margin": "0 0 0 0",
      "max-height": "85vh",
      "max-width": "95vw",
      "object-fit": "contain",
      "text-align": "center",
      "text-shadow": "none",
      "text-transform": "uppercase",
      "top": "0vh",
      "word-wrap": "break-word"
     }
    },
    "img": {
     "body[data-jp-deck-mode='presenting'] &": {
      "height": "75vh",
      "left": "0vw",
      "object-fit": "contain",
      "top": "0vh",
      "width": "100vw"
     }
    }
   }
  },
  "KULeuvenSlides": {
   "authors": "Jan Genoe",
   "date": "Februari 2022",
   "kuleuven_presentation_style": "1425",
   "subtitle": "Modellen voor AC analyse",
   "title": "Transmissielijnen"
  },
  "citation-manager": {
   "items": {}
  },
  "kernelspec": {
   "display_name": "KULeuven",
   "language": "python",
   "name": "kuleuven"
  },
  "language_info": {
   "codemirror_mode": {
    "name": "ipython",
    "version": 3
   },
   "file_extension": ".py",
   "mimetype": "text/x-python",
   "name": "python",
   "nbconvert_exporter": "python",
   "pygments_lexer": "ipython3",
   "version": "3.8.13"
  },
  "widgets": {
   "application/vnd.jupyter.widget-state+json": {
    "state": {},
    "version_major": 2,
    "version_minor": 0
   }
  }
 },
 "nbformat": 4,
 "nbformat_minor": 5
}
