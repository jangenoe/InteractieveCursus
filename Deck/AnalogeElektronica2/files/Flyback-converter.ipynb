{
 "cells": [
  {
   "cell_type": "markdown",
   "id": "15d19362-ca19-497f-8640-f1e46dd09a7a",
   "metadata": {
    "slideshow": {
     "slide_type": "skip"
    },
    "tags": [
     "remove_cell4reveal"
    ]
   },
   "source": [
    "# Flyback converter"
   ]
  },
  {
   "cell_type": "markdown",
   "id": "5674014f-b027-4240-85e2-1c9d9e27a3c4",
   "metadata": {
    "slideshow": {
     "slide_type": "skip"
    },
    "tags": []
   },
   "source": [
    "<a href=\"./slides/Flyback-converter.slides.html\" target=\"_blank\">![slides](./images/slides-beschikbaar-blue.svg)</a> \n",
    "<a href=\"../Lite/AnalogeElektronica2/lab?path=Flyback-converter.ipynb\" target=\"_blank\">![slides](./images/open_in-JupyterLite-blue.svg)</a>\n",
    "<a href=\"../Deck/AnalogeElektronica2/lab?path=Flyback-converter.ipynb\" target=\"_blank\">![slides](./images/JupyterDeck-slides-blue.svg)</a>"
   ]
  },
  {
   "cell_type": "code",
   "execution_count": null,
   "id": "f5fab484-f77a-448f-9aad-7a82fd92f44c",
   "metadata": {
    "jupyter": {
     "source_hidden": true
    },
    "slideshow": {
     "slide_type": "slide"
    },
    "tags": [
     "hide-input"
    ]
   },
   "outputs": [],
   "source": []
  },
  {
   "cell_type": "markdown",
   "id": "6b225d41",
   "metadata": {
    "slideshow": {
     "slide_type": "slide"
    },
    "tags": [
     "remove_cell",
     "slide_overzicht"
    ]
   },
   "source": [
    "######  Overzicht\n",
    " \n"
   ]
  }
 ],
 "metadata": {
  "KULeuvenSlides": {
   "authors": "Jan Genoe",
   "date": "Februari 2022",
   "kuleuven_presentation_style": "1425",
   "subtitle": "Schakelende voeding aan de hand van een transformator",
   "title": "Flyback Converter"
  },
  "citation-manager": {
   "items": {}
  },
  "kernelspec": {
   "display_name": "KULeuven",
   "language": "python",
   "name": "kuleuven"
  },
  "language_info": {
   "codemirror_mode": {
    "name": "ipython",
    "version": 3
   },
   "file_extension": ".py",
   "mimetype": "text/x-python",
   "name": "python",
   "nbconvert_exporter": "python",
   "pygments_lexer": "ipython3",
   "version": "3.10.8"
  },
  "widgets": {
   "application/vnd.jupyter.widget-state+json": {
    "state": {},
    "version_major": 2,
    "version_minor": 0
   }
  }
 },
 "nbformat": 4,
 "nbformat_minor": 5
}
