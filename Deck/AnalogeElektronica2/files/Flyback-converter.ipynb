{
 "cells": [
  {
   "cell_type": "markdown",
   "id": "222efe3e",
   "metadata": {
    "@deathbeds/jupyterlab-fonts": {
     "styles": {
      "": {
       "body[data-jp-deck-mode='presenting'] &": {
        "height": "82%",
        "left": "-4%",
        "position": "fixed",
        "top": "7.5%",
        "width": "110%"
       }
      }
     }
    },
    "jupyterlab-deck": {
     "layer": "slide"
    },
    "slideshow": {
     "slide_type": "slide"
    },
    "tags": [
     "remove_cell",
     "remove_cell4reveal"
    ]
   },
   "source": [
    "<div style = \"height: 700px; width:100%; background-color:#1D8DB0; color:#fff\"></div>"
   ]
  },
  {
   "cell_type": "markdown",
   "id": "6533bc0e",
   "metadata": {
    "@deathbeds/jupyterlab-fonts": {
     "styles": {
      "": {
       "body[data-jp-deck-mode='presenting'] &": {
        "height": "13.7%",
        "left": "9.2%",
        "position": "fixed",
        "top": "-15%",
        "width": "20.4%"
       }
      }
     }
    },
    "jupyterlab-deck": {
     "layer": "slide"
    },
    "tags": [
     "remove_cell",
     "remove_cell4reveal"
    ]
   },
   "source": [
    "<img src=\"./images/KULeuven.png\" >"
   ]
  },
  {
   "cell_type": "markdown",
   "id": "15d19362-ca19-497f-8640-f1e46dd09a7a",
   "metadata": {
    "@deathbeds/jupyterlab-fonts": {
     "styles": {
      "": {
       "body[data-jp-deck-mode='presenting'] &": {
        "position": "fixed",
        "top": "-17.5%"
       }
      }
     }
    },
    "tags": [
     "remove_cell4reveal"
    ]
   },
   "source": [
    "# Flyback converter"
   ]
  },
  {
   "cell_type": "markdown",
   "id": "5674014f-b027-4240-85e2-1c9d9e27a3c4",
   "metadata": {
    "slideshow": {
     "slide_type": "skip"
    },
    "tags": []
   },
   "source": [
    "<a href=\"./slides/Flyback-converter.slides.html\" target=\"_blank\">![slides](./images/slides-beschikbaar-blue.svg)</a> \n",
    "<a href=\"../Lite/AnalogeElektronica2/lab?path=Flyback-converter.ipynb\" target=\"_blank\">![slides](./images/open_in-JupyterLite-blue.svg)</a>\n",
    "<a href=\"../Deck/AnalogeElektronica2/lab?path=Flyback-converter.ipynb\" target=\"_blank\">![slides](./images/JupyterDeck-slides-blue.svg)</a>"
   ]
  },
  {
   "cell_type": "markdown",
   "id": "97c9e271",
   "metadata": {
    "@deathbeds/jupyterlab-fonts": {
     "styles": {
      "": {
       "body[data-jp-deck-mode='presenting'] &": {
        "height": "11%",
        "left": "-4%",
        "position": "fixed",
        "top": "95%",
        "width": "110%"
       }
      }
     }
    },
    "jupyterlab-deck": {
     "layer": "deck"
    },
    "tags": [
     "remove_cell",
     "remove_cell4reveal"
    ]
   },
   "source": [
    "<div style = \"height: 50px; width:100%; background-color:#1D8DB0;\"></div>"
   ]
  },
  {
   "cell_type": "markdown",
   "id": "40db7992",
   "metadata": {
    "@deathbeds/jupyterlab-fonts": {
     "styles": {
      "": {
       "body[data-jp-deck-mode='presenting'] &": {
        "left": "91%",
        "position": "fixed",
        "top": "60%",
        "width": "6%"
       }
      }
     }
    },
    "jupyterlab-deck": {
     "layer": "deck"
    },
    "tags": [
     "remove_cell",
     "remove_cell4reveal"
    ]
   },
   "source": [
    "<img src=\"./images/KULeuven.png\" >"
   ]
  },
  {
   "cell_type": "code",
   "execution_count": null,
   "id": "f5fab484-f77a-448f-9aad-7a82fd92f44c",
   "metadata": {
    "jupyter": {
     "source_hidden": true
    },
    "slideshow": {
     "slide_type": "slide"
    },
    "tags": [
     "hide-input"
    ]
   },
   "outputs": [],
   "source": []
  },
  {
   "cell_type": "markdown",
   "id": "6b225d41",
   "metadata": {
    "slideshow": {
     "slide_type": "slide"
    },
    "tags": [
     "remove_cell",
     "slide_overzicht"
    ]
   },
   "source": [
    "######  Overzicht\n",
    " \n"
   ]
  }
 ],
 "metadata": {
  "KULeuvenSlides": {
   "authors": "Jan Genoe",
   "date": "Februari 2022",
   "kuleuven_presentation_style": "1425",
   "subtitle": "Schakelende voeding aan de hand van een transformator",
   "title": "Flyback Converter"
  },
  "citation-manager": {
   "items": {}
  },
  "kernelspec": {
   "display_name": "KULeuven",
   "language": "python",
   "name": "kuleuven"
  },
  "language_info": {
   "codemirror_mode": {
    "name": "ipython",
    "version": 3
   },
   "file_extension": ".py",
   "mimetype": "text/x-python",
   "name": "python",
   "nbconvert_exporter": "python",
   "pygments_lexer": "ipython3",
   "version": "3.8.13"
  },
  "widgets": {
   "application/vnd.jupyter.widget-state+json": {
    "state": {},
    "version_major": 2,
    "version_minor": 0
   }
  }
 },
 "nbformat": 4,
 "nbformat_minor": 5
}
