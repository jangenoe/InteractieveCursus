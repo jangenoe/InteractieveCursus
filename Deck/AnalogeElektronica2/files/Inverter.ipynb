{
 "cells": [
  {
   "cell_type": "markdown",
   "id": "f0cb26c8",
   "metadata": {
    "@deathbeds/jupyterlab-fonts": {
     "styles": {
      "": {
       "body[data-jp-deck-mode='presenting'] &": {
        "height": "82%",
        "left": "-4%",
        "position": "fixed",
        "top": "7.5%",
        "width": "110%"
       }
      }
     }
    },
    "jupyterlab-deck": {
     "layer": "slide"
    },
    "slideshow": {
     "slide_type": "slide"
    },
    "tags": [
     "remove_cell",
     "remove_cell4reveal"
    ]
   },
   "source": [
    "<div style = \"height: 700px; width:100%; background-color:#1D8DB0; color:#fff\"></div>"
   ]
  },
  {
   "cell_type": "markdown",
   "id": "d9b7e339",
   "metadata": {
    "@deathbeds/jupyterlab-fonts": {
     "styles": {
      "": {
       "body[data-jp-deck-mode='presenting'] &": {
        "height": "13.7%",
        "left": "9.2%",
        "position": "fixed",
        "top": "-15%",
        "width": "20.4%"
       }
      }
     }
    },
    "jupyterlab-deck": {
     "layer": "slide"
    },
    "tags": [
     "remove_cell",
     "remove_cell4reveal"
    ]
   },
   "source": [
    "<img src=\"./images/KULeuven.png\" >"
   ]
  },
  {
   "cell_type": "markdown",
   "id": "90a307a5-fb46-4d8d-aa4e-8b9c3be1c865",
   "metadata": {
    "@deathbeds/jupyterlab-fonts": {
     "styles": {
      "": {
       "body[data-jp-deck-mode='presenting'] &": {
        "position": "fixed",
        "top": "-17.5%"
       }
      }
     }
    },
    "tags": [
     "remove_cell4reveal"
    ]
   },
   "source": [
    "# Inverter of Buck-Boost Converter"
   ]
  },
  {
   "cell_type": "markdown",
   "id": "b3deb7a6-fff5-4035-b205-b03d5e1459b9",
   "metadata": {
    "slideshow": {
     "slide_type": "skip"
    },
    "tags": []
   },
   "source": [
    "<a href=\"./slides/Inverter.slides.html\" target=\"_blank\">![slides](./images/slides-beschikbaar-blue.svg)</a> \n",
    "<a href=\"../Lite/AnalogeElektronica2/lab?path=Inverter.ipynb\" target=\"_blank\">![slides](./images/open_in-JupyterLite-blue.svg)</a>\n",
    "<a href=\"../Deck/AnalogeElektronica2/lab?path=Inverter.ipynb\" target=\"_blank\">![slides](./images/JupyterDeck-slides-blue.svg)</a>"
   ]
  },
  {
   "cell_type": "markdown",
   "id": "9862e074",
   "metadata": {
    "@deathbeds/jupyterlab-fonts": {
     "styles": {
      "": {
       "body[data-jp-deck-mode='presenting'] &": {
        "height": "11%",
        "left": "-4%",
        "position": "fixed",
        "top": "95%",
        "width": "110%"
       }
      }
     }
    },
    "jupyterlab-deck": {
     "layer": "deck"
    },
    "tags": [
     "remove_cell",
     "remove_cell4reveal"
    ]
   },
   "source": [
    "<div style = \"height: 50px; width:100%; background-color:#1D8DB0;\"></div>"
   ]
  },
  {
   "cell_type": "markdown",
   "id": "1344cbe6",
   "metadata": {
    "@deathbeds/jupyterlab-fonts": {
     "styles": {
      "": {
       "body[data-jp-deck-mode='presenting'] &": {
        "left": "91%",
        "position": "fixed",
        "top": "60%",
        "width": "6%"
       }
      }
     }
    },
    "jupyterlab-deck": {
     "layer": "deck"
    },
    "tags": [
     "remove_cell",
     "remove_cell4reveal"
    ]
   },
   "source": [
    "<img src=\"./images/KULeuven.png\" >"
   ]
  },
  {
   "cell_type": "markdown",
   "id": "22fa3df8-a86b-47c2-8737-4b49f8f5ce15",
   "metadata": {},
   "source": []
  },
  {
   "cell_type": "markdown",
   "id": "1ae89777",
   "metadata": {
    "slideshow": {
     "slide_type": "slide"
    },
    "tags": [
     "remove_cell",
     "slide_overzicht"
    ]
   },
   "source": [
    "######  Overzicht\n",
    " \n"
   ]
  }
 ],
 "metadata": {
  "KULeuvenSlides": {
   "authors": "Jan Genoe",
   "date": "Februari 2022",
   "kuleuven_presentation_style": "1425",
   "subtitle": "Schakelende voeding voor een omgekeerde spanning",
   "title": "Inverter of Buck-Boost Converter"
  },
  "citation-manager": {
   "items": {}
  },
  "kernelspec": {
   "display_name": "KULeuven",
   "language": "python",
   "name": "kuleuven"
  },
  "language_info": {
   "codemirror_mode": {
    "name": "ipython",
    "version": 3
   },
   "file_extension": ".py",
   "mimetype": "text/x-python",
   "name": "python",
   "nbconvert_exporter": "python",
   "pygments_lexer": "ipython3",
   "version": "3.8.13"
  },
  "widgets": {
   "application/vnd.jupyter.widget-state+json": {
    "state": {},
    "version_major": 2,
    "version_minor": 0
   }
  }
 },
 "nbformat": 4,
 "nbformat_minor": 5
}
