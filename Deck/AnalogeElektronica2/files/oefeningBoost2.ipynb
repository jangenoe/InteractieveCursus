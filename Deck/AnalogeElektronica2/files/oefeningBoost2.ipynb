{
 "cells": [
  {
   "cell_type": "markdown",
   "id": "ffd9a2eb-14d6-4dec-8522-34f66267cfbc",
   "metadata": {
    "slideshow": {
     "slide_type": "slide"
    },
    "tags": [
     "remove_cell4reveal"
    ]
   },
   "source": [
    "# Boost Converter oefening 2"
   ]
  },
  {
   "cell_type": "markdown",
   "id": "761042cb-579c-4fd8-8108-9b6cd27b4879",
   "metadata": {
    "slideshow": {
     "slide_type": "skip"
    },
    "tags": []
   },
   "source": [
    "<a href=\"./slides/oefeningBoost2.slides.html\" target=\"_blank\">![slides](./images/slides-beschikbaar-blue.svg)</a> \n",
    "<a href=\"../Lite/AnalogeElektronica2/lab?path=oefeningBoost2.ipynb\" target=\"_blank\">![slides](./images/open_in-JupyterLite-blue.svg)</a>\n",
    "<a href=\"../Deck/AnalogeElektronica2/lab?path=oefeningBoost2.ipynb\" target=\"_blank\">![slides](./images/JupyterDeck-slides-blue.svg)</a>"
   ]
  },
  {
   "cell_type": "markdown",
   "id": "6de282b1-8223-4327-96ff-ab66813180f6",
   "metadata": {
    "tags": []
   },
   "source": [
    "(a) Het schema in {numref}`ST_schema` komt uit een [datasheet](https://www.st.com/resource/en/datasheet/l6920.pdf) die je van het internet kan downloaden. Wat verwacht je dat er binnen in deze component zit en hoe werkt dit circuit dan? De Ron van de schakeltransistor veronderstel je 0.3$\\Omega$ en de weerstand van het spoel L1 mag je verwaarlozen, VD veronderstel je 0.3V.\n",
    "\n",
    "```{figure} ./images/STep-UP-TI.png\n",
    "---\n",
    "name: ST_schema\n",
    "---\n",
    "Schema van een Step-up converter ontworpen door ST-microelectronics [bron toevoegen].\n",
    "```\n",
    "\n",
    "(b) Reken uit hoe de Duty cycle en de efficiëntie veranderen als de output stroom gaat van 0 mA naar 500 mA.\n"
   ]
  },
  {
   "cell_type": "markdown",
   "id": "ec4736f9",
   "metadata": {
    "slideshow": {
     "slide_type": "slide"
    },
    "tags": [
     "remove_cell",
     "slide_overzicht"
    ]
   },
   "source": [
    "######  Overzicht\n",
    " \n"
   ]
  }
 ],
 "metadata": {
  "KULeuvenSlides": {
   "authors": "Jan Genoe",
   "date": "Februari 2022",
   "kuleuven_presentation_style": "1425",
   "subtitle": "Schakelende voeding voor een hogere spanning te bekomen",
   "title": "Boost Converter"
  },
  "citation-manager": {
   "items": {}
  },
  "kernelspec": {
   "display_name": "KULeuven",
   "language": "python",
   "name": "kuleuven"
  },
  "language_info": {
   "codemirror_mode": {
    "name": "ipython",
    "version": 3
   },
   "file_extension": ".py",
   "mimetype": "text/x-python",
   "name": "python",
   "nbconvert_exporter": "python",
   "pygments_lexer": "ipython3",
   "version": "3.10.8"
  },
  "widgets": {
   "application/vnd.jupyter.widget-state+json": {
    "state": {},
    "version_major": 2,
    "version_minor": 0
   }
  }
 },
 "nbformat": 4,
 "nbformat_minor": 5
}
