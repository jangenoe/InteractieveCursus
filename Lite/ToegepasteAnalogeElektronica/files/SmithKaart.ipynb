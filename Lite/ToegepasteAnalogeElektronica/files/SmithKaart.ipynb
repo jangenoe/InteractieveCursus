{
 "cells": [
  {
   "cell_type": "markdown",
   "id": "1a878297-811d-4249-8b3d-46885bc85eb7",
   "metadata": {
    "slideshow": {
     "slide_type": "slide"
    },
    "tags": []
   },
   "source": [
    "# SmithKaart"
   ]
  },
  {
   "cell_type": "markdown",
   "id": "a35de9f3-7788-4503-a83e-0d346726057d",
   "metadata": {
    "slideshow": {
     "slide_type": "skip"
    },
    "tags": []
   },
   "source": [
    "<a href=\"./slides/SmithKaart.slides.html\" target=\"_blank\">![slides](./images/slides-beschikbaar-blue.svg)</a>\n",
    "<a href=\"../Lite/ToegepasteAnalogeElektronica/lab?path=SmithKaart.ipynb\" target=\"_blank\">![slides](./images/open_in-JupyterLite-blue.svg)</a>\n",
    "<a href=\"../Deck/ToegepasteAnalogeElektronica/lab?path=SmithKaart.ipynb\" target=\"_blank\">![slides](./images/JupyterDeck-slides-blue.svg)</a>"
   ]
  },
  {
   "cell_type": "code",
   "execution_count": null,
   "id": "a42e7f4a-1f42-4b77-b105-00ac9d54c82d",
   "metadata": {
    "jupyter": {
     "source_hidden": true
    },
    "tags": []
   },
   "outputs": [],
   "source": [
    "%config InlineBackend.figure_format = 'svg'\n",
    "%run cursusdef.py"
   ]
  },
  {
   "cell_type": "markdown",
   "id": "5e70f25d",
   "metadata": {
    "slideshow": {
     "slide_type": "slide"
    },
    "tags": [
     "remove_cell",
     "slide_overzicht"
    ]
   },
   "source": [
    "######  Overzicht\n",
    " \n"
   ]
  }
 ],
 "metadata": {
  "@deathbeds/jupyterlab-fonts": {
   "styles": {
    ".MathJax_Display": {
     "body[data-jp-deck-mode='presenting'] &": {
      "font-size": "8vh"
     }
    },
    "h6": {
     "body[data-jp-deck-mode='presenting'] &": {
      "color": "#1D8DB0",
      "font-size": "4vh",
      "font-weight": "bold",
      "height": "9vh",
      "letter-spacing": "normal",
      "line-height": "1.0",
      "margin": "0 0 0 0",
      "max-height": "85vh",
      "max-width": "95vw",
      "object-fit": "contain",
      "text-align": "center",
      "text-shadow": "none",
      "text-transform": "uppercase",
      "top": "0vh",
      "word-wrap": "break-word"
     }
    },
    "img": {
     "body[data-jp-deck-mode='presenting'] &": {
      "height": "75vh",
      "left": "0vw",
      "object-fit": "contain",
      "top": "0vh",
      "width": "100vw"
     }
    }
   }
  },
  "KULeuvenSlides": {
   "authors": "Jan Genoe",
   "date": "December 2022",
   "kuleuven_presentation_style": "1425",
   "subtitle": "Reflecties op analoge transmissielijnen",
   "title": "Smith Kaart"
  },
  "citation-manager": {
   "items": {}
  },
  "kernelspec": {
   "display_name": "KULeuven",
   "language": "python",
   "name": "kuleuven"
  },
  "language_info": {
   "codemirror_mode": {
    "name": "ipython",
    "version": 3
   },
   "file_extension": ".py",
   "mimetype": "text/x-python",
   "name": "python",
   "nbconvert_exporter": "python",
   "pygments_lexer": "ipython3",
   "version": "3.8.13"
  },
  "widgets": {
   "application/vnd.jupyter.widget-state+json": {
    "state": {},
    "version_major": 2,
    "version_minor": 0
   }
  }
 },
 "nbformat": 4,
 "nbformat_minor": 5
}
