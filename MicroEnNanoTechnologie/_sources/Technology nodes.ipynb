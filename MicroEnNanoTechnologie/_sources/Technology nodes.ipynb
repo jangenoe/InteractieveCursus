{
 "cells": [
  {
   "cell_type": "markdown",
   "id": "d271be1b-dcb3-4d5e-93de-d0c9e3a89150",
   "metadata": {
    "editable": true,
    "slideshow": {
     "slide_type": "skip"
    },
    "tags": []
   },
   "source": [
    "# Technology nodes\n",
    "\n"
   ]
  },
  {
   "cell_type": "code",
   "execution_count": null,
   "id": "9395b397-c1dc-48a6-8a79-f3797548f242",
   "metadata": {},
   "outputs": [],
   "source": []
  }
 ],
 "metadata": {
  "kernelspec": {
   "display_name": "KULeuven",
   "language": "python",
   "name": "kuleuven"
  },
  "language_info": {
   "codemirror_mode": {
    "name": "ipython",
    "version": 3
   },
   "file_extension": ".py",
   "mimetype": "text/x-python",
   "name": "python",
   "nbconvert_exporter": "python",
   "pygments_lexer": "ipython3",
   "version": "3.10.15"
  }
 },
 "nbformat": 4,
 "nbformat_minor": 5
}
