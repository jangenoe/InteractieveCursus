{
 "cells": [
  {
   "cell_type": "markdown",
   "id": "3021b115-4273-4527-bdce-09883475c617",
   "metadata": {},
   "source": [
    "# PCB fabricatie technologie\n",
    "\n",
    "\n",
    "## Het maken van een 4 lagen PCB \n",
    "\n",
    "% <video controls autoplay muted=\"true\" loop=\"true\" width=\"500\"><source src=\"./_static/video/making_of_a_4-layer_pcb.mp4\" type=\"video/mp4\"></video>\n",
    "%  dit moeten we linken naar de multimedia van LFS\n",
    "\n",
    "<iframe width=\"1110\" height=\"624\" src=\"https://www.youtube.com/embed/T7S40GYESbY?autoplay=1&controls=1&loop=1&mute=1\" frameborder=\"0\" allow=\"accelerometer; autoplay; clipboard-write; encrypted-media; gyroscope; picture-in-picture; web-share\" allowfullscreen></iframe>\n"
   ]
  },
  {
   "cell_type": "markdown",
   "id": "d94120af-3f35-4101-ac67-4bdcc095cea7",
   "metadata": {},
   "source": [
    "## Het solderen van SMD componenten\n",
    "\n",
    "<video controls autoplay muted=\"true\" loop=\"true\" width=\"500\"><source src=\"https://github.com/jangenoe/InteractieveCursus/blob/master/MicroEnNanoTechnologie/videos/soldering_smd.mp4\" type=\"video/mp4\"></video>"
   ]
  }
 ],
 "metadata": {
  "kernelspec": {
   "display_name": "KULeuven",
   "language": "python",
   "name": "kuleuven"
  },
  "language_info": {
   "codemirror_mode": {
    "name": "ipython",
    "version": 3
   },
   "file_extension": ".py",
   "mimetype": "text/x-python",
   "name": "python",
   "nbconvert_exporter": "python",
   "pygments_lexer": "ipython3",
   "version": "3.10.14"
  }
 },
 "nbformat": 4,
 "nbformat_minor": 5
}
