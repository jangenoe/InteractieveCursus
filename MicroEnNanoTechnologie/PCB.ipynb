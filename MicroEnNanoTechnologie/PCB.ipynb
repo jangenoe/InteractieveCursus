{
 "cells": [
  {
   "cell_type": "markdown",
   "id": "3534181e-db05-462d-a209-9b6f6f8023a7",
   "metadata": {
    "editable": true,
    "slideshow": {
     "slide_type": "skip"
    },
    "tags": []
   },
   "source": [
    "# PCB fabricatie technologie\n",
    "\n",
    "\n",
    "## Het maken van een 4 lagen PCB "
   ]
  },
  {
   "cell_type": "markdown",
   "id": "b9ae6d02-b09a-4d0e-aed0-7ded04024daf",
   "metadata": {
    "editable": true,
    "slideshow": {
     "slide_type": "slide"
    },
    "tags": []
   },
   "source": [
    "% <video controls autoplay muted=\"true\" loop=\"true\" width=\"500\"><source src=\"./_static/video/making_of_a_4-layer_pcb.mp4\" type=\"video/mp4\"></video>\n",
    "%  dit moeten we linken naar de multimedia van LFS\n",
    "\n",
    "<iframe width=\"1110\" height=\"624\" src=\"https://www.youtube.com/embed/T7S40GYESbY?autoplay=1&controls=1&loop=1&mute=1\" frameborder=\"0\" allow=\"accelerometer; autoplay; clipboard-write; encrypted-media; gyroscope; picture-in-picture; web-share\" allowfullscreen></iframe>"
   ]
  },
  {
   "cell_type": "markdown",
   "id": "5f864287-7926-43e2-8f56-472bcba59df8",
   "metadata": {
    "editable": true,
    "slideshow": {
     "slide_type": "skip"
    },
    "tags": []
   },
   "source": [
    "## Het solderen van SMD componenten\n",
    "\n",
    "Een efficiente implementatie van van een hedendaagse PCB vereist het gebruik van [surface mounted devices](https://en.wikipedia.org/wiki/Surface-mount_technology) (SMD). De video hieronder geeft aan hoe klein deze devices momenteel worden en hoe ze met de hand gesoldeerd op een PCB kunnen worden."
   ]
  },
  {
   "cell_type": "markdown",
   "id": "b0e9f80d-266d-4312-a620-57b6143a4274",
   "metadata": {
    "editable": true,
    "slideshow": {
     "slide_type": "slide"
    },
    "tags": []
   },
   "source": [
    "<video controls autoplay muted=\"true\" loop=\"true\" width=\"500\"><source src=\"_static/videos/soldering_smd.mp4\" type=\"video/mp4\"></video>"
   ]
  },
  {
   "cell_type": "markdown",
   "id": "c22402ee-4414-4d04-ba1a-31d5c219364f",
   "metadata": {
    "editable": true,
    "slideshow": {
     "slide_type": "skip"
    },
    "tags": []
   },
   "source": [
    "Een industrieel process zal deze componenten niet een voor een solderen, maar zal aan de hand van een reflow process alle componenten gelijktijdig solderen. Hiervoor wordt er typisch een soldeeroven voorzien."
   ]
  },
  {
   "cell_type": "code",
   "execution_count": null,
   "id": "5c7dcbb4-0042-432b-b483-4c166b8bf3c9",
   "metadata": {},
   "outputs": [],
   "source": []
  }
 ],
 "metadata": {
  "kernelspec": {
   "display_name": "KULeuven",
   "language": "python",
   "name": "kuleuven"
  },
  "language_info": {
   "codemirror_mode": {
    "name": "ipython",
    "version": 3
   },
   "file_extension": ".py",
   "mimetype": "text/x-python",
   "name": "python",
   "nbconvert_exporter": "python",
   "pygments_lexer": "ipython3",
   "version": "3.10.15"
  }
 },
 "nbformat": 4,
 "nbformat_minor": 5
}
