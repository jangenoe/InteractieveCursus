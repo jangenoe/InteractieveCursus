{
 "cells": [
  {
   "cell_type": "markdown",
   "id": "1a3f63d8-b7bb-425f-a0f5-2c1d4b74826f",
   "metadata": {
    "KULeuvenSlides": {
     "slide_code": "normal",
     "slide_ref": "",
     "slide_title": ""
    },
    "editable": true,
    "slideshow": {
     "slide_type": "skip"
    },
    "tags": [
     "remove_cell4reveal",
     "remove_cell4pptx"
    ]
   },
   "source": [
    "# Transmissie lijnen"
   ]
  },
  {
   "cell_type": "code",
   "execution_count": 1,
   "id": "6656cc38-f4c5-41f5-bafa-2ae9ed9035f6",
   "metadata": {
    "KULeuvenSlides": {
     "slide_code": "normal",
     "slide_ref": "",
     "slide_title": ""
    },
    "editable": true,
    "execution": {
     "iopub.execute_input": "2025-09-08T15:19:11.372231Z",
     "iopub.status.busy": "2025-09-08T15:19:11.371949Z",
     "iopub.status.idle": "2025-09-08T15:19:13.937784Z",
     "shell.execute_reply": "2025-09-08T15:19:13.936287Z",
     "shell.execute_reply.started": "2025-09-08T15:19:11.372205Z"
    },
    "init_cell": true,
    "jupyter": {
     "source_hidden": true
    },
    "mystnb": {
     "figure": {
      "caption": "",
      "name": ""
     }
    },
    "scene__Initiatie": true,
    "slideshow": {
     "slide_type": "skip"
    },
    "tags": [
     "remove_cell4reveal",
     "remove-cell4PDF",
     "remove-cell4BOOK",
     "remove_cell4pptx"
    ]
   },
   "outputs": [],
   "source": [
    "from cursusdef import *"
   ]
  },
  {
   "cell_type": "code",
   "execution_count": 6,
   "id": "b25121d9-a602-40b8-917b-6c1b6183dce4",
   "metadata": {
    "KULeuvenSlides": {
     "slide_code": "normal",
     "slide_ref": "",
     "slide_title": "Netwerk model"
    },
    "editable": true,
    "execution": {
     "iopub.execute_input": "2023-09-26T19:55:52.078750Z",
     "iopub.status.busy": "2023-09-26T19:55:52.078105Z",
     "iopub.status.idle": "2023-09-26T19:55:52.546097Z",
     "shell.execute_reply": "2023-09-26T19:55:52.544875Z",
     "shell.execute_reply.started": "2023-09-26T19:55:52.078750Z"
    },
    "jupyter": {
     "source_hidden": true
    },
    "mystnb": {
     "figure": {
      "caption": "Netwerk model van een 50 Ohm transmissielijn.",
      "name": "t_model"
     }
    },
    "slideshow": {
     "slide_type": "slide"
    }
   },
   "outputs": [
    {
     "data": {
      "image/png": "[encoded data removed]",
      "image/svg+xml": [
       "<?xml version=\"1.0\" encoding=\"utf-8\" standalone=\"no\"?>\n",
       "<!DOCTYPE svg PUBLIC \"-//W3C//DTD SVG 1.1//EN\"\n",
       "  \"http://www.w3.org/Graphics/SVG/1.1/DTD/svg11.dtd\">\n",
       "<svg xmlns:xlink=\"http://www.w3.org/1999/xlink\" width=\"211.14pt\" height=\"67.312656pt\" viewBox=\"0 0 211.14 67.312656\" xmlns=\"http://www.w3.org/2000/svg\" version=\"1.1\">\n",
       " <metadata>\n",
       "  <rdf:RDF xmlns:dc=\"http://purl.org/dc/elements/1.1/\" xmlns:cc=\"http://creativecommons.org/ns#\" xmlns:rdf=\"http://www.w3.org/1999/02/22-rdf-syntax-ns#\">\n",
       "   <cc:Work>\n",
       "    <dc:type rdf:resource=\"http://purl.org/dc/dcmitype/StillImage\"/>\n",
       "    <dc:date>2023-09-26T21:55:52.470235</dc:date>\n",
       "    <dc:format>image/svg+xml</dc:format>\n",
       "    <dc:creator>\n",
       "     <cc:Agent>\n",
       "      <dc:title>Matplotlib v3.6.3, https://matplotlib.org/</dc:title>\n",
       "     </cc:Agent>\n",
       "    </dc:creator>\n",
       "   </cc:Work>\n",
       "  </rdf:RDF>\n",
       " </metadata>\n",
       " <defs>\n",
       "  <style type=\"text/css\">*{stroke-linejoin: round; stroke-linecap: butt}</style>\n",
       " </defs>\n",
       " <g id=\"figure_1\">\n",
       "  <g id=\"patch_1\">\n",
       "   <path d=\"M 0 67.312656 \n",
       "L 211.14 67.312656 \n",
       "L 211.14 0 \n",
       "L 0 0 \n",
       "z\n",
       "\" style=\"fill: #ffffff\"/>\n",
       "  </g>\n",
       "  <g id=\"axes_1\">\n",
       "   <g id=\"patch_2\">\n",
       "    <path d=\"M 42.57 30.097656 \n",
       "C 42.57 28.679413 42.430319 27.274961 42.158949 25.964675 \n",
       "C 41.88758 24.654389 41.489801 23.463752 40.988377 22.460903 \n",
       "C 40.486952 21.458054 39.891633 20.662495 39.236491 20.119757 \n",
       "C 38.581348 19.577019 37.879122 19.297656 37.17 19.297656 \n",
       "C 36.460878 19.297656 35.758652 19.577019 35.103509 20.119757 \n",
       "C 34.448367 20.662495 33.853048 21.458054 33.351623 22.460903 \n",
       "C 32.850199 23.463752 32.45242 24.654389 32.181051 25.964675 \n",
       "C 31.909681 27.274961 31.77 28.679413 31.77 30.097656 \n",
       "C 31.77 31.515899 31.909681 32.920352 32.181051 34.230637 \n",
       "C 32.45242 35.540923 32.850199 36.73156 33.351623 37.734409 \n",
       "C 33.853048 38.737259 34.448367 39.532817 35.103509 40.075555 \n",
       "C 35.758652 40.618293 36.460878 40.897656 37.17 40.897656 \n",
       "C 37.879122 40.897656 38.581348 40.618293 39.236491 40.075555 \n",
       "C 39.891633 39.532817 40.486952 38.737259 40.988377 37.734409 \n",
       "C 41.489801 36.73156 41.88758 35.540923 42.158949 34.230637 \n",
       "C 42.430319 32.920352 42.57 31.515899 42.57 30.097656 \n",
       "\" clip-path=\"url(#p565c956dfa)\" style=\"fill: none; stroke: #000000; stroke-width: 2; stroke-linejoin: miter\"/>\n",
       "   </g>\n",
       "   <g id=\"patch_3\">\n",
       "    <path d=\"M 173.97 40.897656 \n",
       "C 175.40162 40.897656 176.776069 39.759026 177.788377 37.734409 \n",
       "C 178.800685 35.709793 179.37 32.960896 179.37 30.097656 \n",
       "C 179.37 27.234417 178.800685 24.485519 177.788377 22.460903 \n",
       "C 176.776069 20.436287 175.40162 19.297656 173.97 19.297656 \n",
       "\" clip-path=\"url(#p565c956dfa)\" style=\"fill: none; stroke: #000000; stroke-width: 2; stroke-linejoin: miter\"/>\n",
       "   </g>\n",
       "   <g id=\"line2d_1\">\n",
       "    <path d=\"M 15.57 30.097656 \n",
       "L 37.17 30.097656 \n",
       "M 179.37 30.097656 \n",
       "L 195.57 30.097656 \n",
       "\" clip-path=\"url(#p565c956dfa)\" style=\"fill: none; stroke: #000000; stroke-width: 2; stroke-linecap: round\"/>\n",
       "   </g>\n",
       "   <g id=\"line2d_2\">\n",
       "    <path d=\"M 37.17 19.297656 \n",
       "L 173.97 19.297656 \n",
       "\" clip-path=\"url(#p565c956dfa)\" style=\"fill: none; stroke: #000000; stroke-width: 2; stroke-linecap: round\"/>\n",
       "   </g>\n",
       "   <g id=\"line2d_3\">\n",
       "    <path d=\"M 37.17 40.897656 \n",
       "L 173.97 40.897656 \n",
       "\" clip-path=\"url(#p565c956dfa)\" style=\"fill: none; stroke: #000000; stroke-width: 2; stroke-linecap: round\"/>\n",
       "   </g>\n",
       "   <g id=\"line2d_4\">\n",
       "    <path d=\"M 173.97 40.897656 \n",
       "L 173.97 49.897656 \n",
       "L 173.97 58.897656 \n",
       "\" clip-path=\"url(#p565c956dfa)\" style=\"fill: none; stroke: #000000; stroke-width: 2; stroke-linecap: round\"/>\n",
       "   </g>\n",
       "   <g id=\"line2d_5\">\n",
       "    <path d=\"M 173.97 58.897656 \n",
       "L 182.97 58.897656 \n",
       "L 191.97 58.897656 \n",
       "\" clip-path=\"url(#p565c956dfa)\" style=\"fill: none; stroke: #000000; stroke-width: 2; stroke-linecap: round\"/>\n",
       "   </g>\n",
       "   <g id=\"line2d_6\">\n",
       "    <path d=\"M 37.17 40.897656 \n",
       "L 37.17 49.897656 \n",
       "L 37.17 58.897656 \n",
       "\" clip-path=\"url(#p565c956dfa)\" style=\"fill: none; stroke: #000000; stroke-width: 2; stroke-linecap: round\"/>\n",
       "   </g>\n",
       "   <g id=\"line2d_7\">\n",
       "    <path d=\"M 37.17 58.897656 \n",
       "L 28.17 58.897656 \n",
       "L 19.17 58.897656 \n",
       "\" clip-path=\"url(#p565c956dfa)\" style=\"fill: none; stroke: #000000; stroke-width: 2; stroke-linecap: round\"/>\n",
       "   </g>\n",
       "   <g id=\"text_1\">\n",
       "    <!-- $50\\Omega$ -->\n",
       "    <g transform=\"translate(92.82 13.098047) scale(0.125 -0.125)\">\n",
       "     <defs>\n",
       "      <path id=\"DejaVuSans-35\" d=\"M 691 4666 \n",
       "L 3169 4666 \n",
       "L 3169 4134 \n",
       "L 1269 4134 \n",
       "L 1269 2991 \n",
       "Q 1406 3038 1543 3061 \n",
       "Q 1681 3084 1819 3084 \n",
       "Q 2600 3084 3056 2656 \n",
       "Q 3513 2228 3513 1497 \n",
       "Q 3513 744 3044 326 \n",
       "Q 2575 -91 1722 -91 \n",
       "Q 1428 -91 1123 -41 \n",
       "Q 819 9 494 109 \n",
       "L 494 744 \n",
       "Q 775 591 1075 516 \n",
       "Q 1375 441 1709 441 \n",
       "Q 2250 441 2565 725 \n",
       "Q 2881 1009 2881 1497 \n",
       "Q 2881 1984 2565 2268 \n",
       "Q 2250 2553 1709 2553 \n",
       "Q 1456 2553 1204 2497 \n",
       "Q 953 2441 691 2322 \n",
       "L 691 4666 \n",
       "z\n",
       "\" transform=\"scale(0.015625)\"/>\n",
       "      <path id=\"DejaVuSans-30\" d=\"M 2034 4250 \n",
       "Q 1547 4250 1301 3770 \n",
       "Q 1056 3291 1056 2328 \n",
       "Q 1056 1369 1301 889 \n",
       "Q 1547 409 2034 409 \n",
       "Q 2525 409 2770 889 \n",
       "Q 3016 1369 3016 2328 \n",
       "Q 3016 3291 2770 3770 \n",
       "Q 2525 4250 2034 4250 \n",
       "z\n",
       "M 2034 4750 \n",
       "Q 2819 4750 3233 4129 \n",
       "Q 3647 3509 3647 2328 \n",
       "Q 3647 1150 3233 529 \n",
       "Q 2819 -91 2034 -91 \n",
       "Q 1250 -91 836 529 \n",
       "Q 422 1150 422 2328 \n",
       "Q 422 3509 836 4129 \n",
       "Q 1250 4750 2034 4750 \n",
       "z\n",
       "\" transform=\"scale(0.015625)\"/>\n",
       "      <path id=\"DejaVuSans-3a9\" d=\"M 4647 556 \n",
       "L 4647 0 \n",
       "L 2772 0 \n",
       "L 2772 556 \n",
       "Q 3325 859 3634 1378 \n",
       "Q 3944 1897 3944 2528 \n",
       "Q 3944 3278 3531 3731 \n",
       "Q 3119 4184 2444 4184 \n",
       "Q 1769 4184 1355 3729 \n",
       "Q 941 3275 941 2528 \n",
       "Q 941 1897 1250 1378 \n",
       "Q 1563 859 2119 556 \n",
       "L 2119 0 \n",
       "L 244 0 \n",
       "L 244 556 \n",
       "L 1241 556 \n",
       "Q 747 991 519 1456 \n",
       "Q 294 1922 294 2497 \n",
       "Q 294 3491 894 4106 \n",
       "Q 1491 4722 2444 4722 \n",
       "Q 3391 4722 3994 4106 \n",
       "Q 4594 3494 4594 2528 \n",
       "Q 4594 1922 4372 1459 \n",
       "Q 4150 997 3647 556 \n",
       "L 4647 556 \n",
       "z\n",
       "\" transform=\"scale(0.015625)\"/>\n",
       "     </defs>\n",
       "     <use xlink:href=\"#DejaVuSans-35\" transform=\"translate(0 0.78125)\"/>\n",
       "     <use xlink:href=\"#DejaVuSans-30\" transform=\"translate(63.623047 0.78125)\"/>\n",
       "     <use xlink:href=\"#DejaVuSans-3a9\" transform=\"translate(127.246094 0.78125)\"/>\n",
       "    </g>\n",
       "   </g>\n",
       "   <g id=\"text_2\">\n",
       "    <!-- coax -->\n",
       "    <g transform=\"translate(90.779961 53.995703) scale(0.125 -0.125)\">\n",
       "     <defs>\n",
       "      <path id=\"DejaVuSans-63\" d=\"M 3122 3366 \n",
       "L 3122 2828 \n",
       "Q 2878 2963 2633 3030 \n",
       "Q 2388 3097 2138 3097 \n",
       "Q 1578 3097 1268 2742 \n",
       "Q 959 2388 959 1747 \n",
       "Q 959 1106 1268 751 \n",
       "Q 1578 397 2138 397 \n",
       "Q 2388 397 2633 464 \n",
       "Q 2878 531 3122 666 \n",
       "L 3122 134 \n",
       "Q 2881 22 2623 -34 \n",
       "Q 2366 -91 2075 -91 \n",
       "Q 1284 -91 818 406 \n",
       "Q 353 903 353 1747 \n",
       "Q 353 2603 823 3093 \n",
       "Q 1294 3584 2113 3584 \n",
       "Q 2378 3584 2631 3529 \n",
       "Q 2884 3475 3122 3366 \n",
       "z\n",
       "\" transform=\"scale(0.015625)\"/>\n",
       "      <path id=\"DejaVuSans-6f\" d=\"M 1959 3097 \n",
       "Q 1497 3097 1228 2736 \n",
       "Q 959 2375 959 1747 \n",
       "Q 959 1119 1226 758 \n",
       "Q 1494 397 1959 397 \n",
       "Q 2419 397 2687 759 \n",
       "Q 2956 1122 2956 1747 \n",
       "Q 2956 2369 2687 2733 \n",
       "Q 2419 3097 1959 3097 \n",
       "z\n",
       "M 1959 3584 \n",
       "Q 2709 3584 3137 3096 \n",
       "Q 3566 2609 3566 1747 \n",
       "Q 3566 888 3137 398 \n",
       "Q 2709 -91 1959 -91 \n",
       "Q 1206 -91 779 398 \n",
       "Q 353 888 353 1747 \n",
       "Q 353 2609 779 3096 \n",
       "Q 1206 3584 1959 3584 \n",
       "z\n",
       "\" transform=\"scale(0.015625)\"/>\n",
       "      <path id=\"DejaVuSans-61\" d=\"M 2194 1759 \n",
       "Q 1497 1759 1228 1600 \n",
       "Q 959 1441 959 1056 \n",
       "Q 959 750 1161 570 \n",
       "Q 1363 391 1709 391 \n",
       "Q 2188 391 2477 730 \n",
       "Q 2766 1069 2766 1631 \n",
       "L 2766 1759 \n",
       "L 2194 1759 \n",
       "z\n",
       "M 3341 1997 \n",
       "L 3341 0 \n",
       "L 2766 0 \n",
       "L 2766 531 \n",
       "Q 2569 213 2275 61 \n",
       "Q 1981 -91 1556 -91 \n",
       "Q 1019 -91 701 211 \n",
       "Q 384 513 384 1019 \n",
       "Q 384 1609 779 1909 \n",
       "Q 1175 2209 1959 2209 \n",
       "L 2766 2209 \n",
       "L 2766 2266 \n",
       "Q 2766 2663 2505 2880 \n",
       "Q 2244 3097 1772 3097 \n",
       "Q 1472 3097 1187 3025 \n",
       "Q 903 2953 641 2809 \n",
       "L 641 3341 \n",
       "Q 956 3463 1253 3523 \n",
       "Q 1550 3584 1831 3584 \n",
       "Q 2591 3584 2966 3190 \n",
       "Q 3341 2797 3341 1997 \n",
       "z\n",
       "\" transform=\"scale(0.015625)\"/>\n",
       "      <path id=\"DejaVuSans-78\" d=\"M 3513 3500 \n",
       "L 2247 1797 \n",
       "L 3578 0 \n",
       "L 2900 0 \n",
       "L 1881 1375 \n",
       "L 863 0 \n",
       "L 184 0 \n",
       "L 1544 1831 \n",
       "L 300 3500 \n",
       "L 978 3500 \n",
       "L 1906 2253 \n",
       "L 2834 3500 \n",
       "L 3513 3500 \n",
       "z\n",
       "\" transform=\"scale(0.015625)\"/>\n",
       "     </defs>\n",
       "     <use xlink:href=\"#DejaVuSans-63\"/>\n",
       "     <use xlink:href=\"#DejaVuSans-6f\" x=\"54.980469\"/>\n",
       "     <use xlink:href=\"#DejaVuSans-61\" x=\"116.162109\"/>\n",
       "     <use xlink:href=\"#DejaVuSans-78\" x=\"177.441406\"/>\n",
       "    </g>\n",
       "   </g>\n",
       "   <g id=\"patch_4\">\n",
       "    <path d=\"M 15.57 32.797656 \n",
       "C 16.286048 32.797656 16.972866 32.513167 17.479188 32.006845 \n",
       "C 17.985511 31.500522 18.27 30.813705 18.27 30.097656 \n",
       "C 18.27 29.381608 17.985511 28.694791 17.479188 28.188468 \n",
       "C 16.972866 27.682145 16.286048 27.397656 15.57 27.397656 \n",
       "C 14.853952 27.397656 14.167134 27.682145 13.660812 28.188468 \n",
       "C 13.154489 28.694791 12.87 29.381608 12.87 30.097656 \n",
       "C 12.87 30.813705 13.154489 31.500522 13.660812 32.006845 \n",
       "C 14.167134 32.513167 14.853952 32.797656 15.57 32.797656 \n",
       "z\n",
       "\" clip-path=\"url(#p565c956dfa)\" style=\"fill: #ff0000; stroke: #ff0000; stroke-width: 2; stroke-linejoin: miter\"/>\n",
       "   </g>\n",
       "   <g id=\"patch_5\">\n",
       "    <path d=\"M 195.57 32.797656 \n",
       "C 196.286048 32.797656 196.972866 32.513167 197.479188 32.006845 \n",
       "C 197.985511 31.500522 198.27 30.813705 198.27 30.097656 \n",
       "C 198.27 29.381608 197.985511 28.694791 197.479188 28.188468 \n",
       "C 196.972866 27.682145 196.286048 27.397656 195.57 27.397656 \n",
       "C 194.853952 27.397656 194.167134 27.682145 193.660812 28.188468 \n",
       "C 193.154489 28.694791 192.87 29.381608 192.87 30.097656 \n",
       "C 192.87 30.813705 193.154489 31.500522 193.660812 32.006845 \n",
       "C 194.167134 32.513167 194.853952 32.797656 195.57 32.797656 \n",
       "z\n",
       "\" clip-path=\"url(#p565c956dfa)\" style=\"fill: #008000; stroke: #008000; stroke-width: 2; stroke-linejoin: miter\"/>\n",
       "   </g>\n",
       "   <g id=\"patch_6\">\n",
       "    <path d=\"M 191.97 61.597656 \n",
       "C 192.686048 61.597656 193.372866 61.313167 193.879188 60.806845 \n",
       "C 194.385511 60.300522 194.67 59.613705 194.67 58.897656 \n",
       "C 194.67 58.181608 194.385511 57.494791 193.879188 56.988468 \n",
       "C 193.372866 56.482145 192.686048 56.197656 191.97 56.197656 \n",
       "C 191.253952 56.197656 190.567134 56.482145 190.060812 56.988468 \n",
       "C 189.554489 57.494791 189.27 58.181608 189.27 58.897656 \n",
       "C 189.27 59.613705 189.554489 60.300522 190.060812 60.806845 \n",
       "C 190.567134 61.313167 191.253952 61.597656 191.97 61.597656 \n",
       "z\n",
       "\" clip-path=\"url(#p565c956dfa)\" style=\"fill: #008000; stroke: #008000; stroke-width: 2; stroke-linejoin: miter\"/>\n",
       "   </g>\n",
       "   <g id=\"patch_7\">\n",
       "    <path d=\"M 19.17 61.597656 \n",
       "C 19.886048 61.597656 20.572866 61.313167 21.079188 60.806845 \n",
       "C 21.585511 60.300522 21.87 59.613705 21.87 58.897656 \n",
       "C 21.87 58.181608 21.585511 57.494791 21.079188 56.988468 \n",
       "C 20.572866 56.482145 19.886048 56.197656 19.17 56.197656 \n",
       "C 18.453952 56.197656 17.767134 56.482145 17.260812 56.988468 \n",
       "C 16.754489 57.494791 16.47 58.181608 16.47 58.897656 \n",
       "C 16.47 59.613705 16.754489 60.300522 17.260812 60.806845 \n",
       "C 17.767134 61.313167 18.453952 61.597656 19.17 61.597656 \n",
       "z\n",
       "\" clip-path=\"url(#p565c956dfa)\" style=\"fill: #ff0000; stroke: #ff0000; stroke-width: 2; stroke-linejoin: miter\"/>\n",
       "   </g>\n",
       "  </g>\n",
       " </g>\n",
       " <defs>\n",
       "  <clipPath id=\"p565c956dfa\">\n",
       "   <rect x=\"3.6\" y=\"17.182656\" width=\"203.94\" height=\"46.53\"/>\n",
       "  </clipPath>\n",
       " </defs>\n",
       "</svg>\n"
      ],
      "text/plain": [
       "<schemdraw.backends.mpl.Figure object at 0x00000198C6EED8D0>"
      ]
     },
     "metadata": {},
     "output_type": "display_data"
    }
   ],
   "source": [
    "with schemdraw.Drawing() as d:\n",
    "    d += Dot(color='r')\n",
    "    d += (coax := Coax(d='right',length=5, label='$50\\Omega$', botlabel='coax'))\n",
    "    d += Dot(color='g')\n",
    "    d += Line(xy=coax.shieldend,l=0.5,d='down')\n",
    "    d += Line(l=0.5,d='right')\n",
    "    d += Dot(color='g')\n",
    "    d += Line(xy=coax.shieldstart,l=0.5,d='down')\n",
    "    d += Line(l=0.5,d='left')\n",
    "    d += Dot(color='r')"
   ]
  },
  {
   "cell_type": "markdown",
   "id": "6bfed12f-6919-4f26-b0e2-984a762d43f8",
   "metadata": {
    "KULeuvenSlides": {
     "slide_code": "normal",
     "slide_ref": "",
     "slide_title": ""
    },
    "editable": true,
    "slideshow": {
     "slide_type": "skip"
    }
   },
   "source": [
    "## Transmissie lijn model"
   ]
  },
  {
   "cell_type": "code",
   "execution_count": 3,
   "id": "e3c63178-6ba7-454a-9fd3-6cee89a8d23d",
   "metadata": {
    "KULeuvenSlides": {
     "slide_code": "normal",
     "slide_ref": "",
     "slide_title": "Kleinsignaal model"
    },
    "editable": true,
    "execution": {
     "iopub.execute_input": "2023-09-26T19:52:35.177436Z",
     "iopub.status.busy": "2023-09-26T19:52:35.177436Z",
     "iopub.status.idle": "2023-09-26T19:52:35.345814Z",
     "shell.execute_reply": "2023-09-26T19:52:35.345305Z",
     "shell.execute_reply.started": "2023-09-26T19:52:35.177436Z"
    },
    "jupyter": {
     "source_hidden": true
    },
    "mystnb": {
     "figure": {
      "caption": "Kleinsignaal model van een kort stuk",
      "name": "t_model_inf"
     }
    },
    "slideshow": {
     "slide_type": "slide"
    }
   },
   "outputs": [
    {
     "data": {
      "image/png": "[encoded data removed]",
      "image/svg+xml": [
       "<?xml version=\"1.0\" encoding=\"utf-8\" standalone=\"no\"?>\n",
       "<!DOCTYPE svg PUBLIC \"-//W3C//DTD SVG 1.1//EN\"\n",
       "  \"http://www.w3.org/Graphics/SVG/1.1/DTD/svg11.dtd\">\n",
       "<svg xmlns:xlink=\"http://www.w3.org/1999/xlink\" width=\"290.34pt\" height=\"153.495485pt\" viewBox=\"0 0 290.34 153.495485\" xmlns=\"http://www.w3.org/2000/svg\" version=\"1.1\">\n",
       " <metadata>\n",
       "  <rdf:RDF xmlns:dc=\"http://purl.org/dc/elements/1.1/\" xmlns:cc=\"http://creativecommons.org/ns#\" xmlns:rdf=\"http://www.w3.org/1999/02/22-rdf-syntax-ns#\">\n",
       "   <cc:Work>\n",
       "    <dc:type rdf:resource=\"http://purl.org/dc/dcmitype/StillImage\"/>\n",
       "    <dc:date>2023-09-26T21:52:35.292644</dc:date>\n",
       "    <dc:format>image/svg+xml</dc:format>\n",
       "    <dc:creator>\n",
       "     <cc:Agent>\n",
       "      <dc:title>Matplotlib v3.6.3, https://matplotlib.org/</dc:title>\n",
       "     </cc:Agent>\n",
       "    </dc:creator>\n",
       "   </cc:Work>\n",
       "  </rdf:RDF>\n",
       " </metadata>\n",
       " <defs>\n",
       "  <style type=\"text/css\">*{stroke-linejoin: round; stroke-linecap: butt}</style>\n",
       " </defs>\n",
       " <g id=\"figure_1\">\n",
       "  <g id=\"patch_1\">\n",
       "   <path d=\"M 0 153.495485 \n",
       "L 290.34 153.495485 \n",
       "L 290.34 0 \n",
       "L 0 0 \n",
       "z\n",
       "\" style=\"fill: #ffffff\"/>\n",
       "  </g>\n",
       "  <g id=\"axes_1\">\n",
       "   <g id=\"line2d_1\">\n",
       "    <path d=\"M 19.17 32.976541 \n",
       "L 46.17 32.976541 \n",
       "L 46.30407 30.012354 \n",
       "L 46.71176 27.021434 \n",
       "L 47.384001 24.254624 \n",
       "L 48.289538 21.943972 \n",
       "L 48.814567 21.022233 \n",
       "L 49.377547 20.28327 \n",
       "L 49.969767 19.742659 \n",
       "L 50.581902 19.411797 \n",
       "L 51.204207 19.297656 \n",
       "L 51.82672 19.402643 \n",
       "L 52.439478 19.724545 \n",
       "L 53.032723 20.256576 \n",
       "L 53.597106 20.987522 \n",
       "L 54.123888 21.901977 \n",
       "L 55.033825 24.200849 \n",
       "L 55.711342 26.96039 \n",
       "L 56.12474 29.949161 \n",
       "L 56.264472 32.916498 \n",
       "L 56.143942 35.613535 \n",
       "L 55.798382 37.814076 \n",
       "L 55.281898 39.333565 \n",
       "L 54.980537 39.79553 \n",
       "L 54.662928 40.044564 \n",
       "L 54.338923 40.075419 \n",
       "L 54.018509 39.887444 \n",
       "L 53.711597 39.484601 \n",
       "L 53.176292 38.072626 \n",
       "L 52.803029 35.957915 \n",
       "L 52.648236 33.317825 \n",
       "L 52.750019 30.373777 \n",
       "L 53.124963 27.372683 \n",
       "L 53.766748 24.56624 \n",
       "L 54.646671 22.189821 \n",
       "L 55.161402 21.227047 \n",
       "L 55.716057 20.442733 \n",
       "L 56.302102 19.85341 \n",
       "L 56.910342 19.4715 \n",
       "L 57.531113 19.305053 \n",
       "L 58.154487 19.357579 \n",
       "L 58.770482 19.627968 \n",
       "L 59.369271 20.110523 \n",
       "L 59.94139 20.795072 \n",
       "L 60.477935 21.667186 \n",
       "L 61.412621 23.897011 \n",
       "L 62.12006 26.612988 \n",
       "L 62.566046 29.58733 \n",
       "L 62.738297 32.570584 \n",
       "L 62.64749 35.31255 \n",
       "L 62.326365 37.583263 \n",
       "L 61.826977 39.192282 \n",
       "L 61.530936 39.703972 \n",
       "L 61.216332 40.004661 \n",
       "L 60.892952 40.088011 \n",
       "L 60.570768 39.952266 \n",
       "L 60.259731 39.600287 \n",
       "L 59.969551 39.039493 \n",
       "L 59.488228 37.342893 \n",
       "L 59.192289 35.004759 \n",
       "L 59.131678 32.221186 \n",
       "L 59.336602 29.225627 \n",
       "L 59.814998 26.269317 \n",
       "L 60.551866 23.600196 \n",
       "L 61.510531 21.442118 \n",
       "L 62.056371 20.613402 \n",
       "L 62.635713 19.97608 \n",
       "L 63.239502 19.543586 \n",
       "L 63.858169 19.325035 \n",
       "L 64.481831 19.325035 \n",
       "L 65.100498 19.543586 \n",
       "L 65.704287 19.97608 \n",
       "L 66.283629 20.613402 \n",
       "L 66.829469 21.442118 \n",
       "L 67.33346 22.444761 \n",
       "L 68.187065 24.884068 \n",
       "L 68.797979 27.726743 \n",
       "L 69.140087 30.734375 \n",
       "L 69.209821 33.654719 \n",
       "L 69.026457 36.242849 \n",
       "L 68.630496 38.281704 \n",
       "L 68.080269 39.600287 \n",
       "L 67.769232 39.952266 \n",
       "L 67.447048 40.088011 \n",
       "L 67.123668 40.004661 \n",
       "L 66.809064 39.703972 \n",
       "L 66.513023 39.192282 \n",
       "L 66.013635 37.583263 \n",
       "L 65.69251 35.31255 \n",
       "L 65.601703 32.570584 \n",
       "L 65.773954 29.58733 \n",
       "L 66.21994 26.612988 \n",
       "L 66.927379 23.897011 \n",
       "L 67.862065 21.667186 \n",
       "L 68.39861 20.795072 \n",
       "L 68.970729 20.110523 \n",
       "L 69.569518 19.627968 \n",
       "L 70.185513 19.357579 \n",
       "L 70.808887 19.305053 \n",
       "L 71.429658 19.4715 \n",
       "L 72.037898 19.85341 \n",
       "L 72.623943 20.442733 \n",
       "L 73.178598 21.227047 \n",
       "L 73.693329 22.189821 \n",
       "L 74.573252 24.56624 \n",
       "L 75.215037 27.372683 \n",
       "L 75.589981 30.373777 \n",
       "L 75.691764 33.317825 \n",
       "L 75.536971 35.957915 \n",
       "L 75.163708 38.072626 \n",
       "L 74.628403 39.484601 \n",
       "L 74.321491 39.887444 \n",
       "L 74.001077 40.075419 \n",
       "L 73.677072 40.044564 \n",
       "L 73.359463 39.79553 \n",
       "L 73.058102 39.333565 \n",
       "L 72.541618 37.814076 \n",
       "L 72.196058 35.613535 \n",
       "L 72.075528 32.916498 \n",
       "L 72.21526 29.949161 \n",
       "L 72.628658 26.96039 \n",
       "L 73.306175 24.200849 \n",
       "L 74.216112 21.901977 \n",
       "L 74.742894 20.987522 \n",
       "L 75.307277 20.256576 \n",
       "L 75.900522 19.724545 \n",
       "L 76.51328 19.402643 \n",
       "L 77.135793 19.297656 \n",
       "L 77.758098 19.411797 \n",
       "L 78.370233 19.742659 \n",
       "L 78.962453 20.28327 \n",
       "L 79.525433 21.022233 \n",
       "L 80.050462 21.943972 \n",
       "L 80.955999 24.254624 \n",
       "L 81.62824 27.021434 \n",
       "L 82.03593 30.012354 \n",
       "L 82.17 32.976541 \n",
       "L 109.17 32.976541 \n",
       "L 109.17 32.976541 \n",
       "\" clip-path=\"url(#pdd68caca06)\" style=\"fill: none; stroke: #000000; stroke-width: 2; stroke-linecap: round\"/>\n",
       "   </g>\n",
       "   <g id=\"line2d_2\">\n",
       "    <path d=\"M 109.17 32.976541 \n",
       "L 127.17 32.976541 \n",
       "L 130.17 23.976541 \n",
       "L 136.17 41.976541 \n",
       "L 142.17 23.976541 \n",
       "L 148.17 41.976541 \n",
       "L 154.17 23.976541 \n",
       "L 160.17 41.976541 \n",
       "L 163.17 32.976541 \n",
       "L 181.17 32.976541 \n",
       "\" clip-path=\"url(#pdd68caca06)\" style=\"fill: none; stroke: #000000; stroke-width: 2; stroke-linecap: round\"/>\n",
       "   </g>\n",
       "   <g id=\"line2d_3\">\n",
       "    <path d=\"M 181.17 32.976541 \n",
       "L 181.17 83.736541 \n",
       "M 190.17 83.736541 \n",
       "L 172.17 83.736541 \n",
       "M 190.17 90.216541 \n",
       "L 172.17 90.216541 \n",
       "M 181.17 90.216541 \n",
       "L 181.17 140.976541 \n",
       "\" clip-path=\"url(#pdd68caca06)\" style=\"fill: none; stroke: #000000; stroke-width: 2; stroke-linecap: round\"/>\n",
       "   </g>\n",
       "   <g id=\"line2d_4\">\n",
       "    <path d=\"M 181.17 32.976541 \n",
       "L 199.17 32.976541 \n",
       "L 217.17 32.976541 \n",
       "\" clip-path=\"url(#pdd68caca06)\" style=\"fill: none; stroke: #000000; stroke-width: 2; stroke-linecap: round\"/>\n",
       "   </g>\n",
       "   <g id=\"line2d_5\">\n",
       "    <path d=\"M 217.17 32.976541 \n",
       "L 217.17 68.976541 \n",
       "L 226.17 71.976541 \n",
       "L 208.17 77.976541 \n",
       "L 226.17 83.976541 \n",
       "L 208.17 89.976541 \n",
       "L 226.17 95.976541 \n",
       "L 208.17 101.976541 \n",
       "L 217.17 104.976541 \n",
       "L 217.17 140.976541 \n",
       "\" clip-path=\"url(#pdd68caca06)\" style=\"fill: none; stroke: #000000; stroke-width: 2; stroke-linecap: round\"/>\n",
       "   </g>\n",
       "   <g id=\"line2d_6\">\n",
       "    <path d=\"M 217.17 140.976541 \n",
       "L 118.17 140.976541 \n",
       "L 19.17 140.976541 \n",
       "\" clip-path=\"url(#pdd68caca06)\" style=\"fill: none; stroke: #000000; stroke-width: 2; stroke-linecap: round\"/>\n",
       "   </g>\n",
       "   <g id=\"line2d_7\">\n",
       "    <path d=\"M 217.17 140.976541 \n",
       "L 244.17 140.976541 \n",
       "L 271.17 140.976541 \n",
       "\" clip-path=\"url(#pdd68caca06)\" style=\"fill: none; stroke: #000000; stroke-width: 2; stroke-linecap: round\"/>\n",
       "   </g>\n",
       "   <g id=\"line2d_8\">\n",
       "    <path d=\"M 217.17 32.976541 \n",
       "L 244.17 32.976541 \n",
       "L 271.17 32.976541 \n",
       "\" clip-path=\"url(#pdd68caca06)\" style=\"fill: none; stroke: #000000; stroke-width: 2; stroke-linecap: round\"/>\n",
       "   </g>\n",
       "   <g id=\"text_1\">\n",
       "    <!-- L -->\n",
       "    <g transform=\"translate(60.687578 13.098047) scale(0.125 -0.125)\">\n",
       "     <defs>\n",
       "      <path id=\"DejaVuSans-4c\" d=\"M 628 4666 \n",
       "L 1259 4666 \n",
       "L 1259 531 \n",
       "L 3531 531 \n",
       "L 3531 0 \n",
       "L 628 0 \n",
       "L 628 4666 \n",
       "z\n",
       "\" transform=\"scale(0.015625)\"/>\n",
       "     </defs>\n",
       "     <use xlink:href=\"#DejaVuSans-4c\"/>\n",
       "    </g>\n",
       "   </g>\n",
       "   <g id=\"text_2\">\n",
       "    <!-- R -->\n",
       "    <g transform=\"translate(140.827227 17.776931) scale(0.125 -0.125)\">\n",
       "     <defs>\n",
       "      <path id=\"DejaVuSans-52\" d=\"M 2841 2188 \n",
       "Q 3044 2119 3236 1894 \n",
       "Q 3428 1669 3622 1275 \n",
       "L 4263 0 \n",
       "L 3584 0 \n",
       "L 2988 1197 \n",
       "Q 2756 1666 2539 1819 \n",
       "Q 2322 1972 1947 1972 \n",
       "L 1259 1972 \n",
       "L 1259 0 \n",
       "L 628 0 \n",
       "L 628 4666 \n",
       "L 2053 4666 \n",
       "Q 2853 4666 3247 4331 \n",
       "Q 3641 3997 3641 3322 \n",
       "Q 3641 2881 3436 2590 \n",
       "Q 3231 2300 2841 2188 \n",
       "z\n",
       "M 1259 4147 \n",
       "L 1259 2491 \n",
       "L 2053 2491 \n",
       "Q 2509 2491 2742 2702 \n",
       "Q 2975 2913 2975 3322 \n",
       "Q 2975 3731 2742 3939 \n",
       "Q 2509 4147 2053 4147 \n",
       "L 1259 4147 \n",
       "z\n",
       "\" transform=\"scale(0.015625)\"/>\n",
       "     </defs>\n",
       "     <use xlink:href=\"#DejaVuSans-52\"/>\n",
       "    </g>\n",
       "   </g>\n",
       "   <g id=\"text_3\">\n",
       "    <!-- C -->\n",
       "    <g transform=\"translate(159.841484 90.425759) scale(0.125 -0.125)\">\n",
       "     <defs>\n",
       "      <path id=\"DejaVuSans-43\" d=\"M 4122 4306 \n",
       "L 4122 3641 \n",
       "Q 3803 3938 3442 4084 \n",
       "Q 3081 4231 2675 4231 \n",
       "Q 1875 4231 1450 3742 \n",
       "Q 1025 3253 1025 2328 \n",
       "Q 1025 1406 1450 917 \n",
       "Q 1875 428 2675 428 \n",
       "Q 3081 428 3442 575 \n",
       "Q 3803 722 4122 1019 \n",
       "L 4122 359 \n",
       "Q 3791 134 3420 21 \n",
       "Q 3050 -91 2638 -91 \n",
       "Q 1578 -91 968 557 \n",
       "Q 359 1206 359 2328 \n",
       "Q 359 3453 968 4101 \n",
       "Q 1578 4750 2638 4750 \n",
       "Q 3056 4750 3426 4639 \n",
       "Q 3797 4528 4122 4306 \n",
       "z\n",
       "\" transform=\"scale(0.015625)\"/>\n",
       "     </defs>\n",
       "     <use xlink:href=\"#DejaVuSans-43\"/>\n",
       "    </g>\n",
       "   </g>\n",
       "   <g id=\"text_4\">\n",
       "    <!-- g -->\n",
       "    <g transform=\"translate(196.634453 90.425759) scale(0.125 -0.125)\">\n",
       "     <defs>\n",
       "      <path id=\"DejaVuSans-67\" d=\"M 2906 1791 \n",
       "Q 2906 2416 2648 2759 \n",
       "Q 2391 3103 1925 3103 \n",
       "Q 1463 3103 1205 2759 \n",
       "Q 947 2416 947 1791 \n",
       "Q 947 1169 1205 825 \n",
       "Q 1463 481 1925 481 \n",
       "Q 2391 481 2648 825 \n",
       "Q 2906 1169 2906 1791 \n",
       "z\n",
       "M 3481 434 \n",
       "Q 3481 -459 3084 -895 \n",
       "Q 2688 -1331 1869 -1331 \n",
       "Q 1566 -1331 1297 -1286 \n",
       "Q 1028 -1241 775 -1147 \n",
       "L 775 -588 \n",
       "Q 1028 -725 1275 -790 \n",
       "Q 1522 -856 1778 -856 \n",
       "Q 2344 -856 2625 -561 \n",
       "Q 2906 -266 2906 331 \n",
       "L 2906 616 \n",
       "Q 2728 306 2450 153 \n",
       "Q 2172 0 1784 0 \n",
       "Q 1141 0 747 490 \n",
       "Q 353 981 353 1791 \n",
       "Q 353 2603 747 3093 \n",
       "Q 1141 3584 1784 3584 \n",
       "Q 2172 3584 2450 3431 \n",
       "Q 2728 3278 2906 2969 \n",
       "L 2906 3500 \n",
       "L 3481 3500 \n",
       "L 3481 434 \n",
       "z\n",
       "\" transform=\"scale(0.015625)\"/>\n",
       "     </defs>\n",
       "     <use xlink:href=\"#DejaVuSans-67\"/>\n",
       "    </g>\n",
       "   </g>\n",
       "   <g id=\"patch_2\">\n",
       "    <path d=\"M 19.17 35.676541 \n",
       "C 19.886048 35.676541 20.572866 35.392052 21.079188 34.885729 \n",
       "C 21.585511 34.379406 21.87 33.692589 21.87 32.976541 \n",
       "C 21.87 32.260492 21.585511 31.573675 21.079188 31.067352 \n",
       "C 20.572866 30.56103 19.886048 30.276541 19.17 30.276541 \n",
       "C 18.453952 30.276541 17.767134 30.56103 17.260812 31.067352 \n",
       "C 16.754489 31.573675 16.47 32.260492 16.47 32.976541 \n",
       "C 16.47 33.692589 16.754489 34.379406 17.260812 34.885729 \n",
       "C 17.767134 35.392052 18.453952 35.676541 19.17 35.676541 \n",
       "z\n",
       "\" clip-path=\"url(#pdd68caca06)\" style=\"stroke: #000000; stroke-width: 2; stroke-linejoin: miter\"/>\n",
       "   </g>\n",
       "   <g id=\"patch_3\">\n",
       "    <path d=\"M 19.17 143.676541 \n",
       "C 19.886048 143.676541 20.572866 143.392052 21.079188 142.885729 \n",
       "C 21.585511 142.379406 21.87 141.692589 21.87 140.976541 \n",
       "C 21.87 140.260492 21.585511 139.573675 21.079188 139.067352 \n",
       "C 20.572866 138.56103 19.886048 138.276541 19.17 138.276541 \n",
       "C 18.453952 138.276541 17.767134 138.56103 17.260812 139.067352 \n",
       "C 16.754489 139.573675 16.47 140.260492 16.47 140.976541 \n",
       "C 16.47 141.692589 16.754489 142.379406 17.260812 142.885729 \n",
       "C 17.767134 143.392052 18.453952 143.676541 19.17 143.676541 \n",
       "z\n",
       "\" clip-path=\"url(#pdd68caca06)\" style=\"stroke: #000000; stroke-width: 2; stroke-linejoin: miter\"/>\n",
       "   </g>\n",
       "   <g id=\"patch_4\">\n",
       "    <path d=\"M 271.17 143.676541 \n",
       "C 271.886048 143.676541 272.572866 143.392052 273.079188 142.885729 \n",
       "C 273.585511 142.379406 273.87 141.692589 273.87 140.976541 \n",
       "C 273.87 140.260492 273.585511 139.573675 273.079188 139.067352 \n",
       "C 272.572866 138.56103 271.886048 138.276541 271.17 138.276541 \n",
       "C 270.453952 138.276541 269.767134 138.56103 269.260812 139.067352 \n",
       "C 268.754489 139.573675 268.47 140.260492 268.47 140.976541 \n",
       "C 268.47 141.692589 268.754489 142.379406 269.260812 142.885729 \n",
       "C 269.767134 143.392052 270.453952 143.676541 271.17 143.676541 \n",
       "z\n",
       "\" clip-path=\"url(#pdd68caca06)\" style=\"stroke: #000000; stroke-width: 2; stroke-linejoin: miter\"/>\n",
       "   </g>\n",
       "   <g id=\"patch_5\">\n",
       "    <path d=\"M 271.17 35.676541 \n",
       "C 271.886048 35.676541 272.572866 35.392052 273.079188 34.885729 \n",
       "C 273.585511 34.379406 273.87 33.692589 273.87 32.976541 \n",
       "C 273.87 32.260492 273.585511 31.573675 273.079188 31.067352 \n",
       "C 272.572866 30.56103 271.886048 30.276541 271.17 30.276541 \n",
       "C 270.453952 30.276541 269.767134 30.56103 269.260812 31.067352 \n",
       "C 268.754489 31.573675 268.47 32.260492 268.47 32.976541 \n",
       "C 268.47 33.692589 268.754489 34.379406 269.260812 34.885729 \n",
       "C 269.767134 35.392052 270.453952 35.676541 271.17 35.676541 \n",
       "z\n",
       "\" clip-path=\"url(#pdd68caca06)\" style=\"stroke: #000000; stroke-width: 2; stroke-linejoin: miter\"/>\n",
       "   </g>\n",
       "  </g>\n",
       " </g>\n",
       " <defs>\n",
       "  <clipPath id=\"pdd68caca06\">\n",
       "   <rect x=\"3.6\" y=\"13.078712\" width=\"283.14\" height=\"136.816773\"/>\n",
       "  </clipPath>\n",
       " </defs>\n",
       "</svg>\n"
      ],
      "text/plain": [
       "<schemdraw.backends.mpl.Figure object at 0x00000198C3622890>"
      ]
     },
     "metadata": {},
     "output_type": "display_data"
    }
   ],
   "source": [
    "with schemdraw.Drawing() as d:\n",
    "    d += Dot()\n",
    "    d += (L := Inductor2(d='right', l=2.5,label='L'))\n",
    "    d += (R := Resistor(d='right', l=2, label='R'))\n",
    "    d += Capacitor(d='down', label='C')\n",
    "    d += Line(xy=R.end,l=1,d='right')\n",
    "    d += (g := Resistor(d='down', label='g'))\n",
    "    d += Line(tox=L.start,d='left')\n",
    "    d += Dot()\n",
    "    d += Line(xy=g.end,l=1.5,d='right')\n",
    "    d += Dot()\n",
    "    d += Line(xy=g.start,l=1.5,d='right')\n",
    "    d += Dot()"
   ]
  },
  {
   "cell_type": "markdown",
   "id": "957d01df-cf62-453d-82de-42befe58e3eb",
   "metadata": {
    "KULeuvenSlides": {
     "slide_code": "normal",
     "slide_ref": "",
     "slide_title": "Kleinsignaal model"
    },
    "editable": true,
    "slideshow": {
     "slide_type": "slide"
    }
   },
   "source": [
    "$$ Z_o=\\sqrt{\\frac{j \\omega L+R}{j \\omega C+g}}$$"
   ]
  },
  {
   "cell_type": "markdown",
   "id": "2cb7a63b-6e48-4254-9f56-6a164b7d03cf",
   "metadata": {
    "KULeuvenSlides": {
     "slide_code": "normal",
     "slide_ref": "",
     "slide_title": ""
    },
    "editable": true,
    "slideshow": {
     "slide_type": "skip"
    }
   },
   "source": [
    "waarbij L de inductantie per eenheid lengte is, C de capaciteit er eenheid lengte is, R de weerstand van de geleider en g de lekgeleidbaarheid van het dielectricum.\n",
    "\n",
    "In het beste geval is de weerstand van de geleider nul (R=0) en de lek ook nul (g=0). $Z_o$ wordt dan "
   ]
  },
  {
   "cell_type": "markdown",
   "id": "104d0721-330b-4839-bff2-fe2459b1a8b7",
   "metadata": {
    "KULeuvenSlides": {
     "slide_code": "normal",
     "slide_ref": "",
     "slide_title": "Vereenvoudigd Kleinsignaal model"
    },
    "editable": true,
    "slideshow": {
     "slide_type": "slide"
    }
   },
   "source": [
    "$$ Z_o \\approx \\sqrt{\\frac{L}{C}}$$"
   ]
  },
  {
   "cell_type": "markdown",
   "id": "c2873e7c-af7c-4d1e-860f-6da2ef08267e",
   "metadata": {
    "KULeuvenSlides": {
     "slide_code": "normal",
     "slide_ref": "",
     "slide_title": ""
    },
    "editable": true,
    "slideshow": {
     "slide_type": "skip"
    }
   },
   "source": [
    "## Coax kabel"
   ]
  },
  {
   "cell_type": "markdown",
   "id": "f6da14ae-ecdb-4032-9731-3f77a4260aea",
   "metadata": {
    "KULeuvenSlides": {
     "slide_code": "normal",
     "slide_ref": "",
     "slide_title": ""
    },
    "editable": true,
    "slideshow": {
     "slide_type": "skip"
    }
   },
   "source": [
    "{numref}`coaxdoorsnede` toont de doorsnede van een coax kabel met daarop de belangrijkste parameters voor het bepalen van de C per eenheid lengte en de L per eenheid lengte."
   ]
  },
  {
   "cell_type": "code",
   "execution_count": 1,
   "id": "dcf86f94-46ce-4cb8-a224-34ee45fc5fc9",
   "metadata": {
    "KULeuvenSlides": {
     "slide_code": "normal",
     "slide_ref": "",
     "slide_title": "Doorsnede coax kabel"
    },
    "editable": true,
    "execution": {
     "iopub.execute_input": "2022-09-18T14:48:47.847044Z",
     "iopub.status.busy": "2022-09-18T14:48:47.847044Z",
     "iopub.status.idle": "2022-09-18T14:48:47.865398Z",
     "shell.execute_reply": "2022-09-18T14:48:47.864882Z",
     "shell.execute_reply.started": "2022-09-18T14:48:47.847044Z"
    },
    "jupyter": {
     "source_hidden": true
    },
    "mystnb": {
     "figure": {
      "caption": "Schematische cross-section van een coax kabel met de aanduiding van de belangrijkste parameters",
      "name": "coaxdoorsnede"
     }
    },
    "slideshow": {
     "slide_type": "slide"
    }
   },
   "outputs": [
    {
     "data": {
      "image/png": "[encoded data removed]",
      "text/plain": [
       "<IPython.core.display.Image object>"
      ]
     },
     "execution_count": 1,
     "metadata": {},
     "output_type": "execute_result"
    }
   ],
   "source": [
    "display.Image(\"./images/coax.png\")"
   ]
  },
  {
   "cell_type": "markdown",
   "id": "3ad406f4-3036-4709-8a34-7ddbb35adc82",
   "metadata": {
    "KULeuvenSlides": {
     "slide_code": "normal",
     "slide_ref": "",
     "slide_title": ""
    },
    "editable": true,
    "slideshow": {
     "slide_type": ""
    }
   },
   "source": [
    "Voor een typische [coax-kabel](https://en.wikipedia.org/wiki/Coaxial_cable) met binnendiameter 1.2 mm en buiten diameter  2.8 mm bekomen we de volgende parameters:"
   ]
  },
  {
   "cell_type": "code",
   "execution_count": 34,
   "id": "4a5f28d9-bc34-4024-996e-f5d59b83f8d5",
   "metadata": {
    "KULeuvenSlides": {
     "slide_code": "normal",
     "slide_ref": "",
     "slide_title": ""
    },
    "editable": true,
    "execution": {
     "iopub.execute_input": "2022-09-18T15:38:27.623963Z",
     "iopub.status.busy": "2022-09-18T15:38:27.623963Z",
     "iopub.status.idle": "2022-09-18T15:38:27.645476Z",
     "shell.execute_reply": "2022-09-18T15:38:27.644473Z",
     "shell.execute_reply.started": "2022-09-18T15:38:27.623963Z"
    },
    "jupyter": {
     "source_hidden": true
    },
    "mystnb": {
     "figure": {
      "caption": "Berekening coax kabel",
      "name": ""
     }
    },
    "slideshow": {
     "slide_type": ""
    }
   },
   "outputs": [
    {
     "name": "stdout",
     "output_type": "stream",
     "text": [
      "R = 0.09886 ohms/m\n",
      "L = 169.46 nH/m\n",
      "G = 7.416 S/m\n",
      "C = 65.63 pF/m\n",
      "Zo= 50.81 Ohm\n"
     ]
    }
   ],
   "source": [
    "def coax_parameters(D1,D2,f,e_r,sigma_c,sigma=1,mu=1,mu_c=1,display=True):\n",
    "    e_0 = 8.85e-12 # F/m\n",
    "    mu_0 = 4*np.pi*1e-7 # H/m\n",
    "    Rs = np.sqrt(np.pi*f*mu_0*mu_c/sigma_c)\n",
    "    R_p = Rs/np.pi*(1/D1 +1/D2) # Ohms/m\n",
    "    L_p = mu_0*mu/(2*np.pi)*np.log(D2/D1) #H/m\n",
    "    G_p = 2*np.pi*sigma/np.log(D2/D1) # S/m\n",
    "    C_p = 2*np.pi*e_0*e_r/np.log(D2/D1)\n",
    "    if display:\n",
    "        print(\"R = %2.5f ohms/m\" % (R_p,))\n",
    "        print(\"L = %2.2f nH/m\" % (L_p*1e9,))\n",
    "        print(\"G = %2.3f S/m\" % (G_p,))\n",
    "        print(\"C = %2.2f pF/m\" % (C_p*1e12,))\n",
    "        print(\"Zo= %2.2f Ohm\" % (np.sqrt(L_p/C_p)))\n",
    "    return R_p, L_p, G_p, C_p\n",
    "\n",
    "R_p, L_p, G_p, C_p=coax_parameters(1.2e-3,2.8e-3,1e6,1.0,5.8e7)\n"
   ]
  },
  {
   "cell_type": "markdown",
   "id": "6e78e590-7ead-419d-a25c-779e75ecabc5",
   "metadata": {
    "KULeuvenSlides": {
     "slide_code": "normal",
     "slide_ref": "",
     "slide_title": ""
    },
    "editable": true,
    "slideshow": {
     "slide_type": "skip"
    }
   },
   "source": [
    "\n",
    "Het verloop van de karakteristieke impedantie ziet er voor deze coax kabel uit als aangegeven in {numref}`t_Z-f`"
   ]
  },
  {
   "cell_type": "code",
   "execution_count": 2,
   "id": "2630bbc4-8fe3-4447-bb7d-595fadf3bf25",
   "metadata": {
    "KULeuvenSlides": {
     "slide_code": "normal",
     "slide_ref": "",
     "slide_title": "Verloop van de karakteristieke impedantie van een RG-58 coax als functie van de frequentie"
    },
    "editable": true,
    "execution": {
     "iopub.execute_input": "2022-08-14T23:29:34.956042Z",
     "iopub.status.busy": "2022-08-14T23:29:34.954126Z",
     "iopub.status.idle": "2022-08-14T23:29:36.075676Z",
     "shell.execute_reply": "2022-08-14T23:29:36.074558Z",
     "shell.execute_reply.started": "2022-08-14T23:29:34.956042Z"
    },
    "jupyter": {
     "source_hidden": true
    },
    "mystnb": {
     "figure": {
      "caption": "Verloop van de karakteristieke impedantie van een RG-58 coax als functie van de frequentie.",
      "name": "t_Z-f"
     }
    },
    "slideshow": {
     "slide_type": "slide"
    }
   },
   "outputs": [
    {
     "data": {
      "image/png": "[encoded data removed]",
      "text/plain": [
       "<Figure size 864x864 with 2 Axes>"
      ]
     },
     "metadata": {
      "needs_background": "light"
     },
     "output_type": "display_data"
    }
   ],
   "source": [
    "fig,ax = plt.subplots(2,1,figsize=(12,12))\n",
    "w=np.logspace(5,10,50)\n",
    "z=np.sqrt((1.0j*w*273e-9+0.0)/(1.0j*w*93e-12))\n",
    "z2=np.sqrt((1.0j*w*273e-9+0.053)/(1.0j*w*93e-12))\n",
    "z3=np.sqrt((1.0j*w*273e-9+0.005)/(1.0j*w*93e-12))\n",
    "ax[0].plot(w/2/np.pi,abs(z), label=\"R=0 mOhm\")\n",
    "ax[0].plot(w/2/np.pi,abs(z2), label=\"R=53 mOhm\")\n",
    "ax[0].plot(w/2/np.pi,abs(z3), label=\"R=5 mOhm\")\n",
    "ax[1].plot(w/2/np.pi,np.angle(z,deg=True), label=\"R=0 mOhm\")\n",
    "ax[1].plot(w/2/np.pi,np.angle(z2,deg=True), label=\"R=53 mOhm\")\n",
    "ax[1].plot(w/2/np.pi,np.angle(z3,deg=True), label=\"R=5 mOhm\")\n",
    "ax[0].set_xscale('log')\n",
    "ax[0].set_ylabel('Amplitude Karakteristieke Impedantie (Ohm)',size = 10)\n",
    "ax[0].set_xlabel('Frequency (Hz) ',size = 10)\n",
    "ax[1].set_xscale('log')\n",
    "ax[1].set_ylabel('Fase Karakteristieke Impedantie (graden)',size = 10)\n",
    "ax[1].set_xlabel('Frequency (Hz) ',size = 10);\n",
    "ax[0].legend()\n",
    "ax[1].legend();"
   ]
  },
  {
   "cell_type": "markdown",
   "id": "33cce91b-b9a0-4421-b3cc-e08e474c989e",
   "metadata": {
    "editable": true,
    "slideshow": {
     "slide_type": "skip"
    }
   },
   "source": [
    "Uit {numref}`t_Z-f` merken we dat bij lage frequenties deze karakteristieke impedantie in belangrijke mate verschilt van 50 Ohm. De negatieve fase geeft aan dat bij lage frequenties de lijn zich capacitief gedraagt."
   ]
  },
  {
   "cell_type": "markdown",
   "id": "96cebfe0-3f3b-4970-b419-91aa5c0e8b4b",
   "metadata": {
    "KULeuvenSlides": {
     "slide_code": "normal",
     "slide_ref": "",
     "slide_title": ""
    },
    "editable": true,
    "slideshow": {
     "slide_type": "skip"
    }
   },
   "source": [
    "## Twisted pair kabel\n",
    "\n",
    "{numref}`twisted_pairdoorsnede` toont de doorsnede van een twisted pair kabel met daarop de belangrijkste parameters voor het bepalen van de C per eenheid lengte en de L per eenheid lengte.\n",
    "\n"
   ]
  },
  {
   "cell_type": "code",
   "execution_count": 2,
   "id": "47a3532f-04e1-41c5-8c0b-2b1d6ec7af84",
   "metadata": {
    "KULeuvenSlides": {
     "slide_code": "normal",
     "slide_ref": "",
     "slide_title": "Doorsnede twisted pair kabel"
    },
    "editable": true,
    "execution": {
     "iopub.execute_input": "2022-09-18T14:56:53.799966Z",
     "iopub.status.busy": "2022-09-18T14:56:53.799966Z",
     "iopub.status.idle": "2022-09-18T14:56:53.814704Z",
     "shell.execute_reply": "2022-09-18T14:56:53.813703Z",
     "shell.execute_reply.started": "2022-09-18T14:56:53.799966Z"
    },
    "jupyter": {
     "source_hidden": true
    },
    "mystnb": {
     "figure": {
      "caption": "Schematische cross-section van een twisted pair kabel met de aanduiding van de belangrijkste parameters",
      "name": "twisted_pairdoorsnede"
     }
    },
    "slideshow": {
     "slide_type": "slide"
    }
   },
   "outputs": [
    {
     "data": {
      "image/png": "[encoded data removed]",
      "text/plain": [
       "<IPython.core.display.Image object>"
      ]
     },
     "execution_count": 2,
     "metadata": {},
     "output_type": "execute_result"
    }
   ],
   "source": [
    "display.Image(\"./images/twisted_pair.png\")"
   ]
  },
  {
   "cell_type": "markdown",
   "id": "d4996467-3a8a-4bb4-9e37-490e02b250f8",
   "metadata": {
    "slideshow": {
     "slide_type": "skip"
    }
   },
   "source": [
    "## striplijn\n",
    "\n"
   ]
  },
  {
   "cell_type": "markdown",
   "id": "4a8e725a-e0c9-4aaa-b2f1-208218c9538a",
   "metadata": {
    "editable": true,
    "slideshow": {
     "slide_type": "skip"
    }
   },
   "source": [
    "## Microstriplijn\n",
    "\n",
    "De relevante parameters hier zijn de breedte van het baantje ($w$) en de  dikte van het dielectricum ($h$). Natuurlijk speelt de relatieve permitiviteit van het dielectricum ($\\epsilon_r$) ook mee."
   ]
  },
  {
   "cell_type": "code",
   "execution_count": 1,
   "id": "4b7625ee-4133-4a5a-954a-bfc3c94a4597",
   "metadata": {
    "editable": true,
    "execution": {
     "iopub.execute_input": "2022-02-01T22:07:20.559639Z",
     "iopub.status.busy": "2022-02-01T22:07:20.559639Z",
     "iopub.status.idle": "2022-02-01T22:07:20.590890Z",
     "shell.execute_reply": "2022-02-01T22:07:20.590890Z",
     "shell.execute_reply.started": "2022-02-01T22:07:20.559639Z"
    },
    "jupyter": {
     "source_hidden": true
    },
    "slideshow": {
     "slide_type": "skip"
    }
   },
   "outputs": [],
   "source": [
    "def mstrip_anal(s,er):\n",
    "    \"\"\"\n",
    "    Microstrip zero thickness strips design function\n",
    "    \n",
    "    s = w/h\n",
    "    er = material relative permittivity\n",
    "    \n",
    "    Z0 returned\n",
    "    e_eff returned\n",
    "\n",
    "    \"\"\"\n",
    "    e_eff = eps_eff(s,er)\n",
    "    t = (30.67/s)**0.75\n",
    "    Z0 = 60/np.sqrt(e_eff) * \\\n",
    "         np.log((6+(2*np.pi-6)*np.exp(-t))/s + np.sqrt(1+4/s**2))\n",
    "    return Z0, e_eff\n",
    "\n",
    "def mstrip_dsgn(Z0,er):\n",
    "    \"\"\"\n",
    "    Mircostrip zero thickness strips design function\n",
    "    \n",
    "    Z0 = desired characteristic impedance\n",
    "    er = material relative permittivity\n",
    "    \n",
    "    s = w/h is returned\n",
    "    e_eff returned\n",
    "    \n",
    "    \"\"\"\n",
    "    if Z0 <= (44-2*er):\n",
    "        q = 60*np.pi*np.pi/(Z0*np.sqrt(er))\n",
    "        s = 2/np.pi*((q-1)-np.log(2*q-1) + \\\n",
    "                 (er-1)/(2*er)*(np.log(q-1)+0.29-0.52/er))\n",
    "        \n",
    "    else:\n",
    "        p = np.sqrt((er+1)/2)*Z0/60+(er-1)/(er+1)*(0.23 + 0.12/er)\n",
    "        s = 8*np.exp(p)/(np.exp(2*p)-2)\n",
    "    e_eff = eps_eff(s,er)\n",
    "    return s, e_eff\n",
    "\n",
    "def eps_eff(s,er):\n",
    "    \"\"\"\n",
    "    Find microstrip e_eff given s = w/h and er\n",
    "    \"\"\"\n",
    "    x = 0.56*((er-0.9)/(er+3))**0.05\n",
    "    y = 1 + 0.02*np.log((s**4 + 3.7e-4*s**2)/(s**4+0.43)) + \\\n",
    "        0.05*np.log(1+1.7e-4*s**3)\n",
    "    e_eff = (er+1)/2 + (er-1)/2*(1+10/s)**(-x*y)\n",
    "    return e_eff\n",
    "\n",
    "def mstrip_extra(Z0,er,f = 1e9,h = 1):\n",
    "    \"\"\"\n",
    "    Extra parameters: L', C', beta, \\lambda_g\n",
    "    \n",
    "    Z0 = characteristic impedance in Ohms\n",
    "    er = relative permittivity\n",
    "    f = operatng frequency in Hz\n",
    "    h = substrate height in m\n",
    "    \"\"\"\n",
    "    c = 3e8 # m/s\n",
    "    s, e_eff = mstrip_dsgn(Z0,er)\n",
    "    C_p = np.sqrt(e_eff)/(Z0*c) # F/m\n",
    "    L_p = Z0**2*C_p  #H/m\n",
    "    R_p = 0\n",
    "    G_p = 0\n",
    "    alpha = 0\n",
    "    beta = 2*np.pi/c*np.sqrt(e_eff) # rad/m\n",
    "    lambda_g = c/np.sqrt(e_eff)/f # m\n",
    "    print('Breedte van het baantje w = %1.3e mm, Rel. perm: e_eff = %2.3f' % (s*h*1000,e_eff))\n",
    "    print('Breedte van het baantje  w = %1.3e mils (vaak voorkomende PCB eenheid)' % (s*h*1000/0.0254,))\n",
    "    print('-----------------------------------------------------')\n",
    "    print(\"Weerstand per eenheid lengte: R' = 0 ohms/m\")\n",
    "    print(\"Inductantie per eenheid lengte: L' = %1.3e nH/m\" % (L_p*1e9,))\n",
    "    print(\"lek geleidbaarheid per eenheid lengte: G' = 0 S/n\")\n",
    "    print(\"Capaciteit per eenheid lengte: C' = %1.3e pF/m\" % (C_p*1e12,))\n",
    "    print('-----------------------------------------------------')\n",
    "    print('Golflengte in de vrije ruimte: lambda = %1.3e cm' % (c/f*1e2,))\n",
    "    print('Golflengte in het medium (guide): lambda_g = %1.3e cm' % (lambda_g*1e2,))"
   ]
  },
  {
   "cell_type": "markdown",
   "id": "a78581da-a77a-4f62-a470-226cef483e28",
   "metadata": {
    "editable": true,
    "slideshow": {
     "slide_type": "skip"
    }
   },
   "source": [
    "Een voorbeeld: \n",
    "\n",
    "We willen een 50 Ohm transmissielijn bekomen voor een 2.4 GHz signaal op een PCB waarvan de relatieve permitiviteit van het dielectricum $\\epsilon_r$=4.6. De dikte van het dielectricum is 1/16 inch"
   ]
  },
  {
   "cell_type": "code",
   "execution_count": 9,
   "id": "a11103b5-480c-4dc9-a5c5-d03c7b26edd1",
   "metadata": {
    "collapsed": false,
    "editable": true,
    "execution": {
     "iopub.execute_input": "2022-01-04T16:07:02.503973Z",
     "iopub.status.busy": "2022-01-04T16:07:02.502965Z",
     "iopub.status.idle": "2022-01-04T16:07:02.518921Z",
     "shell.execute_reply": "2022-01-04T16:07:02.518921Z",
     "shell.execute_reply.started": "2022-01-04T16:07:02.503973Z"
    },
    "jupyter": {
     "source_hidden": true
    },
    "slideshow": {
     "slide_type": "skip"
    }
   },
   "outputs": [
    {
     "name": "stdout",
     "output_type": "stream",
     "text": [
      "Breedte van het baantje w = 2.931e+00 mm, Rel. perm: e_eff = 3.460\n",
      "Breedte van het baantje  w = 1.154e+02 mils (vaak voorkomende PCB eenheid)\n",
      "-----------------------------------------------------\n",
      "Weerstand per eenheid lengte: R' = 0 ohms/m\n",
      "Inductantie per eenheid lengte: L' = 3.100e+02 nH/m\n",
      "lek geleidbaarheid per eenheid lengte: G' = 0 S/n\n",
      "Capaciteit per eenheid lengte: C' = 1.240e+02 pF/m\n",
      "-----------------------------------------------------\n",
      "Golflengte in de vrije ruimte: lambda = 1.250e+01 cm\n",
      "Golflengte in het medium (guide): lambda_g = 6.720e+00 cm\n"
     ]
    }
   ],
   "source": [
    "mstrip_extra(50,4.6,f= 2.4e9,h=1/16*2.54*1/100) #in*cm/in*m/cm"
   ]
  },
  {
   "cell_type": "code",
   "execution_count": 7,
   "id": "b8623f01-8dab-4352-a078-4cd773a60569",
   "metadata": {
    "collapsed": false,
    "execution": {
     "iopub.execute_input": "2022-01-04T16:06:16.807315Z",
     "iopub.status.busy": "2022-01-04T16:06:16.806286Z",
     "iopub.status.idle": "2022-01-04T16:06:16.812295Z",
     "shell.execute_reply": "2022-01-04T16:06:16.812295Z",
     "shell.execute_reply.started": "2022-01-04T16:06:16.807315Z"
    },
    "jupyter": {
     "source_hidden": true
    },
    "slideshow": {
     "slide_type": "skip"
    }
   },
   "outputs": [
    {
     "name": "stdout",
     "output_type": "stream",
     "text": [
      "Quart golflengte bij 2.4 GHz  = 1.680 cm\n"
     ]
    }
   ],
   "source": [
    "print('Quart golflengte bij 2.4 GHz  = %1.3f cm' % (6.72/4,))"
   ]
  },
  {
   "cell_type": "code",
   "execution_count": 5,
   "id": "ff33fae4-6a66-474c-afcb-ca449c170028",
   "metadata": {
    "KULeuvenSlides": {
     "slide_code": "normal",
     "slide_ref": "",
     "slide_title": ""
    },
    "editable": true,
    "execution": {
     "iopub.execute_input": "2022-02-01T22:11:50.953506Z",
     "iopub.status.busy": "2022-02-01T22:11:50.953506Z",
     "iopub.status.idle": "2022-02-01T22:11:50.969116Z",
     "shell.execute_reply": "2022-02-01T22:11:50.969116Z",
     "shell.execute_reply.started": "2022-02-01T22:11:50.953506Z"
    },
    "jupyter": {
     "source_hidden": true
    },
    "mystnb": {
     "figure": {
      "caption": "",
      "name": ""
     }
    },
    "slideshow": {
     "slide_type": "skip"
    }
   },
   "outputs": [
    {
     "name": "stdout",
     "output_type": "stream",
     "text": [
      "Breedte van het baantje w = 1.884e+00 mm, Rel. perm: e_eff = 3.338\n",
      "Breedte van het baantje  w = 7.418e+01 mils (vaak voorkomende PCB eenheid)\n",
      "-----------------------------------------------------\n",
      "Weerstand per eenheid lengte: R' = 0 ohms/m\n",
      "Inductantie per eenheid lengte: L' = 3.898e+02 nH/m\n",
      "lek geleidbaarheid per eenheid lengte: G' = 0 S/n\n",
      "Capaciteit per eenheid lengte: C' = 9.516e+01 pF/m\n",
      "-----------------------------------------------------\n",
      "Golflengte in de vrije ruimte: lambda = 6.000e+01 cm\n",
      "Golflengte in het medium (guide): lambda_g = 3.284e+01 cm\n"
     ]
    }
   ],
   "source": [
    "mstrip_extra(64,4.6,f= 0.5e9,h=1/16*2.54*1/100) #in*cm/in*m/cm"
   ]
  },
  {
   "cell_type": "markdown",
   "id": "7f23043e-791f-4b60-8f84-fecb54577bda",
   "metadata": {
    "KULeuvenSlides": {
     "slide_code": "normal",
     "slide_ref": "",
     "slide_title": ""
    },
    "editable": true,
    "slideshow": {
     "slide_type": "skip"
    }
   },
   "source": [
    "## Microstrip Analyse Plots\n",
    "We vergelijken 3 types: Micro-fiber PTFE, FR4, en Ceramisch-gevulde PTFE voor een aantal waardes van $w/h$."
   ]
  },
  {
   "cell_type": "code",
   "execution_count": 24,
   "id": "b679539b-100b-423a-99b2-beba9b71929d",
   "metadata": {
    "KULeuvenSlides": {
     "slide_code": "normal",
     "slide_ref": "",
     "slide_title": "Verloop van de karakteristieke impedantie van een microstriplijn als functie van de dimensies"
    },
    "editable": true,
    "execution": {
     "iopub.execute_input": "2021-12-06T23:06:22.729914Z",
     "iopub.status.busy": "2021-12-06T23:06:22.729914Z",
     "iopub.status.idle": "2021-12-06T23:06:23.575155Z",
     "shell.execute_reply": "2021-12-06T23:06:23.574158Z",
     "shell.execute_reply.started": "2021-12-06T23:06:22.729914Z"
    },
    "jupyter": {
     "source_hidden": true
    },
    "mystnb": {
     "figure": {
      "caption": "Verloop van de karakteristieke impedantie van een microstriplijn als functie van de dimensies.",
      "name": "microstrip_ZvW"
     }
    },
    "slideshow": {
     "slide_type": "slide"
    }
   },
   "outputs": [
    {
     "data": {
      "image/png": "[encoded data removed]",
      "text/plain": [
       "<Figure size 432x288 with 1 Axes>"
      ]
     },
     "metadata": {
      "needs_background": "light"
     },
     "output_type": "display_data"
    }
   ],
   "source": [
    "s = np.arange(0.01,10,.01)\n",
    "Z0 = np.zeros_like(s)\n",
    "e_eff = np.zeros_like(s)\n",
    "er = (2.2,4.6,11.2)\n",
    "for m in range(3):\n",
    "    for k,sk in enumerate(s):\n",
    "        Z0[k],e_eff[k] = mstrip_anal(sk,er[m])\n",
    "    plt.plot(s,Z0)\n",
    "plt.ylim([0,200])\n",
    "plt.xlabel(r'$w/h$')\n",
    "plt.ylabel(r'$Z_0$')\n",
    "plt.title(r'Microstrip Analysis: $Z_0$ vs $w/h$')\n",
    "plt.legend((r'MF-PTFE: $\\epsilon_r = 2.2$',r'FR-4: $\\epsilon_r=4.6$',\n",
    "        r'CF_PTFE: $\\epsilon_r=11.2$'),loc='best')\n",
    "plt.grid();"
   ]
  },
  {
   "cell_type": "code",
   "execution_count": 12,
   "id": "8b84b457-0829-46df-b9b6-7df774cfd718",
   "metadata": {
    "KULeuvenSlides": {
     "slide_code": "normal",
     "slide_ref": "",
     "slide_title": "Dielectrische constante van een microstriplijn als functie van de dimensies"
    },
    "editable": true,
    "execution": {
     "iopub.execute_input": "2022-01-04T16:20:59.864017Z",
     "iopub.status.busy": "2022-01-04T16:20:59.864017Z",
     "iopub.status.idle": "2022-01-04T16:21:00.652457Z",
     "shell.execute_reply": "2022-01-04T16:21:00.652457Z",
     "shell.execute_reply.started": "2022-01-04T16:20:59.864017Z"
    },
    "jupyter": {
     "source_hidden": true
    },
    "mystnb": {
     "figure": {
      "caption": "Verloop van de dielectrische constante van een microstriplijn als functie van de dimmensies.",
      "name": "microstrip_evW"
     }
    },
    "slideshow": {
     "slide_type": "slide"
    }
   },
   "outputs": [
    {
     "data": {
      "image/png": "[encoded data removed]",
      "text/plain": [
       "<Figure size 432x288 with 1 Axes>"
      ]
     },
     "metadata": {
      "needs_background": "light"
     },
     "output_type": "display_data"
    }
   ],
   "source": [
    "s = np.arange(0.01,10,.01)\n",
    "Z0 = np.zeros_like(s)\n",
    "e_eff = np.zeros_like(s)\n",
    "er = (2.2,4.6,11.2)\n",
    "for m in range(3):\n",
    "    for k,sk in enumerate(s):\n",
    "        Z0[k],e_eff[k] = mstrip_anal(sk,er[m])\n",
    "    plt.plot(s,e_eff)\n",
    "plt.ylim([0,10])\n",
    "plt.xlabel(r'$w/h$')\n",
    "plt.ylabel(r'$\\epsilon_{eff}$')\n",
    "plt.title(r'Microstrip Analyse: $\\epsilon_{eff}$ vs $w/h$')\n",
    "plt.legend((r'$\\epsilon_r = 2.2$',r'$\\epsilon_r=4.6$',\n",
    "        r'$\\epsilon_r=11.2$'),loc='best')\n",
    "plt.grid();"
   ]
  },
  {
   "cell_type": "markdown",
   "id": "6ddff636-1d2e-459a-acfa-c422350a7fc0",
   "metadata": {
    "KULeuvenSlides": {
     "slide_code": "normal",
     "slide_ref": "",
     "slide_title": ""
    },
    "editable": true,
    "slideshow": {
     "slide_type": "skip"
    }
   },
   "source": [
    "## Microstrip Design Plots\n",
    "\n",
    "Voor het design doen we eigenlijk het omgekeerde van de analyse: we vertrekken van een gevraagde $Z_o$ en we rekenen uit wat de $w$ en $h$ moeten zijn om dit te bekomen.\n",
    "We vergelijken 3 types: Micro-fiber PTFE, FR4, en Ceramisch-gevulde PTFE voor een aantal waardes van $w/h$."
   ]
  },
  {
   "cell_type": "code",
   "execution_count": 18,
   "id": "7bd9314d-5cc4-41e3-a283-50865b35b74d",
   "metadata": {
    "KULeuvenSlides": {
     "slide_code": "normal",
     "slide_ref": "",
     "slide_title": "dimensies om de vereiste karakteristieke impedantie van een microstriplijn te bekomen"
    },
    "editable": true,
    "execution": {
     "iopub.execute_input": "2022-01-04T16:24:14.057266Z",
     "iopub.status.busy": "2022-01-04T16:24:14.057266Z",
     "iopub.status.idle": "2022-01-04T16:24:14.345493Z",
     "shell.execute_reply": "2022-01-04T16:24:14.345493Z",
     "shell.execute_reply.started": "2022-01-04T16:24:14.057266Z"
    },
    "jupyter": {
     "source_hidden": true
    },
    "mystnb": {
     "figure": {
      "caption": "dimmensies om de vereiste karakteristieke impedantie van een microstriplijn te bekomen.",
      "name": "microstrip_WvZ"
     }
    },
    "slideshow": {
     "slide_type": "slide"
    }
   },
   "outputs": [
    {
     "data": {
      "image/png": "[encoded data removed]",
      "text/plain": [
       "<Figure size 432x288 with 1 Axes>"
      ]
     },
     "metadata": {
      "needs_background": "light"
     },
     "output_type": "display_data"
    }
   ],
   "source": [
    "Z0 = np.arange(20,140,.1)\n",
    "s = np.zeros_like(Z0)\n",
    "e_eff = np.zeros_like(Z0)\n",
    "er = (2.2,4.6,11.2)\n",
    "for m in range(3):\n",
    "    for k,Z0k in enumerate(Z0):\n",
    "        s[k],e_eff[k] = mstrip_dsgn(Z0k,er[m])\n",
    "    plt.plot(Z0,s)\n",
    "plt.ylim([0,10])\n",
    "plt.xlabel(r'$Z_0$')\n",
    "plt.ylabel(r'$w/h$')\n",
    "plt.title(r'Microstrip Design: $w/h$ vs $Z_0$')\n",
    "plt.legend((r'MF-PTFE: $\\epsilon_r = 2.2$',r'FR-4: $\\epsilon_r=4.6$',\n",
    "        r'CF_PTFE: $\\epsilon_r=11.2$'),loc='best')\n",
    "plt.grid();"
   ]
  },
  {
   "cell_type": "code",
   "execution_count": 21,
   "id": "9fbd06d5-1b4c-4fce-a8aa-b0c5298f47b2",
   "metadata": {
    "KULeuvenSlides": {
     "slide_code": "normal",
     "slide_ref": "",
     "slide_title": "De relatie tussen effectieve dielectrische constante en karakteristieke impedantie"
    },
    "editable": true,
    "execution": {
     "iopub.execute_input": "2022-01-04T16:26:38.610558Z",
     "iopub.status.busy": "2022-01-04T16:26:38.609560Z",
     "iopub.status.idle": "2022-01-04T16:26:38.985555Z",
     "shell.execute_reply": "2022-01-04T16:26:38.984556Z",
     "shell.execute_reply.started": "2022-01-04T16:26:38.610558Z"
    },
    "jupyter": {
     "source_hidden": true
    },
    "mystnb": {
     "figure": {
      "caption": "De relatie tussen effectieve dielectrische constante en karakteristieke impedantie.",
      "name": "microstrip_evZ"
     }
    },
    "slideshow": {
     "slide_type": "slide"
    }
   },
   "outputs": [
    {
     "data": {
      "image/png": "[encoded data removed]",
      "text/plain": [
       "<Figure size 432x288 with 1 Axes>"
      ]
     },
     "metadata": {
      "needs_background": "light"
     },
     "output_type": "display_data"
    }
   ],
   "source": [
    "for m in range(3):\n",
    "    for k,Z0k in enumerate(Z0):\n",
    "        s[k],e_eff[k] = mstrip_dsgn(Z0k,er[m])\n",
    "    plt.plot(Z0,e_eff)\n",
    "plt.ylim([1,10])\n",
    "plt.xlabel(r'$Z_0$')\n",
    "plt.ylabel(r'$\\epsilon_{eff}$')\n",
    "plt.title(r'Microstrip Design: $\\epsilon_{eff}$ vs $Z_0$')\n",
    "plt.legend((r'MF-PTFE: $\\epsilon_r = 2.2$',r'FR-4: $\\epsilon_r=4.6$',\n",
    "        r'CF_PTFE: $\\epsilon_r=11.2$'),loc='best')\n",
    "plt.grid();"
   ]
  },
  {
   "cell_type": "markdown",
   "id": "556e4fd7-45d1-4faa-b9fb-9d489cfcef9e",
   "metadata": {},
   "source": [
    "# Andere transmissie lijnconfiguraties\n",
    "\n"
   ]
  },
  {
   "cell_type": "code",
   "execution_count": 2,
   "id": "979a2cbc-6894-4ca9-b8b7-d06560cb2e3c",
   "metadata": {
    "execution": {
     "iopub.execute_input": "2025-06-01T12:31:14.885108Z",
     "iopub.status.busy": "2025-06-01T12:31:14.884530Z",
     "iopub.status.idle": "2025-06-01T12:31:14.893675Z",
     "shell.execute_reply": "2025-06-01T12:31:14.893035Z",
     "shell.execute_reply.started": "2025-06-01T12:31:14.885081Z"
    },
    "jupyter": {
     "source_hidden": true
    }
   },
   "outputs": [
    {
     "data": {
      "image/gif": "[encoded data removed]",
      "text/plain": [
       "<IPython.core.display.Image object>"
      ]
     },
     "execution_count": 2,
     "metadata": {},
     "output_type": "execute_result"
    }
   ],
   "source": [
    "display.Image(\"./images/balanced-shielded-line.gif\")"
   ]
  },
  {
   "cell_type": "markdown",
   "id": "6b12ed9a-36ab-480a-8328-6dff23f4ac50",
   "metadata": {},
   "source": [
    "## Twee geleiders in een onbeperkt medium\n",
    "\n",
    "{numref}`2air` toont de doorsnede van 2 gelijke geleiders met diameter $d$ op een afstand $D$ van elkaar verwijderd. De karakteristieke impedantie $Z_0$ van deze topologie is:\n",
    "\n",
    "$$Z_0= \\frac{1}{\\pi}\\sqrt{\\frac{\\mu}{\\epsilon}}\\cosh^{-1}\\left(\\frac{D}{d}\\right) \n",
    "\\approx \\frac{119.92}{\\sqrt{\\epsilon}} \\ln\\left(\\frac{2D}{d}\\right)\n",
    "\\approx \\frac{276}{\\sqrt{\\epsilon}} \\log_{10}\\left(\\frac{2D}{d}\\right)$$\n",
    "\n",
    "Voor de geldigheid van deze formule is het essentieel dat beide geleiders een gelijke en tegengestelde stroom geleiden."
   ]
  },
  {
   "cell_type": "code",
   "execution_count": 18,
   "id": "747ba472-ca7b-4e9e-9fd3-c63fc1e6454e",
   "metadata": {
    "execution": {
     "iopub.execute_input": "2025-06-01T20:59:33.997984Z",
     "iopub.status.busy": "2025-06-01T20:59:33.994057Z",
     "iopub.status.idle": "2025-06-01T20:59:34.028717Z",
     "shell.execute_reply": "2025-06-01T20:59:34.027727Z",
     "shell.execute_reply.started": "2025-06-01T20:59:33.997857Z"
    },
    "jupyter": {
     "source_hidden": true
    },
    "mystnb": {
     "figure": {
      "caption": "Twee geleiders in een onbeperkt medium",
      "name": "2air"
     }
    }
   },
   "outputs": [
    {
     "data": {
      "image/gif": "[encoded data removed]",
      "text/plain": [
       "<IPython.core.display.Image object>"
      ]
     },
     "execution_count": 18,
     "metadata": {},
     "output_type": "execute_result"
    }
   ],
   "source": [
    "display.Image(\"./images/two-conductors-in-air.gif\")"
   ]
  },
  {
   "cell_type": "markdown",
   "id": "58afb384-c6b4-44ea-b9f5-e03a8e666197",
   "metadata": {
    "mystnb": {
     "figure": {
      "caption": "",
      "name": ""
     }
    }
   },
   "source": [
    "Het is ook mogelijk dat beide geleiders niet dezelfde diameter hebben. In {numref}`z_ongelijk` wordt de doorsnede geschetst voor de diameters $d_1$ en $d_2$. \n",
    "\n",
    "De karakteristieke impedantie $Z_0$ van deze topologie is:\n",
    "\n",
    "$$Z_0= \\frac{1}{2\\pi}\\sqrt{\\frac{\\mu}{\\epsilon}}\\cosh^{-1}\\left(\\frac{1}{2}\\left(\\frac{4 D^2}{d_1 d_2} -\\frac{d_1}{d_2}-\\frac{d_2}{d_1}\\right)\\right) $$\n"
   ]
  },
  {
   "cell_type": "code",
   "execution_count": 9,
   "id": "9f593cda-f300-4de3-9d91-bf74924b395b",
   "metadata": {
    "execution": {
     "iopub.execute_input": "2025-06-01T12:39:40.382054Z",
     "iopub.status.busy": "2025-06-01T12:39:40.381726Z",
     "iopub.status.idle": "2025-06-01T12:39:40.390543Z",
     "shell.execute_reply": "2025-06-01T12:39:40.389482Z",
     "shell.execute_reply.started": "2025-06-01T12:39:40.382033Z"
    },
    "jupyter": {
     "source_hidden": true
    },
    "mystnb": {
     "figure": {
      "caption": "Doorsnede van een transmissielijn met 2 geleiders van ongelijke diameters.",
      "name": "z_ongelijk"
     }
    }
   },
   "outputs": [
    {
     "data": {
      "image/gif": "[encoded data removed]",
      "text/plain": [
       "<IPython.core.display.Image object>"
      ]
     },
     "execution_count": 9,
     "metadata": {},
     "output_type": "execute_result"
    }
   ],
   "source": [
    "display.Image(\"./images/balanced-conductors-unequal-diameters.gif\")"
   ]
  },
  {
   "cell_type": "code",
   "execution_count": 4,
   "id": "46ccc9ff-22a8-4cef-b8d1-8b106c1d4fe7",
   "metadata": {
    "execution": {
     "iopub.execute_input": "2025-06-01T12:39:37.558339Z",
     "iopub.status.busy": "2025-06-01T12:39:37.557731Z",
     "iopub.status.idle": "2025-06-01T12:39:37.574042Z",
     "shell.execute_reply": "2025-06-01T12:39:37.570696Z",
     "shell.execute_reply.started": "2025-06-01T12:39:37.558283Z"
    },
    "jupyter": {
     "source_hidden": true
    }
   },
   "outputs": [
    {
     "data": {
      "image/gif": "[encoded data removed]",
      "text/plain": [
       "<IPython.core.display.Image object>"
      ]
     },
     "execution_count": 4,
     "metadata": {},
     "output_type": "execute_result"
    }
   ],
   "source": [
    "display.Image(\"./images/5-wire-array.gif\")"
   ]
  },
  {
   "cell_type": "code",
   "execution_count": 5,
   "id": "c565d371-7c29-490e-abcc-ac259de9c535",
   "metadata": {
    "execution": {
     "iopub.execute_input": "2025-06-01T12:39:38.091029Z",
     "iopub.status.busy": "2025-06-01T12:39:38.090563Z",
     "iopub.status.idle": "2025-06-01T12:39:38.104219Z",
     "shell.execute_reply": "2025-06-01T12:39:38.102045Z",
     "shell.execute_reply.started": "2025-06-01T12:39:38.090996Z"
    },
    "jupyter": {
     "source_hidden": true
    }
   },
   "outputs": [
    {
     "data": {
      "image/gif": "[encoded data removed]",
      "text/plain": [
       "<IPython.core.display.Image object>"
      ]
     },
     "execution_count": 5,
     "metadata": {},
     "output_type": "execute_result"
    }
   ],
   "source": [
    "display.Image(\"./images/air-coax-supporting-dielectric-wedge.gif\")"
   ]
  },
  {
   "cell_type": "code",
   "execution_count": 6,
   "id": "f3ee46b4-1543-4b04-bc08-0d97700e37ed",
   "metadata": {
    "execution": {
     "iopub.execute_input": "2025-06-01T12:39:38.616312Z",
     "iopub.status.busy": "2025-06-01T12:39:38.616054Z",
     "iopub.status.idle": "2025-06-01T12:39:38.625194Z",
     "shell.execute_reply": "2025-06-01T12:39:38.623229Z",
     "shell.execute_reply.started": "2025-06-01T12:39:38.616296Z"
    },
    "jupyter": {
     "source_hidden": true
    }
   },
   "outputs": [
    {
     "data": {
      "image/gif": "[encoded data removed]",
      "text/plain": [
       "<IPython.core.display.Image object>"
      ]
     },
     "execution_count": 6,
     "metadata": {},
     "output_type": "execute_result"
    }
   ],
   "source": [
    "display.Image(\"./images/balanced-2-wire-in-rectangular-enclosure.gif\")"
   ]
  },
  {
   "cell_type": "code",
   "execution_count": 7,
   "id": "455455e4-4aca-436d-a910-71d96275a513",
   "metadata": {
    "execution": {
     "iopub.execute_input": "2025-06-01T12:39:39.408260Z",
     "iopub.status.busy": "2025-06-01T12:39:39.407778Z",
     "iopub.status.idle": "2025-06-01T12:39:39.423040Z",
     "shell.execute_reply": "2025-06-01T12:39:39.419422Z",
     "shell.execute_reply.started": "2025-06-01T12:39:39.408226Z"
    },
    "jupyter": {
     "source_hidden": true
    }
   },
   "outputs": [
    {
     "data": {
      "image/gif": "[encoded data removed]",
      "text/plain": [
       "<IPython.core.display.Image object>"
      ]
     },
     "execution_count": 7,
     "metadata": {},
     "output_type": "execute_result"
    }
   ],
   "source": [
    "display.Image(\"./images/balanced-4-wire-conductors.gif\")"
   ]
  },
  {
   "cell_type": "code",
   "execution_count": 8,
   "id": "2e32e0bd-a92d-4b8e-85eb-ffbe17bd76a3",
   "metadata": {
    "execution": {
     "iopub.execute_input": "2025-06-01T12:39:39.784072Z",
     "iopub.status.busy": "2025-06-01T12:39:39.783766Z",
     "iopub.status.idle": "2025-06-01T12:39:39.793708Z",
     "shell.execute_reply": "2025-06-01T12:39:39.791104Z",
     "shell.execute_reply.started": "2025-06-01T12:39:39.784050Z"
    },
    "jupyter": {
     "source_hidden": true
    }
   },
   "outputs": [
    {
     "data": {
      "image/gif": "[encoded data removed]",
      "text/plain": [
       "<IPython.core.display.Image object>"
      ]
     },
     "execution_count": 8,
     "metadata": {},
     "output_type": "execute_result"
    }
   ],
   "source": [
    "display.Image(\"./images/balanced-conductors-between-ground-planes.gif\")"
   ]
  },
  {
   "cell_type": "code",
   "execution_count": 10,
   "id": "0e426b22-4d49-4c94-bf29-357957c5ddcf",
   "metadata": {
    "execution": {
     "iopub.execute_input": "2025-06-01T12:39:40.960863Z",
     "iopub.status.busy": "2025-06-01T12:39:40.960447Z",
     "iopub.status.idle": "2025-06-01T12:39:40.973510Z",
     "shell.execute_reply": "2025-06-01T12:39:40.971874Z",
     "shell.execute_reply.started": "2025-06-01T12:39:40.960834Z"
    },
    "jupyter": {
     "source_hidden": true
    }
   },
   "outputs": [
    {
     "data": {
      "image/gif": "[encoded data removed]",
      "text/plain": [
       "<IPython.core.display.Image object>"
      ]
     },
     "execution_count": 10,
     "metadata": {},
     "output_type": "execute_result"
    }
   ],
   "source": [
    "display.Image(\"./images/balanced-parallel-conductors-between-ground-planes.gif\")"
   ]
  },
  {
   "cell_type": "code",
   "execution_count": 12,
   "id": "b893a0cd-80e9-4c3a-87bb-d38f2e3636a6",
   "metadata": {
    "execution": {
     "iopub.execute_input": "2025-06-01T12:39:42.376891Z",
     "iopub.status.busy": "2025-06-01T12:39:42.376431Z",
     "iopub.status.idle": "2025-06-01T12:39:42.392977Z",
     "shell.execute_reply": "2025-06-01T12:39:42.390126Z",
     "shell.execute_reply.started": "2025-06-01T12:39:42.376863Z"
    },
    "jupyter": {
     "source_hidden": true
    }
   },
   "outputs": [
    {
     "data": {
      "image/gif": "[encoded data removed]",
      "text/plain": [
       "<IPython.core.display.Image object>"
      ]
     },
     "execution_count": 12,
     "metadata": {},
     "output_type": "execute_result"
    }
   ],
   "source": [
    "display.Image(\"./images/parallel-conductors-above-ground-unequal-height.gif\")"
   ]
  },
  {
   "cell_type": "markdown",
   "id": "4563ce92-bf6b-4de4-8911-f9deec52fa90",
   "metadata": {},
   "source": [
    "# Een geleider boven een grondvlak\n",
    "\n",
    "{numref}`1gel` toont de configuratie van een geleider boven een grondvlak. Hierbij is het vanzelfspreekend dat de terugstroom door het grondvlak loopt. Daarom wordt de waarde van de karakteristieke impedantie $Z_0$ bekomen tussen deze geleider en het grondvlak.\n",
    "\n",
    "$$Z_0= \\frac{138}{\\sqrt{ε}} \\log_{10}\\left(\\frac{4h}{d}\\right) $$ "
   ]
  },
  {
   "cell_type": "code",
   "execution_count": 14,
   "id": "505308b6-4f1a-464e-b013-452c7936219e",
   "metadata": {
    "execution": {
     "iopub.execute_input": "2025-06-01T12:39:43.349907Z",
     "iopub.status.busy": "2025-06-01T12:39:43.349475Z",
     "iopub.status.idle": "2025-06-01T12:39:43.359441Z",
     "shell.execute_reply": "2025-06-01T12:39:43.357827Z",
     "shell.execute_reply.started": "2025-06-01T12:39:43.349879Z"
    },
    "jupyter": {
     "source_hidden": true
    },
    "mystnb": {
     "figure": {
      "caption": "configuratie van een geleider boven een grondvlak",
      "name": "1gel"
     }
    }
   },
   "outputs": [
    {
     "data": {
      "image/gif": "[encoded data removed]",
      "text/plain": [
       "<IPython.core.display.Image object>"
      ]
     },
     "execution_count": 14,
     "metadata": {},
     "output_type": "execute_result"
    }
   ],
   "source": [
    "display.Image(\"./images/single-conductor-above-ground.gif\")"
   ]
  },
  {
   "cell_type": "markdown",
   "id": "5f413951-0efc-46e1-bd01-e50ed0be39e1",
   "metadata": {},
   "source": [
    "## Twee geleiders boven een grondvlak\n",
    "\n",
    "Hierbij is het belangrijk dat we het verschil beschouwen tussen de differentiele karakteristieke impedantie (zie {numref}`dif2gnd`) en de common mode karakteristieke impedantie (zie {numref}`com2gnd`).\n",
    "\n",
    "Wanneer d << D en d << h worden de vergelijkingen:\n",
    "\n",
    "$$Z_{0_{diff}}= \\frac{276}{\\sqrt{ε}}  \\log_{10}\\left(\\frac{2D}{d}\\frac{1}{\\sqrt{1+\\left(\\frac{D}{2h}\\right)^2}}\\right) $$\n",
    "\n",
    "$$Z_{0_{common}}= \\frac{69}{\\sqrt{ε}} \\log_{10}\\left(\\frac{4h}{d}\\frac{1}{\\sqrt{1+\\left(\\frac{2h}{D}\\right)^2}}\\right) $$\n",
    "\n",
    "We zien ook dat als $D$ zeer groot wordt, de waarde van $Z_{0_{common}}$ de helft wordt van de waarde van een enkelvoudige geleider boven een grondvlak, met andere woorden: voor grote D kunnen we beide geleiders in parallel beschouwen."
   ]
  },
  {
   "cell_type": "code",
   "execution_count": 11,
   "id": "adaad801-31e9-44a9-8eee-e2f2c7727420",
   "metadata": {
    "execution": {
     "iopub.execute_input": "2025-06-01T12:39:41.745223Z",
     "iopub.status.busy": "2025-06-01T12:39:41.744836Z",
     "iopub.status.idle": "2025-06-01T12:39:41.755112Z",
     "shell.execute_reply": "2025-06-01T12:39:41.752051Z",
     "shell.execute_reply.started": "2025-06-01T12:39:41.745194Z"
    },
    "jupyter": {
     "source_hidden": true
    },
    "mystnb": {
     "figure": {
      "caption": "differentiele karakteristieke impedantie boven een grondvlak",
      "name": "dif2gnd"
     }
    }
   },
   "outputs": [
    {
     "data": {
      "image/gif": "[encoded data removed]",
      "text/plain": [
       "<IPython.core.display.Image object>"
      ]
     },
     "execution_count": 11,
     "metadata": {},
     "output_type": "execute_result"
    }
   ],
   "source": [
    "display.Image(\"./images/balanced-parallel-conductors-near-ground.gif\")"
   ]
  },
  {
   "cell_type": "code",
   "execution_count": 13,
   "id": "f34ae2b8-0e95-405a-8c56-caf2b5a68b13",
   "metadata": {
    "execution": {
     "iopub.execute_input": "2025-06-01T12:39:42.924542Z",
     "iopub.status.busy": "2025-06-01T12:39:42.924110Z",
     "iopub.status.idle": "2025-06-01T12:39:42.934441Z",
     "shell.execute_reply": "2025-06-01T12:39:42.933287Z",
     "shell.execute_reply.started": "2025-06-01T12:39:42.924514Z"
    },
    "jupyter": {
     "source_hidden": true
    },
    "mystnb": {
     "figure": {
      "caption": "common mode karakteristieke impedantie boven een grondvlak",
      "name": "com2gnd"
     }
    }
   },
   "outputs": [
    {
     "data": {
      "image/gif": "[encoded data removed]",
      "text/plain": [
       "<IPython.core.display.Image object>"
      ]
     },
     "execution_count": 13,
     "metadata": {},
     "output_type": "execute_result"
    }
   ],
   "source": [
    "display.Image(\"./images/parallel-conductors-near-ground.gif\")"
   ]
  },
  {
   "cell_type": "code",
   "execution_count": 15,
   "id": "d60db536-8836-40ec-8107-3761cbd2947c",
   "metadata": {
    "execution": {
     "iopub.execute_input": "2025-06-01T12:39:43.109561Z",
     "iopub.status.busy": "2025-06-01T12:39:43.109129Z",
     "iopub.status.idle": "2025-06-01T12:39:43.122330Z",
     "shell.execute_reply": "2025-06-01T12:39:43.120037Z",
     "shell.execute_reply.started": "2025-06-01T12:39:43.109535Z"
    },
    "jupyter": {
     "source_hidden": true
    }
   },
   "outputs": [
    {
     "data": {
      "image/gif": "[encoded data removed]",
      "text/plain": [
       "<IPython.core.display.Image object>"
      ]
     },
     "execution_count": 15,
     "metadata": {},
     "output_type": "execute_result"
    }
   ],
   "source": [
    "display.Image(\"./images/single-conductor-between-ground-planes.gif\")"
   ]
  },
  {
   "cell_type": "code",
   "execution_count": 16,
   "id": "50390404-ff5f-4902-9546-ce75a3f1a63d",
   "metadata": {
    "execution": {
     "iopub.execute_input": "2025-06-01T12:39:43.636201Z",
     "iopub.status.busy": "2025-06-01T12:39:43.635753Z",
     "iopub.status.idle": "2025-06-01T12:39:43.646492Z",
     "shell.execute_reply": "2025-06-01T12:39:43.643972Z",
     "shell.execute_reply.started": "2025-06-01T12:39:43.636167Z"
    },
    "jupyter": {
     "source_hidden": true
    }
   },
   "outputs": [
    {
     "data": {
      "image/gif": "[encoded data removed]",
      "text/plain": [
       "<IPython.core.display.Image object>"
      ]
     },
     "execution_count": 16,
     "metadata": {},
     "output_type": "execute_result"
    }
   ],
   "source": [
    "display.Image(\"./images/single-conductor-square-enclosure.gif\")"
   ]
  },
  {
   "cell_type": "code",
   "execution_count": 17,
   "id": "b15b2281-523a-48e9-80b5-2f6f26ee9ab0",
   "metadata": {
    "execution": {
     "iopub.execute_input": "2025-06-01T12:39:44.135876Z",
     "iopub.status.busy": "2025-06-01T12:39:44.135349Z",
     "iopub.status.idle": "2025-06-01T12:39:44.148215Z",
     "shell.execute_reply": "2025-06-01T12:39:44.145974Z",
     "shell.execute_reply.started": "2025-06-01T12:39:44.135843Z"
    },
    "jupyter": {
     "source_hidden": true
    }
   },
   "outputs": [
    {
     "data": {
      "image/gif": "[encoded data removed]",
      "text/plain": [
       "<IPython.core.display.Image object>"
      ]
     },
     "execution_count": 17,
     "metadata": {},
     "output_type": "execute_result"
    }
   ],
   "source": [
    "display.Image(\"./images/twin-conductors-inside-shield.gif\")"
   ]
  }
 ],
 "metadata": {
  "KULeuvenSlides": {
   "authors": "Jan Genoe",
   "date": "Februari 2022",
   "kuleuven_presentation_style": "1425",
   "subtitle": "Modellen voor AC analyse",
   "title": "Transmissielijnen"
  },
  "citation-manager": {
   "items": {}
  },
  "kernelspec": {
   "display_name": "KULeuven",
   "language": "python",
   "name": "kuleuven"
  },
  "language_info": {
   "codemirror_mode": {
    "name": "ipython",
    "version": 3
   },
   "file_extension": ".py",
   "mimetype": "text/x-python",
   "name": "python",
   "nbconvert_exporter": "python",
   "pygments_lexer": "ipython3",
   "version": "3.10.15"
  },
  "scenes_data": {
   "active_scene": "Default Scene",
   "init_scene": "Initiatie",
   "scenes": [
    "Default Scene",
    "Initiatie"
   ]
  }
 },
 "nbformat": 4,
 "nbformat_minor": 5
}
