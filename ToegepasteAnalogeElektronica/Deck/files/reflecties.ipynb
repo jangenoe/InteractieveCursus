{
 "cells": [
  {
   "cell_type": "markdown",
   "id": "83d13a09-69c5-49a3-af68-552334eb1922",
   "metadata": {
    "KULeuvenSlides": {
     "slide_code": "normal",
     "slide_ref": "",
     "slide_title": ""
    },
    "editable": true,
    "slideshow": {
     "slide_type": "skip"
    },
    "tags": [
     "remove_cell4reveal",
     "remove_cell4pptx"
    ]
   },
   "source": [
    "# Reflecties"
   ]
  },
  {
   "cell_type": "code",
   "execution_count": 2,
   "id": "6f3fd4e5-894d-4ca6-845c-0d4b25de80de",
   "metadata": {
    "KULeuvenSlides": {
     "slide_code": "normal",
     "slide_ref": "",
     "slide_title": ""
    },
    "editable": true,
    "execution": {
     "iopub.execute_input": "2024-11-02T22:20:19.424886Z",
     "iopub.status.busy": "2024-11-02T22:20:19.424548Z",
     "iopub.status.idle": "2024-11-02T22:20:20.794376Z",
     "shell.execute_reply": "2024-11-02T22:20:20.793873Z",
     "shell.execute_reply.started": "2024-11-02T22:20:19.424861Z"
    },
    "jupyter": {
     "source_hidden": true
    },
    "mystnb": {
     "figure": {
      "caption": "",
      "name": ""
     }
    },
    "slideshow": {
     "slide_type": "skip"
    },
    "tags": [
     "remove_cell4reveal",
     "remove-cell4PDF",
     "remove-cell4BOOK",
     "remove_cell4pptx"
    ]
   },
   "outputs": [],
   "source": [
    "from IPython.display import Video\n",
    "from cursusdef import *"
   ]
  },
  {
   "cell_type": "markdown",
   "id": "c6ad7cd7-34a5-46bc-ab73-a3fcf8b09617",
   "metadata": {
    "KULeuvenSlides": {
     "slide_code": "normal",
     "slide_ref": "",
     "slide_title": ""
    },
    "editable": true,
    "slideshow": {
     "slide_type": "skip"
    },
    "tags": [
     "remove_cell4pptx",
     "remove_cell4reveal"
    ]
   },
   "source": [
    "## inleiding\n",
    "\n",
    "In dit hoofdstuk werken we een aantal voorbeelden uit die aangeven wat de invloed is van niet aangepaste transmissielijnen op de signaal integriteit.\n",
    "Om hierin inzicht te krijgen is de meest eenvoudige aanpak te kijken wat er gebeurt wanneer een ideale digitale puls wordt aangelegd aan de transmissielijn.\n",
    "In werkelijkheid moeten we natuurlijk beseffen dat de echte pulsvorm steeds eindige stijg- en daaltijd heeft ([slew-rate](https://en.wikipedia.org/wiki/Slew_rate)) en dat bovendien de stroom die geleverd wordt door de output transistors ook niet constant is. Meer specifiek zal deze stroom afnemen wanneer de spanning over de transistor klein wordt.\n"
   ]
  },
  {
   "cell_type": "markdown",
   "id": "130b13d4-555e-410d-8c42-d50e60954f3e",
   "metadata": {
    "KULeuvenSlides": {
     "slide_code": "normal",
     "slide_ref": "",
     "slide_title": ""
    },
    "editable": true,
    "mystnb": {
     "figure": {
      "caption": "",
      "name": ""
     }
    },
    "slideshow": {
     "slide_type": "skip"
    },
    "tags": [
     "remove_cell4reveal",
     "remove_cell4pptx",
     "remove-cell4PDF"
    ]
   },
   "source": [
    "Een voorbeeld waarin een meer realistische pulsvorm in detail wordt uitgerekent tonen we hieronder. {Numref}`reflectievideo` toont bovenaan een PCB met baantjes met een karakteristieke impedantie 50 Ohm. Onderaan vergelijken we de situatie waarbij er aldaniet een stukje met karakteristieke impedantie 32 Ohm in de transmissielijn wordt toegevoegd. In beide gevallen vertrekt aan de ingang een puls van 1 V. \n",
    "In het geval zonder een baantje met karakteristieke impedantie 32 Ohm meten we aan de uitgang na 80 ps een puls van 953 mV, dus terug bijna 1 V. De maximale reflectie, zoals we die kunnen meten aan de ingang, blijft kleiner dan 9 mV, verwaarloosbaar klein dus. \n",
    "In het geval met een baantje met karakteristieke impedantie 32 Ohm meten we aan de uitgang na 80 ps een puls van 813 mV. De maximale reflectie, zoals we die kunnen meten aan de ingang, is 314 mV."
   ]
  },
  {
   "cell_type": "code",
   "execution_count": 4,
   "id": "a59443de-2514-4f46-aedd-991a83e7c3db",
   "metadata": {
    "KULeuvenSlides": {
     "slide_code": "normal",
     "slide_ref": "",
     "slide_title": ""
    },
    "editable": true,
    "execution": {
     "iopub.execute_input": "2024-11-02T23:46:44.634518Z",
     "iopub.status.busy": "2024-11-02T23:46:44.631286Z",
     "iopub.status.idle": "2024-11-02T23:46:44.661150Z",
     "shell.execute_reply": "2024-11-02T23:46:44.660189Z",
     "shell.execute_reply.started": "2024-11-02T23:46:44.634327Z"
    },
    "jupyter": {
     "source_hidden": true
    },
    "mystnb": {
     "figure": {
      "caption": "(boven) PCB waarbij de impedantie niet constant is (Rechts onder) groen: Bekomen signaal aan het einde van de getoonde transmissielijn. Rood: gereflecteerde signaal aan het begin. Het inkomende signaal is 1V",
      "name": "reflectievideo"
     }
    },
    "slideshow": {
     "slide_type": "skip"
    },
    "tags": [
     "remove_cell4pptx",
     "remove_cell4reveal",
     "remove-cell4PDF"
    ]
   },
   "outputs": [
    {
     "data": {
      "text/html": [
       "<video src=\"./video/signalintegrity.mp4\" controls  >\n",
       "      Your browser does not support the <code>video</code> element.\n",
       "    </video>"
      ],
      "text/plain": [
       "<IPython.core.display.Video object>"
      ]
     },
     "execution_count": 4,
     "metadata": {},
     "output_type": "execute_result"
    }
   ],
   "source": [
    "Video(\"./video/signalintegrity.mp4\")"
   ]
  },
  {
   "cell_type": "markdown",
   "id": "216f6c53-93f1-40bf-8e1c-96506d3f4fe7",
   "metadata": {
    "KULeuvenSlides": {
     "slide_code": "normal",
     "slide_ref": "",
     "slide_title": ""
    },
    "editable": true,
    "mystnb": {
     "figure": {
      "caption": "",
      "name": ""
     }
    },
    "slideshow": {
     "slide_type": "skip"
    },
    "tags": [
     "remove_cell4reveal",
     "remove_cell4pptx",
     "remove-cell4PDF"
    ]
   },
   "source": [
    "De simulatie in {Numref}`reflectievideo` is numeriek uitgevoerd aan de hand van het simulatiepaket [Ansys](https://www.ansys.com/)."
   ]
  },
  {
   "cell_type": "markdown",
   "id": "4fb7e313-516f-4399-aa6f-f10a990eb91c",
   "metadata": {
    "KULeuvenSlides": {
     "slide_code": "normal",
     "slide_ref": "",
     "slide_title": ""
    },
    "editable": true,
    "slideshow": {
     "slide_type": "skip"
    },
    "tags": []
   },
   "source": [
    "##  Uitwerken van een ladderdiagram\n",
    "\n",
    "Bij het uitwerken van een ladderdiagram volgen we hoe een ideale stap in aan de ingang loopt over de transmissielijn. Bij elke overgang waar de karakteristieke impedantie verandert, berekenen we de reflectie en de transmissie van het signaal. De reflectie $\\rho$ bij de overgang van de karakteristieke impedantie $Z_1$ naar de karakteristieke impedantie $Z_2$ bedraagt:\n",
    "\n",
    "$$ \\rho = \\frac{Z_2-Z_1}{Z_2+Z_1}$$\n",
    "\n",
    "en de transmissie bedraagt $1+\\rho$\n",
    "\n"
   ]
  },
  {
   "cell_type": "code",
   "execution_count": 13,
   "id": "0511f84c-4c57-4236-b83e-12bc69d95a95",
   "metadata": {
    "KULeuvenSlides": {
     "slide_code": "normal",
     "slide_ref": "",
     "slide_title": "Verloop van een 1V positieve puls op een 50 Ohm transmissielijn met een terminatieweerstand van 120 Ohm. De bronweerstand is 30 Ohm."
    },
    "editable": true,
    "execution": {
     "iopub.execute_input": "2021-12-06T22:43:39.809463Z",
     "iopub.status.busy": "2021-12-06T22:43:39.809463Z",
     "iopub.status.idle": "2021-12-06T22:43:40.006473Z",
     "shell.execute_reply": "2021-12-06T22:43:40.006473Z",
     "shell.execute_reply.started": "2021-12-06T22:43:39.809463Z"
    },
    "jupyter": {
     "source_hidden": true
    },
    "mystnb": {
     "figure": {
      "caption": "Verloop van een 1V positieve puls op een 50 Ohm transmissielijn met een terminatieweerstand van 120 Ohm. De bronweerstand is 30 Ohm.",
      "name": "ladder1"
     }
    },
    "slideshow": {
     "slide_type": "slide"
    },
    "tags": []
   },
   "outputs": [
    {
     "data": {
      "image/png": "[encoded data removed]",
      "text/plain": [
       "<Figure size 1080x360 with 1 Axes>"
      ]
     },
     "metadata": {
      "needs_background": "light"
     },
     "output_type": "display_data"
    }
   ],
   "source": [
    "def ladderdiagram (Zo, Zstart,Zend,Tdelay=1,Vpulse=1,numstep=4):\n",
    "    po_s=(Zstart-Zo)/(Zstart+Zo)\n",
    "    po_e=(Zend-Zo)/(Zend+Zo)\n",
    "    V_inf=Vpulse*Zend/(Zend+Zstart)\n",
    "    tijd=[i*Tdelay  for i in range(2*numstep+1)  for j in range(2)]\n",
    "    runningpulse=Vpulse*Zo/(Zo+Zstart)\n",
    "    vstart=[runningpulse,runningpulse]\n",
    "    veind=[0,0]\n",
    "    for i in range(numstep):\n",
    "        veind+=[veind[-1],veind[-1]+runningpulse*(1+po_e)]\n",
    "        vstart+=[vstart[-1],vstart[-1]]\n",
    "        runningpulse*=po_e\n",
    "        veind+=[veind[-1],veind[-1]]\n",
    "        vstart+=[vstart[-1],vstart[-1]+runningpulse*(1+po_s)]\n",
    "        runningpulse*=po_s\n",
    "    fig,ax=plt.subplots(figsize=(15,5))\n",
    "    ax.plot(tijd,vstart,label=\"Spanning aan het begin van de lijn\")\n",
    "    ax.plot(tijd,veind,label=\"Spanning aan het einde van de lijn\")\n",
    "    ax.plot([0,tijd[-1]],[V_inf,V_inf],label=\"Theoretische eindspanning over heel de lijn\")\n",
    "    ax.set_ylabel('spanning op de lijn(V)');\n",
    "    if Tdelay==1:\n",
    "        ax.set_xlabel('tijd (propagatie delay eenheid)')\n",
    "    else:\n",
    "        ax.set_xlabel(\"tijd (s)\") \n",
    "    plt.legend()\n",
    "    \n",
    "ladderdiagram (50, 30,120)"
   ]
  },
  {
   "cell_type": "markdown",
   "id": "499d8a3f-22d0-4578-bb3c-08a6c3d0fb4b",
   "metadata": {
    "KULeuvenSlides": {
     "slide_code": "normal",
     "slide_ref": "",
     "slide_title": ""
    },
    "editable": true,
    "slideshow": {
     "slide_type": "skip"
    },
    "tags": []
   },
   "source": [
    "We kunnen het theoretisch ladderdiagramma ook uitwerken voor een praktische propagatievertraging van 1.5ns en een pulse gestuurd door een IC van met een voedingsspanning op de uitgangsbuffers van 3.3 V. De aan-weerstand van de uitgangsbuffers is 10 Ohm (de aanweerstand van de pMOS) en de terminatieweerstand van de lijn is 25 Ohm. In dat geval verloopt de stijgende puls theoretisch zoals in {numref}`ladderPmos`"
   ]
  },
  {
   "cell_type": "code",
   "execution_count": 19,
   "id": "4b18d66f-3f6e-4cc9-b054-1ed481612d1d",
   "metadata": {
    "KULeuvenSlides": {
     "slide_code": "normal",
     "slide_ref": "",
     "slide_title": "3.3V positieve puls 25 Ohm terminated"
    },
    "editable": true,
    "execution": {
     "iopub.execute_input": "2021-12-06T22:48:19.825816Z",
     "iopub.status.busy": "2021-12-06T22:48:19.825816Z",
     "iopub.status.idle": "2021-12-06T22:48:20.026295Z",
     "shell.execute_reply": "2021-12-06T22:48:20.026295Z",
     "shell.execute_reply.started": "2021-12-06T22:48:19.825816Z"
    },
    "jupyter": {
     "source_hidden": true
    },
    "mystnb": {
     "figure": {
      "caption": "Verloop van een 3.3V positieve puls op een 50 Ohm transmissielijn met een terminatieweerstand van 25 Ohm. De bronweerstand is 10 Ohm.",
      "name": "ladderPmos"
     }
    },
    "slideshow": {
     "slide_type": "slide"
    },
    "tags": []
   },
   "outputs": [
    {
     "data": {
      "image/png": "[encoded data removed]",
      "text/plain": [
       "<Figure size 1080x360 with 1 Axes>"
      ]
     },
     "metadata": {
      "needs_background": "light"
     },
     "output_type": "display_data"
    }
   ],
   "source": [
    "ladderdiagram (50, 10,25,Tdelay=1.5e-9,Vpulse=3.3)"
   ]
  }
 ],
 "metadata": {
  "KULeuvenSlides": {
   "authors": "Jan Genoe",
   "date": "December 2022",
   "kuleuven_presentation_style": "1425",
   "subtitle": "subtitle",
   "title": "titel"
  },
  "citation-manager": {
   "items": {}
  },
  "kernelspec": {
   "display_name": "KULeuven",
   "language": "python",
   "name": "kuleuven"
  },
  "language_info": {
   "codemirror_mode": {
    "name": "ipython",
    "version": 3
   },
   "file_extension": ".py",
   "mimetype": "text/x-python",
   "name": "python",
   "nbconvert_exporter": "python",
   "pygments_lexer": "ipython3",
   "version": "3.10.15"
  },
  "toc": {
   "base_numbering": 1
  }
 },
 "nbformat": 4,
 "nbformat_minor": 5
}
