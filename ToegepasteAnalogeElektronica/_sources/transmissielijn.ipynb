{
 "cells": [
  {
   "cell_type": "markdown",
   "id": "3320d62d-4375-4593-af37-9a94cc0960ab",
   "metadata": {
    "slideshow": {
     "slide_type": "skip"
    },
    "tags": [
     "hide-input"
    ]
   },
   "source": [
    "# Transmissie lijnen\n",
    "\n",
    "<a href=\"./slides/transmissielijn.slides.html\">![sildes](https://img.shields.io/badge/slides-beschikbaar-blue)</a> "
   ]
  },
  {
   "cell_type": "code",
   "execution_count": 1,
   "id": "a7682e58-36b6-4bdf-8117-e711974297a3",
   "metadata": {
    "execution": {
     "iopub.execute_input": "2022-02-15T23:19:14.008321Z",
     "iopub.status.busy": "2022-02-15T23:19:14.008321Z",
     "iopub.status.idle": "2022-02-15T23:19:19.251594Z",
     "shell.execute_reply": "2022-02-15T23:19:19.251594Z",
     "shell.execute_reply.started": "2022-02-15T23:19:14.008321Z"
    },
    "slideshow": {
     "slide_type": "skip"
    },
    "tags": [
     "hide-input"
    ]
   },
   "outputs": [],
   "source": [
    "import numpy as np\n",
    "import matplotlib.pyplot as plt\n",
    "import skrf as rf\n",
    "import schemdraw\n",
    "import schemdraw.elements as elm"
   ]
  },
  {
   "cell_type": "code",
   "execution_count": 8,
   "id": "b25121d9-a602-40b8-917b-6c1b6183dce4",
   "metadata": {
    "execution": {
     "iopub.execute_input": "2021-12-05T14:23:27.975817Z",
     "iopub.status.busy": "2021-12-05T14:23:27.974820Z",
     "iopub.status.idle": "2021-12-05T14:23:28.176279Z",
     "shell.execute_reply": "2021-12-05T14:23:28.176279Z",
     "shell.execute_reply.started": "2021-12-05T14:23:27.975817Z"
    },
    "slideshow": {
     "slide_type": "slide"
    },
    "tags": [
     "hide-input"
    ]
   },
   "outputs": [
    {
     "data": {
      "image/png": "[encoded data removed]",
      "image/svg+xml": [
       "<?xml version=\"1.0\" encoding=\"utf-8\" standalone=\"no\"?>\n",
       "<!DOCTYPE svg PUBLIC \"-//W3C//DTD SVG 1.1//EN\"\n",
       "  \"http://www.w3.org/Graphics/SVG/1.1/DTD/svg11.dtd\">\n",
       "<svg xmlns:xlink=\"http://www.w3.org/1999/xlink\" width=\"178.11pt\" height=\"75.175pt\" viewBox=\"0 0 178.11 75.175\" xmlns=\"http://www.w3.org/2000/svg\" version=\"1.1\">\n",
       " <metadata>\n",
       "  <rdf:RDF xmlns:dc=\"http://purl.org/dc/elements/1.1/\" xmlns:cc=\"http://creativecommons.org/ns#\" xmlns:rdf=\"http://www.w3.org/1999/02/22-rdf-syntax-ns#\">\n",
       "   <cc:Work>\n",
       "    <dc:type rdf:resource=\"http://purl.org/dc/dcmitype/StillImage\"/>\n",
       "    <dc:date>2021-12-05T15:23:28.056599</dc:date>\n",
       "    <dc:format>image/svg+xml</dc:format>\n",
       "    <dc:creator>\n",
       "     <cc:Agent>\n",
       "      <dc:title>Matplotlib v3.5.0, https://matplotlib.org/</dc:title>\n",
       "     </cc:Agent>\n",
       "    </dc:creator>\n",
       "   </cc:Work>\n",
       "  </rdf:RDF>\n",
       " </metadata>\n",
       " <defs>\n",
       "  <style type=\"text/css\">*{stroke-linejoin: round; stroke-linecap: butt}</style>\n",
       " </defs>\n",
       " <g id=\"figure_1\">\n",
       "  <g id=\"patch_1\">\n",
       "   <path d=\"M 0 75.175 \n",
       "L 178.11 75.175 \n",
       "L 178.11 0 \n",
       "L 0 0 \n",
       "L 0 75.175 \n",
       "z\n",
       "\" style=\"fill: none\"/>\n",
       "  </g>\n",
       "  <g id=\"axes_1\">\n",
       "   <g id=\"patch_2\">\n",
       "    <path d=\"M 35.505 38.14 \n",
       "C 35.505 36.934493 35.386271 35.740709 35.155607 34.626966 \n",
       "C 34.924943 33.513223 34.586831 32.501182 34.16062 31.64876 \n",
       "C 33.734409 30.796338 33.228388 30.120113 32.671517 29.658786 \n",
       "C 32.114646 29.197459 31.517753 28.96 30.915 28.96 \n",
       "C 30.312247 28.96 29.715354 29.197459 29.158483 29.658786 \n",
       "C 28.601612 30.120113 28.095591 30.796338 27.66938 31.64876 \n",
       "C 27.243169 32.501182 26.905057 33.513223 26.674393 34.626966 \n",
       "C 26.443729 35.740709 26.325 36.934493 26.325 38.14 \n",
       "C 26.325 39.345507 26.443729 40.539291 26.674393 41.653034 \n",
       "C 26.905057 42.766777 27.243169 43.778818 27.66938 44.63124 \n",
       "C 28.095591 45.483662 28.601612 46.159887 29.158483 46.621214 \n",
       "C 29.715354 47.082541 30.312247 47.32 30.915 47.32 \n",
       "C 31.517753 47.32 32.114646 47.082541 32.671517 46.621214 \n",
       "C 33.228388 46.159887 33.734409 45.483662 34.16062 44.63124 \n",
       "C 34.586831 43.778818 34.924943 42.766777 35.155607 41.653034 \n",
       "C 35.386271 40.539291 35.505 39.345507 35.505 38.14 \n",
       "\" clip-path=\"url(#p19f2719cb5)\" style=\"fill: none; stroke: #000000; stroke-width: 2; stroke-linejoin: miter\"/>\n",
       "   </g>\n",
       "   <g id=\"patch_3\">\n",
       "    <path d=\"M 147.195 47.32 \n",
       "C 148.411877 47.32 149.580158 46.352164 150.44062 44.63124 \n",
       "C 151.301082 42.910317 151.785 40.573754 151.785 38.14 \n",
       "C 151.785 35.706246 151.301082 33.369683 150.44062 31.64876 \n",
       "C 149.580158 29.927836 148.411877 28.96 147.195 28.96 \n",
       "\" clip-path=\"url(#p19f2719cb5)\" style=\"fill: none; stroke: #000000; stroke-width: 2; stroke-linejoin: miter\"/>\n",
       "   </g>\n",
       "   <g id=\"line2d_1\">\n",
       "    <path d=\"M 12.555 38.14 \n",
       "L 30.915 38.14 \n",
       "M 151.785 38.14 \n",
       "L 165.555 38.14 \n",
       "\" clip-path=\"url(#p19f2719cb5)\" style=\"fill: none; stroke: #000000; stroke-width: 2; stroke-linecap: round\"/>\n",
       "   </g>\n",
       "   <g id=\"line2d_2\">\n",
       "    <path d=\"M 30.915 28.96 \n",
       "L 147.195 28.96 \n",
       "\" clip-path=\"url(#p19f2719cb5)\" style=\"fill: none; stroke: #000000; stroke-width: 2; stroke-linecap: round\"/>\n",
       "   </g>\n",
       "   <g id=\"line2d_3\">\n",
       "    <path d=\"M 30.915 47.32 \n",
       "L 147.195 47.32 \n",
       "\" clip-path=\"url(#p19f2719cb5)\" style=\"fill: none; stroke: #000000; stroke-width: 2; stroke-linecap: round\"/>\n",
       "   </g>\n",
       "   <g id=\"line2d_4\">\n",
       "    <path d=\"M 147.195 47.32 \n",
       "L 147.195 54.97 \n",
       "L 147.195 62.62 \n",
       "\" clip-path=\"url(#p19f2719cb5)\" style=\"fill: none; stroke: #000000; stroke-width: 2; stroke-linecap: round\"/>\n",
       "   </g>\n",
       "   <g id=\"line2d_5\">\n",
       "    <path d=\"M 147.195 62.62 \n",
       "L 154.845 62.62 \n",
       "L 162.495 62.62 \n",
       "\" clip-path=\"url(#p19f2719cb5)\" style=\"fill: none; stroke: #000000; stroke-width: 2; stroke-linecap: round\"/>\n",
       "   </g>\n",
       "   <g id=\"line2d_6\">\n",
       "    <path d=\"M 30.915 47.32 \n",
       "L 30.915 54.97 \n",
       "L 30.915 62.62 \n",
       "\" clip-path=\"url(#p19f2719cb5)\" style=\"fill: none; stroke: #000000; stroke-width: 2; stroke-linecap: round\"/>\n",
       "   </g>\n",
       "   <g id=\"line2d_7\">\n",
       "    <path d=\"M 30.915 62.62 \n",
       "L 23.265 62.62 \n",
       "L 15.615 62.62 \n",
       "\" clip-path=\"url(#p19f2719cb5)\" style=\"fill: none; stroke: #000000; stroke-width: 2; stroke-linecap: round\"/>\n",
       "   </g>\n",
       "   <g id=\"text_1\">\n",
       "    <!-- $50\\Omega$ -->\n",
       "    <g transform=\"translate(74.775 22.988437)scale(0.14 -0.14)\">\n",
       "     <defs>\n",
       "      <path id=\"DejaVuSans-35\" d=\"M 691 4666 \n",
       "L 3169 4666 \n",
       "L 3169 4134 \n",
       "L 1269 4134 \n",
       "L 1269 2991 \n",
       "Q 1406 3038 1543 3061 \n",
       "Q 1681 3084 1819 3084 \n",
       "Q 2600 3084 3056 2656 \n",
       "Q 3513 2228 3513 1497 \n",
       "Q 3513 744 3044 326 \n",
       "Q 2575 -91 1722 -91 \n",
       "Q 1428 -91 1123 -41 \n",
       "Q 819 9 494 109 \n",
       "L 494 744 \n",
       "Q 775 591 1075 516 \n",
       "Q 1375 441 1709 441 \n",
       "Q 2250 441 2565 725 \n",
       "Q 2881 1009 2881 1497 \n",
       "Q 2881 1984 2565 2268 \n",
       "Q 2250 2553 1709 2553 \n",
       "Q 1456 2553 1204 2497 \n",
       "Q 953 2441 691 2322 \n",
       "L 691 4666 \n",
       "z\n",
       "\" transform=\"scale(0.015625)\"/>\n",
       "      <path id=\"DejaVuSans-30\" d=\"M 2034 4250 \n",
       "Q 1547 4250 1301 3770 \n",
       "Q 1056 3291 1056 2328 \n",
       "Q 1056 1369 1301 889 \n",
       "Q 1547 409 2034 409 \n",
       "Q 2525 409 2770 889 \n",
       "Q 3016 1369 3016 2328 \n",
       "Q 3016 3291 2770 3770 \n",
       "Q 2525 4250 2034 4250 \n",
       "z\n",
       "M 2034 4750 \n",
       "Q 2819 4750 3233 4129 \n",
       "Q 3647 3509 3647 2328 \n",
       "Q 3647 1150 3233 529 \n",
       "Q 2819 -91 2034 -91 \n",
       "Q 1250 -91 836 529 \n",
       "Q 422 1150 422 2328 \n",
       "Q 422 3509 836 4129 \n",
       "Q 1250 4750 2034 4750 \n",
       "z\n",
       "\" transform=\"scale(0.015625)\"/>\n",
       "      <path id=\"DejaVuSans-3a9\" d=\"M 4647 556 \n",
       "L 4647 0 \n",
       "L 2772 0 \n",
       "L 2772 556 \n",
       "Q 3325 859 3634 1378 \n",
       "Q 3944 1897 3944 2528 \n",
       "Q 3944 3278 3531 3731 \n",
       "Q 3119 4184 2444 4184 \n",
       "Q 1769 4184 1355 3729 \n",
       "Q 941 3275 941 2528 \n",
       "Q 941 1897 1250 1378 \n",
       "Q 1563 859 2119 556 \n",
       "L 2119 0 \n",
       "L 244 0 \n",
       "L 244 556 \n",
       "L 1241 556 \n",
       "Q 747 991 519 1456 \n",
       "Q 294 1922 294 2497 \n",
       "Q 294 3491 894 4106 \n",
       "Q 1491 4722 2444 4722 \n",
       "Q 3391 4722 3994 4106 \n",
       "Q 4594 3494 4594 2528 \n",
       "Q 4594 1922 4372 1459 \n",
       "Q 4150 997 3647 556 \n",
       "L 4647 556 \n",
       "z\n",
       "\" transform=\"scale(0.015625)\"/>\n",
       "     </defs>\n",
       "     <use xlink:href=\"#DejaVuSans-35\" transform=\"translate(0 0.78125)\"/>\n",
       "     <use xlink:href=\"#DejaVuSans-30\" transform=\"translate(63.623047 0.78125)\"/>\n",
       "     <use xlink:href=\"#DejaVuSans-3a9\" transform=\"translate(127.246094 0.78125)\"/>\n",
       "    </g>\n",
       "   </g>\n",
       "   <g id=\"text_2\">\n",
       "    <!-- coax -->\n",
       "    <g transform=\"translate(72.490156 61.017812)scale(0.14 -0.14)\">\n",
       "     <defs>\n",
       "      <path id=\"DejaVuSans-63\" d=\"M 3122 3366 \n",
       "L 3122 2828 \n",
       "Q 2878 2963 2633 3030 \n",
       "Q 2388 3097 2138 3097 \n",
       "Q 1578 3097 1268 2742 \n",
       "Q 959 2388 959 1747 \n",
       "Q 959 1106 1268 751 \n",
       "Q 1578 397 2138 397 \n",
       "Q 2388 397 2633 464 \n",
       "Q 2878 531 3122 666 \n",
       "L 3122 134 \n",
       "Q 2881 22 2623 -34 \n",
       "Q 2366 -91 2075 -91 \n",
       "Q 1284 -91 818 406 \n",
       "Q 353 903 353 1747 \n",
       "Q 353 2603 823 3093 \n",
       "Q 1294 3584 2113 3584 \n",
       "Q 2378 3584 2631 3529 \n",
       "Q 2884 3475 3122 3366 \n",
       "z\n",
       "\" transform=\"scale(0.015625)\"/>\n",
       "      <path id=\"DejaVuSans-6f\" d=\"M 1959 3097 \n",
       "Q 1497 3097 1228 2736 \n",
       "Q 959 2375 959 1747 \n",
       "Q 959 1119 1226 758 \n",
       "Q 1494 397 1959 397 \n",
       "Q 2419 397 2687 759 \n",
       "Q 2956 1122 2956 1747 \n",
       "Q 2956 2369 2687 2733 \n",
       "Q 2419 3097 1959 3097 \n",
       "z\n",
       "M 1959 3584 \n",
       "Q 2709 3584 3137 3096 \n",
       "Q 3566 2609 3566 1747 \n",
       "Q 3566 888 3137 398 \n",
       "Q 2709 -91 1959 -91 \n",
       "Q 1206 -91 779 398 \n",
       "Q 353 888 353 1747 \n",
       "Q 353 2609 779 3096 \n",
       "Q 1206 3584 1959 3584 \n",
       "z\n",
       "\" transform=\"scale(0.015625)\"/>\n",
       "      <path id=\"DejaVuSans-61\" d=\"M 2194 1759 \n",
       "Q 1497 1759 1228 1600 \n",
       "Q 959 1441 959 1056 \n",
       "Q 959 750 1161 570 \n",
       "Q 1363 391 1709 391 \n",
       "Q 2188 391 2477 730 \n",
       "Q 2766 1069 2766 1631 \n",
       "L 2766 1759 \n",
       "L 2194 1759 \n",
       "z\n",
       "M 3341 1997 \n",
       "L 3341 0 \n",
       "L 2766 0 \n",
       "L 2766 531 \n",
       "Q 2569 213 2275 61 \n",
       "Q 1981 -91 1556 -91 \n",
       "Q 1019 -91 701 211 \n",
       "Q 384 513 384 1019 \n",
       "Q 384 1609 779 1909 \n",
       "Q 1175 2209 1959 2209 \n",
       "L 2766 2209 \n",
       "L 2766 2266 \n",
       "Q 2766 2663 2505 2880 \n",
       "Q 2244 3097 1772 3097 \n",
       "Q 1472 3097 1187 3025 \n",
       "Q 903 2953 641 2809 \n",
       "L 641 3341 \n",
       "Q 956 3463 1253 3523 \n",
       "Q 1550 3584 1831 3584 \n",
       "Q 2591 3584 2966 3190 \n",
       "Q 3341 2797 3341 1997 \n",
       "z\n",
       "\" transform=\"scale(0.015625)\"/>\n",
       "      <path id=\"DejaVuSans-78\" d=\"M 3513 3500 \n",
       "L 2247 1797 \n",
       "L 3578 0 \n",
       "L 2900 0 \n",
       "L 1881 1375 \n",
       "L 863 0 \n",
       "L 184 0 \n",
       "L 1544 1831 \n",
       "L 300 3500 \n",
       "L 978 3500 \n",
       "L 1906 2253 \n",
       "L 2834 3500 \n",
       "L 3513 3500 \n",
       "z\n",
       "\" transform=\"scale(0.015625)\"/>\n",
       "     </defs>\n",
       "     <use xlink:href=\"#DejaVuSans-63\"/>\n",
       "     <use xlink:href=\"#DejaVuSans-6f\" x=\"54.980469\"/>\n",
       "     <use xlink:href=\"#DejaVuSans-61\" x=\"116.162109\"/>\n",
       "     <use xlink:href=\"#DejaVuSans-78\" x=\"177.441406\"/>\n",
       "    </g>\n",
       "   </g>\n",
       "   <g id=\"patch_4\">\n",
       "    <path d=\"M 12.555 40.435 \n",
       "C 13.163641 40.435 13.747436 40.193184 14.17781 39.76281 \n",
       "C 14.608184 39.332436 14.85 38.748641 14.85 38.14 \n",
       "C 14.85 37.531359 14.608184 36.947564 14.17781 36.51719 \n",
       "C 13.747436 36.086816 13.163641 35.845 12.555 35.845 \n",
       "C 11.946359 35.845 11.362564 36.086816 10.93219 36.51719 \n",
       "C 10.501816 36.947564 10.26 37.531359 10.26 38.14 \n",
       "C 10.26 38.748641 10.501816 39.332436 10.93219 39.76281 \n",
       "C 11.362564 40.193184 11.946359 40.435 12.555 40.435 \n",
       "z\n",
       "\" clip-path=\"url(#p19f2719cb5)\" style=\"fill: #ff0000; stroke: #ff0000; stroke-width: 2; stroke-linejoin: miter\"/>\n",
       "   </g>\n",
       "   <g id=\"patch_5\">\n",
       "    <path d=\"M 165.555 40.435 \n",
       "C 166.163641 40.435 166.747436 40.193184 167.17781 39.76281 \n",
       "C 167.608184 39.332436 167.85 38.748641 167.85 38.14 \n",
       "C 167.85 37.531359 167.608184 36.947564 167.17781 36.51719 \n",
       "C 166.747436 36.086816 166.163641 35.845 165.555 35.845 \n",
       "C 164.946359 35.845 164.362564 36.086816 163.93219 36.51719 \n",
       "C 163.501816 36.947564 163.26 37.531359 163.26 38.14 \n",
       "C 163.26 38.748641 163.501816 39.332436 163.93219 39.76281 \n",
       "C 164.362564 40.193184 164.946359 40.435 165.555 40.435 \n",
       "z\n",
       "\" clip-path=\"url(#p19f2719cb5)\" style=\"fill: #008000; stroke: #008000; stroke-width: 2; stroke-linejoin: miter\"/>\n",
       "   </g>\n",
       "   <g id=\"patch_6\">\n",
       "    <path d=\"M 162.495 64.915 \n",
       "C 163.103641 64.915 163.687436 64.673184 164.11781 64.24281 \n",
       "C 164.548184 63.812436 164.79 63.228641 164.79 62.62 \n",
       "C 164.79 62.011359 164.548184 61.427564 164.11781 60.99719 \n",
       "C 163.687436 60.566816 163.103641 60.325 162.495 60.325 \n",
       "C 161.886359 60.325 161.302564 60.566816 160.87219 60.99719 \n",
       "C 160.441816 61.427564 160.2 62.011359 160.2 62.62 \n",
       "C 160.2 63.228641 160.441816 63.812436 160.87219 64.24281 \n",
       "C 161.302564 64.673184 161.886359 64.915 162.495 64.915 \n",
       "z\n",
       "\" clip-path=\"url(#p19f2719cb5)\" style=\"fill: #008000; stroke: #008000; stroke-width: 2; stroke-linejoin: miter\"/>\n",
       "   </g>\n",
       "   <g id=\"patch_7\">\n",
       "    <path d=\"M 15.615 64.915 \n",
       "C 16.223641 64.915 16.807436 64.673184 17.23781 64.24281 \n",
       "C 17.668184 63.812436 17.91 63.228641 17.91 62.62 \n",
       "C 17.91 62.011359 17.668184 61.427564 17.23781 60.99719 \n",
       "C 16.807436 60.566816 16.223641 60.325 15.615 60.325 \n",
       "C 15.006359 60.325 14.422564 60.566816 13.99219 60.99719 \n",
       "C 13.561816 61.427564 13.32 62.011359 13.32 62.62 \n",
       "C 13.32 63.228641 13.561816 63.812436 13.99219 64.24281 \n",
       "C 14.422564 64.673184 15.006359 64.915 15.615 64.915 \n",
       "z\n",
       "\" clip-path=\"url(#p19f2719cb5)\" style=\"fill: #ff0000; stroke: #ff0000; stroke-width: 2; stroke-linejoin: miter\"/>\n",
       "   </g>\n",
       "  </g>\n",
       " </g>\n",
       " <defs>\n",
       "  <clipPath id=\"p19f2719cb5\">\n",
       "   <rect x=\"7.2\" y=\"7.2\" width=\"163.71\" height=\"60.775\"/>\n",
       "  </clipPath>\n",
       " </defs>\n",
       "</svg>\n"
      ],
      "text/plain": [
       "<schemdraw.backends.mpl.Figure object at 0x000001B912840A30>"
      ]
     },
     "execution_count": 8,
     "metadata": {},
     "output_type": "execute_result"
    }
   ],
   "source": [
    "d = schemdraw.Drawing()\n",
    "\n",
    "d.add(elm.Dot,color='r')\n",
    "coax=d.add(elm.coax(d='right',length=5, label='$50\\Omega$', botlabel='coax'))\n",
    "d.add(elm.Dot,color='g')\n",
    "d.add(elm.Line(xy=coax.shieldend,l=0.5,d='down'))\n",
    "d.add(elm.Line(l=0.5,d='right'))\n",
    "d.add(elm.Dot,color='g')\n",
    "d.add(elm.Line(xy=coax.shieldstart,l=0.5,d='down') )\n",
    "d.add(elm.Line(l=0.5,d='left'))\n",
    "d.add(elm.Dot,color='r')\n",
    "d.draw()"
   ]
  },
  {
   "cell_type": "markdown",
   "id": "0769c127-1c75-4925-9e93-592062a987e3",
   "metadata": {
    "slideshow": {
     "slide_type": "skip"
    },
    "tags": []
   },
   "source": [
    "```{figure} ./images/mpl.svg\n",
    "---\n",
    "name: t_model\n",
    "---\n",
    "schematische voorstelling van een transmissielijn met karakteristieke impedantie van 50 Ohm\n",
    "```"
   ]
  },
  {
   "cell_type": "markdown",
   "id": "1858f9d9-0e79-4bae-8dbd-bff93e7ff4f3",
   "metadata": {
    "slideshow": {
     "slide_type": "slide"
    },
    "tags": []
   },
   "source": [
    "## Transmissie lijn model\n",
    "\n",
    "$$ Z_o=\\sqrt{\\frac{j \\omega L+R}{j \\omega C+g}}$$\n",
    "\n",
    "waarbij L de inductantie per eenheid lengte is, C de capaciteit er eenheid lengte is, R de weerstand van de geleider en g de lekgeleidbaarheid van het dielectricum.\n",
    "\n",
    "In het beste geval is de weerstand van de geleider nul (R=0) en de lek ook nul (g=0). $Z_o$ wordt dan \n",
    "\n",
    "$$ Z_o \\approx \\sqrt{\\frac{L}{C}}$$"
   ]
  },
  {
   "cell_type": "markdown",
   "id": "bf0c1283-aa73-4e0a-b9e5-79b83d3b1fa6",
   "metadata": {
    "slideshow": {
     "slide_type": "slide"
    },
    "tags": []
   },
   "source": [
    "## Coax kabel\n",
    "\n",
    "{numref}`coaxdoorsnede` toont de doorsnede van een coax kabel met daarop de belangrijkste parameters voor het bepalen van de C per eenheid lengte en de L per eenheid lengte.\n",
    "\n",
    "[![coax](./images/coax.png)](https://www.eeweb.com/tools/coax/)"
   ]
  },
  {
   "cell_type": "markdown",
   "id": "ff2f1a37-72d5-4399-b9ca-57ec10860fc5",
   "metadata": {
    "slideshow": {
     "slide_type": "skip"
    },
    "tags": []
   },
   "source": [
    "```{figure} ./images/mpl.svg\n",
    "---\n",
    "name: coaxdoorsnede\n",
    "---\n",
    "Schematische cross-section van een coax kabel met de aanduiding van de belangrijkste parameters\n",
    "```"
   ]
  },
  {
   "cell_type": "markdown",
   "id": "3ad406f4-3036-4709-8a34-7ddbb35adc82",
   "metadata": {
    "slideshow": {
     "slide_type": "slide"
    },
    "tags": []
   },
   "source": [
    "Voor een typische [coax-kabel](https://en.wikipedia.org/wiki/Coaxial_cable) met binnendiameter x mm en buiten diameter  y bekomen we de volgende parameters:"
   ]
  },
  {
   "cell_type": "code",
   "execution_count": 14,
   "id": "4a5f28d9-bc34-4024-996e-f5d59b83f8d5",
   "metadata": {
    "execution": {
     "iopub.execute_input": "2021-12-06T11:38:08.091592Z",
     "iopub.status.busy": "2021-12-06T11:38:08.091592Z",
     "iopub.status.idle": "2021-12-06T11:38:08.129347Z",
     "shell.execute_reply": "2021-12-06T11:38:08.129347Z",
     "shell.execute_reply.started": "2021-12-06T11:38:08.091592Z"
    },
    "tags": [
     "hide-input"
    ]
   },
   "outputs": [
    {
     "name": "stdout",
     "output_type": "stream",
     "text": [
      "R = 0.01038 ohms/m\n",
      "L = 138.63 nH/m\n",
      "G = 9.065 S/m\n",
      "C = 80.22 pF/m\n"
     ]
    }
   ],
   "source": [
    "def coax_parameters(D1,D2,f,e_r,sigma_c,sigma=1,mu=1,mu_c=1,display=True):\n",
    "    e_0 = 8.85e-12 # F/m\n",
    "    mu_0 = 4*np.pi*1e-7 # H/m\n",
    "    Rs = np.sqrt(np.pi*f*mu_0*mu_c/sigma_c)\n",
    "    R_p = Rs/np.pi*(1/D1 +1/D2) # Ohms/m\n",
    "    L_p = mu_0*mu/(2*np.pi)*np.log(D2/D1) #H/m\n",
    "    G_p = 2*np.pi*sigma/np.log(D2/D1) # S/m\n",
    "    C_p = 2*np.pi*e_0*e_r/np.log(D2/D1)\n",
    "    if display:\n",
    "        print(\"R = %2.5f ohms/m\" % (R_p,))\n",
    "        print(\"L = %2.2f nH/m\" % (L_p*1e9,))\n",
    "        print(\"G = %2.3f S/m\" % (G_p,))\n",
    "        print(\"C = %2.2f pF/m\" % (C_p*1e12,))\n",
    "    return R_p, L_p, G_p, C_p\n",
    "\n",
    "coax_parameters(12e-3,24e-3,1e6,1.0,5.8e7);"
   ]
  },
  {
   "cell_type": "markdown",
   "id": "6e78e590-7ead-419d-a25c-779e75ecabc5",
   "metadata": {
    "slideshow": {
     "slide_type": "slide"
    },
    "tags": []
   },
   "source": [
    "\n",
    "Het verloop van de karakteristieke impedantie ziet er voor deze coax kabel uit als aangegeven in {numref}`t_Z-f`"
   ]
  },
  {
   "cell_type": "code",
   "execution_count": null,
   "id": "2630bbc4-8fe3-4447-bb7d-595fadf3bf25",
   "metadata": {
    "execution": {
     "iopub.execute_input": "2022-02-15T23:19:38.949896Z",
     "iopub.status.busy": "2022-02-15T23:19:38.949896Z"
    },
    "tags": [
     "hide-input"
    ]
   },
   "outputs": [],
   "source": [
    "fig,ax = plt.subplots(2,1,figsize=(12,12))\n",
    "w=np.logspace(5,10,50)\n",
    "z=np.sqrt((1.0j*w*273e-9+0.0)/(1.0j*w*93e-12))\n",
    "z2=np.sqrt((1.0j*w*273e-9+0.053)/(1.0j*w*93e-12))\n",
    "z3=np.sqrt((1.0j*w*273e-9+0.005)/(1.0j*w*93e-12))\n",
    "ax[0].plot(w/2/np.pi,abs(z), label=\"R=0 mOhm\")\n",
    "ax[0].plot(w/2/np.pi,abs(z2), label=\"R=53 mOhm\")\n",
    "ax[0].plot(w/2/np.pi,abs(z3), label=\"R=5 mOhm\")\n",
    "ax[1].plot(w/2/np.pi,np.angle(z,deg=True), label=\"R=0 mOhm\")\n",
    "ax[1].plot(w/2/np.pi,np.angle(z2,deg=True), label=\"R=53 mOhm\")\n",
    "ax[1].plot(w/2/np.pi,np.angle(z3,deg=True), label=\"R=5 mOhm\")\n",
    "ax[0].set_xscale('log')\n",
    "ax[0].set_ylabel('Amplitude Karakteristieke Impedantie (Ohm)',size = 10)\n",
    "ax[0].set_xlabel('Frequency (Hz) ',size = 10)\n",
    "ax[1].set_xscale('log')\n",
    "ax[1].set_ylabel('Fase Karakteristieke Impedantie (graden)',size = 10)\n",
    "ax[1].set_xlabel('Frequency (Hz) ',size = 10);\n",
    "ax[0].legend()\n",
    "ax[1].legend();"
   ]
  },
  {
   "cell_type": "markdown",
   "id": "33cce91b-b9a0-4421-b3cc-e08e474c989e",
   "metadata": {
    "slideshow": {
     "slide_type": "skip"
    },
    "tags": []
   },
   "source": [
    "```{figure} ./images/mpl.svg\n",
    "---\n",
    "name: t_Z-f\n",
    "---\n",
    "Verloop van de karakteristieke impedantie van een RG-58 coax als functie van de frequentie.\n",
    "```\n",
    "\n",
    "Uit {numref}`t_Z-f` merken we dat bij lage frequenties deze karakteristieke impedantie in belangrijke mate verschilt van 50 Ohm. De negatieve fase geeft aan dat bij lage frequenties de lijn zich capacitief gedraagt."
   ]
  },
  {
   "cell_type": "markdown",
   "id": "96cebfe0-3f3b-4970-b419-91aa5c0e8b4b",
   "metadata": {
    "slideshow": {
     "slide_type": "slide"
    },
    "tags": []
   },
   "source": [
    "## Twisted pair kabel\n",
    "\n",
    "{numref}`twisted_pairdoorsnede` toont de doorsnede van een twisted pair kabel met daarop de belangrijkste parameters voor het bepalen van de C per eenheid lengte en de L per eenheid lengte.\n",
    "\n",
    "[![coax](./images/twisted_pair.png)](https://www.eeweb.com/tools/twisted-pair/)\n",
    "\n"
   ]
  },
  {
   "cell_type": "markdown",
   "id": "2d08920a-9577-4f7b-b4d3-e64ef6a4b952",
   "metadata": {
    "slideshow": {
     "slide_type": "skip"
    },
    "tags": []
   },
   "source": [
    "```{figure} ./images/mpl.svg\n",
    "---\n",
    "name: twisted_pairdoorsnede\n",
    "---\n",
    "Schematische cross-section van een twisted pair kabel met de aanduiding van de belangrijkste parameters\n",
    "```"
   ]
  },
  {
   "cell_type": "markdown",
   "id": "d4996467-3a8a-4bb4-9e37-490e02b250f8",
   "metadata": {
    "slideshow": {
     "slide_type": "skip"
    },
    "tags": []
   },
   "source": [
    "## striplijn\n",
    "\n"
   ]
  },
  {
   "cell_type": "markdown",
   "id": "4a8e725a-e0c9-4aaa-b2f1-208218c9538a",
   "metadata": {
    "slideshow": {
     "slide_type": "slide"
    },
    "tags": []
   },
   "source": [
    "## Microstriplijn\n",
    "\n",
    "De relevante parameters hier zijn de breedte van het baantje ($w$) en de  dikte van het dielectricum ($h$). Natuurlijk speelt de relatieve permitiviteit van het dielectricum ($\\epsilon_r$) ook mee."
   ]
  },
  {
   "cell_type": "code",
   "execution_count": 1,
   "id": "4b7625ee-4133-4a5a-954a-bfc3c94a4597",
   "metadata": {
    "collapsed": false,
    "execution": {
     "iopub.execute_input": "2022-02-01T22:07:20.559639Z",
     "iopub.status.busy": "2022-02-01T22:07:20.559639Z",
     "iopub.status.idle": "2022-02-01T22:07:20.590890Z",
     "shell.execute_reply": "2022-02-01T22:07:20.590890Z",
     "shell.execute_reply.started": "2022-02-01T22:07:20.559639Z"
    },
    "jupyter": {
     "outputs_hidden": false
    },
    "slideshow": {
     "slide_type": "skip"
    },
    "tags": [
     "hide-input"
    ]
   },
   "outputs": [],
   "source": [
    "def mstrip_anal(s,er):\n",
    "    \"\"\"\n",
    "    Microstrip zero thickness strips design function\n",
    "    \n",
    "    s = w/h\n",
    "    er = material relative permittivity\n",
    "    \n",
    "    Z0 returned\n",
    "    e_eff returned\n",
    "\n",
    "    \"\"\"\n",
    "    e_eff = eps_eff(s,er)\n",
    "    t = (30.67/s)**0.75\n",
    "    Z0 = 60/np.sqrt(e_eff) * \\\n",
    "         np.log((6+(2*np.pi-6)*np.exp(-t))/s + np.sqrt(1+4/s**2))\n",
    "    return Z0, e_eff\n",
    "\n",
    "def mstrip_dsgn(Z0,er):\n",
    "    \"\"\"\n",
    "    Mircostrip zero thickness strips design function\n",
    "    \n",
    "    Z0 = desired characteristic impedance\n",
    "    er = material relative permittivity\n",
    "    \n",
    "    s = w/h is returned\n",
    "    e_eff returned\n",
    "    \n",
    "    \"\"\"\n",
    "    if Z0 <= (44-2*er):\n",
    "        q = 60*np.pi*np.pi/(Z0*np.sqrt(er))\n",
    "        s = 2/np.pi*((q-1)-np.log(2*q-1) + \\\n",
    "                 (er-1)/(2*er)*(np.log(q-1)+0.29-0.52/er))\n",
    "        \n",
    "    else:\n",
    "        p = np.sqrt((er+1)/2)*Z0/60+(er-1)/(er+1)*(0.23 + 0.12/er)\n",
    "        s = 8*np.exp(p)/(np.exp(2*p)-2)\n",
    "    e_eff = eps_eff(s,er)\n",
    "    return s, e_eff\n",
    "\n",
    "def eps_eff(s,er):\n",
    "    \"\"\"\n",
    "    Find microstrip e_eff given s = w/h and er\n",
    "    \"\"\"\n",
    "    x = 0.56*((er-0.9)/(er+3))**0.05\n",
    "    y = 1 + 0.02*np.log((s**4 + 3.7e-4*s**2)/(s**4+0.43)) + \\\n",
    "        0.05*np.log(1+1.7e-4*s**3)\n",
    "    e_eff = (er+1)/2 + (er-1)/2*(1+10/s)**(-x*y)\n",
    "    return e_eff\n",
    "\n",
    "def mstrip_extra(Z0,er,f = 1e9,h = 1):\n",
    "    \"\"\"\n",
    "    Extra parameters: L', C', beta, \\lambda_g\n",
    "    \n",
    "    Z0 = characteristic impedance in Ohms\n",
    "    er = relative permittivity\n",
    "    f = operatng frequency in Hz\n",
    "    h = substrate height in m\n",
    "    \"\"\"\n",
    "    c = 3e8 # m/s\n",
    "    s, e_eff = mstrip_dsgn(Z0,er)\n",
    "    C_p = np.sqrt(e_eff)/(Z0*c) # F/m\n",
    "    L_p = Z0**2*C_p  #H/m\n",
    "    R_p = 0\n",
    "    G_p = 0\n",
    "    alpha = 0\n",
    "    beta = 2*np.pi/c*np.sqrt(e_eff) # rad/m\n",
    "    lambda_g = c/np.sqrt(e_eff)/f # m\n",
    "    print('Breedte van het baantje w = %1.3e mm, Rel. perm: e_eff = %2.3f' % (s*h*1000,e_eff))\n",
    "    print('Breedte van het baantje  w = %1.3e mils (vaak voorkomende PCB eenheid)' % (s*h*1000/0.0254,))\n",
    "    print('-----------------------------------------------------')\n",
    "    print(\"Weerstand per eenheid lengte: R' = 0 ohms/m\")\n",
    "    print(\"Inductantie per eenheid lengte: L' = %1.3e nH/m\" % (L_p*1e9,))\n",
    "    print(\"lek geleidbaarheid per eenheid lengte: G' = 0 S/n\")\n",
    "    print(\"Capaciteit per eenheid lengte: C' = %1.3e pF/m\" % (C_p*1e12,))\n",
    "    print('-----------------------------------------------------')\n",
    "    print('Golflengte in de vrije ruimte: lambda = %1.3e cm' % (c/f*1e2,))\n",
    "    print('Golflengte in het medium (guide): lambda_g = %1.3e cm' % (lambda_g*1e2,))"
   ]
  },
  {
   "cell_type": "markdown",
   "id": "a78581da-a77a-4f62-a470-226cef483e28",
   "metadata": {
    "slideshow": {
     "slide_type": "slide"
    },
    "tags": []
   },
   "source": [
    "Een voorbeeld: \n",
    "\n",
    "We willen een 50 Ohm transmissielijn bekomen voor een 2.4 GHz signaal op een PCB waarvan de relatieve permitiviteit van het dielectricum $\\epsilon_r$=4.6. De dikte van het dielectricum is 1/16 inch"
   ]
  },
  {
   "cell_type": "code",
   "execution_count": 9,
   "id": "a11103b5-480c-4dc9-a5c5-d03c7b26edd1",
   "metadata": {
    "collapsed": false,
    "execution": {
     "iopub.execute_input": "2022-01-04T16:07:02.503973Z",
     "iopub.status.busy": "2022-01-04T16:07:02.502965Z",
     "iopub.status.idle": "2022-01-04T16:07:02.518921Z",
     "shell.execute_reply": "2022-01-04T16:07:02.518921Z",
     "shell.execute_reply.started": "2022-01-04T16:07:02.503973Z"
    },
    "jupyter": {
     "outputs_hidden": false
    },
    "tags": [
     "hide-input"
    ]
   },
   "outputs": [
    {
     "name": "stdout",
     "output_type": "stream",
     "text": [
      "Breedte van het baantje w = 2.931e+00 mm, Rel. perm: e_eff = 3.460\n",
      "Breedte van het baantje  w = 1.154e+02 mils (vaak voorkomende PCB eenheid)\n",
      "-----------------------------------------------------\n",
      "Weerstand per eenheid lengte: R' = 0 ohms/m\n",
      "Inductantie per eenheid lengte: L' = 3.100e+02 nH/m\n",
      "lek geleidbaarheid per eenheid lengte: G' = 0 S/n\n",
      "Capaciteit per eenheid lengte: C' = 1.240e+02 pF/m\n",
      "-----------------------------------------------------\n",
      "Golflengte in de vrije ruimte: lambda = 1.250e+01 cm\n",
      "Golflengte in het medium (guide): lambda_g = 6.720e+00 cm\n"
     ]
    }
   ],
   "source": [
    "mstrip_extra(50,4.6,f= 2.4e9,h=1/16*2.54*1/100) #in*cm/in*m/cm"
   ]
  },
  {
   "cell_type": "code",
   "execution_count": 7,
   "id": "b8623f01-8dab-4352-a078-4cd773a60569",
   "metadata": {
    "collapsed": false,
    "execution": {
     "iopub.execute_input": "2022-01-04T16:06:16.807315Z",
     "iopub.status.busy": "2022-01-04T16:06:16.806286Z",
     "iopub.status.idle": "2022-01-04T16:06:16.812295Z",
     "shell.execute_reply": "2022-01-04T16:06:16.812295Z",
     "shell.execute_reply.started": "2022-01-04T16:06:16.807315Z"
    },
    "jupyter": {
     "outputs_hidden": false
    }
   },
   "outputs": [
    {
     "name": "stdout",
     "output_type": "stream",
     "text": [
      "Quart golflengte bij 2.4 GHz  = 1.680 cm\n"
     ]
    }
   ],
   "source": [
    "print('Quart golflengte bij 2.4 GHz  = %1.3f cm' % (6.72/4,))"
   ]
  },
  {
   "cell_type": "code",
   "execution_count": 5,
   "id": "ff33fae4-6a66-474c-afcb-ca449c170028",
   "metadata": {
    "execution": {
     "iopub.execute_input": "2022-02-01T22:11:50.953506Z",
     "iopub.status.busy": "2022-02-01T22:11:50.953506Z",
     "iopub.status.idle": "2022-02-01T22:11:50.969116Z",
     "shell.execute_reply": "2022-02-01T22:11:50.969116Z",
     "shell.execute_reply.started": "2022-02-01T22:11:50.953506Z"
    },
    "tags": []
   },
   "outputs": [
    {
     "name": "stdout",
     "output_type": "stream",
     "text": [
      "Breedte van het baantje w = 1.884e+00 mm, Rel. perm: e_eff = 3.338\n",
      "Breedte van het baantje  w = 7.418e+01 mils (vaak voorkomende PCB eenheid)\n",
      "-----------------------------------------------------\n",
      "Weerstand per eenheid lengte: R' = 0 ohms/m\n",
      "Inductantie per eenheid lengte: L' = 3.898e+02 nH/m\n",
      "lek geleidbaarheid per eenheid lengte: G' = 0 S/n\n",
      "Capaciteit per eenheid lengte: C' = 9.516e+01 pF/m\n",
      "-----------------------------------------------------\n",
      "Golflengte in de vrije ruimte: lambda = 6.000e+01 cm\n",
      "Golflengte in het medium (guide): lambda_g = 3.284e+01 cm\n"
     ]
    }
   ],
   "source": [
    "mstrip_extra(64,4.6,f= 0.5e9,h=1/16*2.54*1/100) #in*cm/in*m/cm"
   ]
  },
  {
   "cell_type": "markdown",
   "id": "7f23043e-791f-4b60-8f84-fecb54577bda",
   "metadata": {
    "slideshow": {
     "slide_type": "slide"
    },
    "tags": []
   },
   "source": [
    "## Microstrip Analyse Plots\n",
    "We vergelijken 3 types: Micro-fiber PTFE, FR4, en Ceramisch-gevulde PTFE voor een aantal waardes van $w/h$."
   ]
  },
  {
   "cell_type": "code",
   "execution_count": 24,
   "id": "b679539b-100b-423a-99b2-beba9b71929d",
   "metadata": {
    "collapsed": false,
    "execution": {
     "iopub.execute_input": "2021-12-06T23:06:22.729914Z",
     "iopub.status.busy": "2021-12-06T23:06:22.729914Z",
     "iopub.status.idle": "2021-12-06T23:06:23.575155Z",
     "shell.execute_reply": "2021-12-06T23:06:23.574158Z",
     "shell.execute_reply.started": "2021-12-06T23:06:22.729914Z"
    },
    "jupyter": {
     "outputs_hidden": false
    },
    "tags": []
   },
   "outputs": [
    {
     "data": {
      "image/png": "[encoded data removed]",
      "text/plain": [
       "<Figure size 432x288 with 1 Axes>"
      ]
     },
     "metadata": {
      "needs_background": "light"
     },
     "output_type": "display_data"
    }
   ],
   "source": [
    "s = np.arange(0.01,10,.01)\n",
    "Z0 = np.zeros_like(s)\n",
    "e_eff = np.zeros_like(s)\n",
    "er = (2.2,4.6,11.2)\n",
    "for m in range(3):\n",
    "    for k,sk in enumerate(s):\n",
    "        Z0[k],e_eff[k] = mstrip_anal(sk,er[m])\n",
    "    plt.plot(s,Z0)\n",
    "plt.ylim([0,200])\n",
    "plt.xlabel(r'$w/h$')\n",
    "plt.ylabel(r'$Z_0$')\n",
    "plt.title(r'Microstrip Analysis: $Z_0$ vs $w/h$')\n",
    "plt.legend((r'MF-PTFE: $\\epsilon_r = 2.2$',r'FR-4: $\\epsilon_r=4.6$',\n",
    "        r'CF_PTFE: $\\epsilon_r=11.2$'),loc='best')\n",
    "plt.grid();"
   ]
  },
  {
   "cell_type": "code",
   "execution_count": 12,
   "id": "8b84b457-0829-46df-b9b6-7df774cfd718",
   "metadata": {
    "collapsed": false,
    "execution": {
     "iopub.execute_input": "2022-01-04T16:20:59.864017Z",
     "iopub.status.busy": "2022-01-04T16:20:59.864017Z",
     "iopub.status.idle": "2022-01-04T16:21:00.652457Z",
     "shell.execute_reply": "2022-01-04T16:21:00.652457Z",
     "shell.execute_reply.started": "2022-01-04T16:20:59.864017Z"
    },
    "jupyter": {
     "outputs_hidden": false
    },
    "slideshow": {
     "slide_type": "slide"
    },
    "tags": []
   },
   "outputs": [
    {
     "data": {
      "image/png": "[encoded data removed]",
      "text/plain": [
       "<Figure size 432x288 with 1 Axes>"
      ]
     },
     "metadata": {
      "needs_background": "light"
     },
     "output_type": "display_data"
    }
   ],
   "source": [
    "s = np.arange(0.01,10,.01)\n",
    "Z0 = np.zeros_like(s)\n",
    "e_eff = np.zeros_like(s)\n",
    "er = (2.2,4.6,11.2)\n",
    "for m in range(3):\n",
    "    for k,sk in enumerate(s):\n",
    "        Z0[k],e_eff[k] = mstrip_anal(sk,er[m])\n",
    "    plt.plot(s,e_eff)\n",
    "plt.ylim([0,10])\n",
    "plt.xlabel(r'$w/h$')\n",
    "plt.ylabel(r'$\\epsilon_{eff}$')\n",
    "plt.title(r'Microstrip Analyse: $\\epsilon_{eff}$ vs $w/h$')\n",
    "plt.legend((r'$\\epsilon_r = 2.2$',r'$\\epsilon_r=4.6$',\n",
    "        r'$\\epsilon_r=11.2$'),loc='best')\n",
    "plt.grid();"
   ]
  },
  {
   "cell_type": "markdown",
   "id": "6ddff636-1d2e-459a-acfa-c422350a7fc0",
   "metadata": {
    "slideshow": {
     "slide_type": "slide"
    },
    "tags": []
   },
   "source": [
    "## Microstrip Design Plots\n",
    "\n",
    "Voor het design doen we eigenlijk het omgekeerde van de analyse: we vertrekken van een gevraagde $Z_o$ en we rekenen uit wat de $w$ en $h$ moeten zijn om dit te bekomen.\n",
    "We vergelijken 3 types: Micro-fiber PTFE, FR4, en Ceramisch-gevulde PTFE voor een aantal waardes van $w/h$."
   ]
  },
  {
   "cell_type": "code",
   "execution_count": 18,
   "id": "7bd9314d-5cc4-41e3-a283-50865b35b74d",
   "metadata": {
    "collapsed": false,
    "execution": {
     "iopub.execute_input": "2022-01-04T16:24:14.057266Z",
     "iopub.status.busy": "2022-01-04T16:24:14.057266Z",
     "iopub.status.idle": "2022-01-04T16:24:14.345493Z",
     "shell.execute_reply": "2022-01-04T16:24:14.345493Z",
     "shell.execute_reply.started": "2022-01-04T16:24:14.057266Z"
    },
    "jupyter": {
     "outputs_hidden": false
    },
    "tags": [
     "hide-input"
    ]
   },
   "outputs": [
    {
     "data": {
      "image/png": "[encoded data removed]",
      "text/plain": [
       "<Figure size 432x288 with 1 Axes>"
      ]
     },
     "metadata": {
      "needs_background": "light"
     },
     "output_type": "display_data"
    }
   ],
   "source": [
    "Z0 = np.arange(20,140,.1)\n",
    "s = np.zeros_like(Z0)\n",
    "e_eff = np.zeros_like(Z0)\n",
    "er = (2.2,4.6,11.2)\n",
    "for m in range(3):\n",
    "    for k,Z0k in enumerate(Z0):\n",
    "        s[k],e_eff[k] = mstrip_dsgn(Z0k,er[m])\n",
    "    plt.plot(Z0,s)\n",
    "plt.ylim([0,10])\n",
    "plt.xlabel(r'$Z_0$')\n",
    "plt.ylabel(r'$w/h$')\n",
    "plt.title(r'Microstrip Design: $w/h$ vs $Z_0$')\n",
    "plt.legend((r'MF-PTFE: $\\epsilon_r = 2.2$',r'FR-4: $\\epsilon_r=4.6$',\n",
    "        r'CF_PTFE: $\\epsilon_r=11.2$'),loc='best')\n",
    "plt.grid();"
   ]
  },
  {
   "cell_type": "code",
   "execution_count": 21,
   "id": "9fbd06d5-1b4c-4fce-a8aa-b0c5298f47b2",
   "metadata": {
    "collapsed": false,
    "execution": {
     "iopub.execute_input": "2022-01-04T16:26:38.610558Z",
     "iopub.status.busy": "2022-01-04T16:26:38.609560Z",
     "iopub.status.idle": "2022-01-04T16:26:38.985555Z",
     "shell.execute_reply": "2022-01-04T16:26:38.984556Z",
     "shell.execute_reply.started": "2022-01-04T16:26:38.610558Z"
    },
    "jupyter": {
     "outputs_hidden": false
    },
    "tags": [
     "hide-input"
    ]
   },
   "outputs": [
    {
     "data": {
      "image/png": "[encoded data removed]",
      "text/plain": [
       "<Figure size 432x288 with 1 Axes>"
      ]
     },
     "metadata": {
      "needs_background": "light"
     },
     "output_type": "display_data"
    }
   ],
   "source": [
    "for m in range(3):\n",
    "    for k,Z0k in enumerate(Z0):\n",
    "        s[k],e_eff[k] = mstrip_dsgn(Z0k,er[m])\n",
    "    plt.plot(Z0,e_eff)\n",
    "plt.ylim([1,10])\n",
    "plt.xlabel(r'$Z_0$')\n",
    "plt.ylabel(r'$\\epsilon_{eff}$')\n",
    "plt.title(r'Microstrip Design: $\\epsilon_{eff}$ vs $Z_0$')\n",
    "plt.legend((r'MF-PTFE: $\\epsilon_r = 2.2$',r'FR-4: $\\epsilon_r=4.6$',\n",
    "        r'CF_PTFE: $\\epsilon_r=11.2$'),loc='best')\n",
    "plt.grid();"
   ]
  },
  {
   "cell_type": "code",
   "execution_count": null,
   "id": "de008e6c-70fd-4acb-93c3-a104b1b1a6a2",
   "metadata": {},
   "outputs": [],
   "source": []
  }
 ],
 "metadata": {
  "KULeuvenSlides": {
   "authors": "Jan Genoe",
   "date": "Februari 2022",
   "kuleuven_presentation_style": "1425",
   "subtitle": "Modellen voor AC analyse",
   "title": "Transmissielijnen"
  },
  "citation-manager": {
   "items": {}
  },
  "kernelspec": {
   "display_name": "KULeuven",
   "language": "python",
   "name": "kuleuven"
  },
  "language_info": {
   "codemirror_mode": {
    "name": "ipython",
    "version": 3
   },
   "file_extension": ".py",
   "mimetype": "text/x-python",
   "name": "python",
   "nbconvert_exporter": "python",
   "pygments_lexer": "ipython3",
   "version": "3.8.12"
  },
  "widgets": {
   "application/vnd.jupyter.widget-state+json": {
    "state": {},
    "version_major": 2,
    "version_minor": 0
   }
  }
 },
 "nbformat": 4,
 "nbformat_minor": 5
}
