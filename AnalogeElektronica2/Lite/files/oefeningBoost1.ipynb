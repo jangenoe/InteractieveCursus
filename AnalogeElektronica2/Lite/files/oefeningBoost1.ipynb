{
 "cells": [
  {
   "cell_type": "markdown",
   "id": "44a81c07-9483-4c36-a7ea-88e3f96046bd",
   "metadata": {
    "editable": true,
    "slideshow": {
     "slide_type": "slide"
    },
    "tags": [
     "remove_cell4reveal"
    ]
   },
   "source": [
    "# Oefening Boost convertor"
   ]
  },
  {
   "cell_type": "markdown",
   "id": "a7cc453b-d9f5-4cf1-8a1f-93837bf86577",
   "metadata": {
    "editable": true,
    "slideshow": {
     "slide_type": ""
    },
    "tags": []
   },
   "source": [
    "## opgave"
   ]
  },
  {
   "cell_type": "markdown",
   "id": "db3d32c7-ed6b-44bd-a448-7434fc6222a6",
   "metadata": {
    "editable": true,
    "slideshow": {
     "slide_type": ""
    },
    "tags": []
   },
   "source": [
    "Het onderstaande schema beschikbaar op het [internet](https://www.analog.com/media/en/technical-documentation/data-sheets/1680fa.pdf). De ingangsspanning is 12V en de uitgangsspanning is 48V. De voorwaartse spanning over [D1](https://www.onsemi.com/pdf/datasheet/mbr20100ct-d.pdf) is typisch 0.45V en de aan weerstand van [M1](https://www.vishay.com/docs/91291/91291.pdf) is typisch 0.028 $\\Omega$. De weerstand van het spoel L1 is verwaarloosbaar klein ten opzichte van de weerstand $R_{SENSE}$ (zie schema) die wel moet meegerekend worden.\n",
    "\n",
    "1. Wat is de duty cycle als er een verwaarloosbare stroom aan de uitgang loopt?\n",
    "2. Bereken de duty cycle D als een functie van de stroom $I_L$\n",
    "3. Bereken de duty cycle D als een functie van de stroom $I_{out}$. Hier bekijken we enkel de duty cycle waarbij een stabiele waarde van de stroom wordt bekomen.\n",
    "4. Bereken de efficientie als een functie van de stroom $I_{out}$\n",
    "5. Bereken de efficientie als een functie van de output Power $P_{out}$. \n",
    "6. Hoe verandert deze efficientie als de chip nog bijkomend 22mA uit de 12V voeding verbruikt? "
   ]
  },
  {
   "cell_type": "markdown",
   "id": "990b6b8e",
   "metadata": {
    "editable": true,
    "slideshow": {
     "slide_type": "slide"
    },
    "tags": [
     "slide_overzicht"
    ]
   },
   "source": [
    "######  Overzicht\n",
    " \n"
   ]
  },
  {
   "cell_type": "markdown",
   "id": "53b8687f-665e-40e6-990e-036baf38b609",
   "metadata": {
    "editable": true,
    "slideshow": {
     "slide_type": ""
    },
    "tags": []
   },
   "source": [
    "```{figure} ./images/StepUp1.png\n",
    ":name:  bb\n",
    "\n",
    "Commercieel boost convertor circuit\n",
    "```"
   ]
  },
  {
   "cell_type": "code",
   "execution_count": null,
   "id": "defaae00-4f68-490b-a502-a2d101f3420d",
   "metadata": {
    "editable": true,
    "slideshow": {
     "slide_type": ""
    },
    "tags": []
   },
   "outputs": [],
   "source": []
  },
  {
   "cell_type": "code",
   "execution_count": null,
   "id": "9226ae04-3302-4c6c-aaa0-ae28ca4dcd7b",
   "metadata": {
    "editable": true,
    "slideshow": {
     "slide_type": ""
    },
    "tags": []
   },
   "outputs": [],
   "source": []
  },
  {
   "cell_type": "markdown",
   "id": "9b784e7e-6711-45a0-a143-90b6210a6ec3",
   "metadata": {
    "editable": true,
    "slideshow": {
     "slide_type": ""
    },
    "tags": []
   },
   "source": [
    "## Oplossing\n",
    "\n",
    "We berekenen hier eerst de duty cycle als een functie van de stroom die door het spoel loopt ($I_L$).\n",
    "\n",
    "### Bereken de duty cycle D als een functie van de stroom $I_L$\n",
    "\n",
    "$$ D \\left(V_{in}- (R_L+R_{SENSE}+R_T)I_L\\right)+(1-D)\\left(V_{in}-V_{D} -(R_L+R_{SENSE})I_L- V_{out} \\right) =0 $$"
   ]
  },
  {
   "cell_type": "markdown",
   "id": "f405a783-3c4a-491e-b4c8-720163a526a2",
   "metadata": {
    "editable": true,
    "slideshow": {
     "slide_type": ""
    },
    "tags": []
   },
   "source": [
    "$$ D \\left(V_{in}- (R_L+R_{SENSE}+R_T)I_L\\right)- D\\left(V_{in}-V_{D} -(R_L+R_{SENSE})I_L- V_{out} \\right) =V_{out}+V_{D} +(R_L+R_{SENSE})I_L- V_{in} $$\n",
    "\n",
    "$$ D \\left(- (R_T)I_L\\right)- D\\left(-V_{D} - V_{out} \\right) =V_{out}+V_{D} +(R_L+R_{SENSE})I_L- V_{in} $$"
   ]
  },
  {
   "cell_type": "markdown",
   "id": "f793bba3-8966-482a-a399-77404f6b71ee",
   "metadata": {
    "editable": true,
    "slideshow": {
     "slide_type": ""
    },
    "tags": []
   },
   "source": [
    "$$ D (V_{out}+V_{D} - R_T I_L) =V_{out}+V_{D} +(R_L+R_{SENSE})I_L- V_{in} $$"
   ]
  },
  {
   "cell_type": "markdown",
   "id": "fed526eb-5efb-470c-ab72-4767dacd5d68",
   "metadata": {
    "editable": true,
    "slideshow": {
     "slide_type": ""
    },
    "tags": []
   },
   "source": [
    "$$ D  =\\frac{V_{out}+V_{D} +(R_L+R_{SENSE})I_L- V_{in} }{(V_{out}+V_{D} - R_T I_L)}$$\n",
    "\n",
    "$$ D  =\\frac{36.45 +0.005 I_L }{48.45 - 0.028 I_L}$$\n",
    "\n",
    "{numref}`Duty1` toont het verloop van de bekomen Duty Dycle als een functie van de stroom die door het spoel loopt ($I_L$)."
   ]
  },
  {
   "cell_type": "code",
   "execution_count": 35,
   "id": "15d189c0-a4f1-4048-8c98-1c97229f32b0",
   "metadata": {
    "editable": true,
    "execution": {
     "iopub.execute_input": "2022-06-19T18:23:23.268657Z",
     "iopub.status.busy": "2022-06-19T18:23:23.267763Z",
     "iopub.status.idle": "2022-06-19T18:23:23.395051Z",
     "shell.execute_reply": "2022-06-19T18:23:23.394551Z",
     "shell.execute_reply.started": "2022-06-19T18:23:23.268657Z"
    },
    "mystnb": {
     "figure": {
      "caption": "Duty cycle als een functie van de stroom door de spoel",
      "name": "Duty1"
     }
    },
    "slideshow": {
     "slide_type": "slide"
    },
    "tags": []
   },
   "outputs": [
    {
     "data": {
      "image/png": "[encoded data removed]",
      "text/plain": [
       "<Figure size 864x432 with 1 Axes>"
      ]
     },
     "metadata": {
      "needs_background": "light"
     },
     "output_type": "display_data"
    }
   ],
   "source": [
    "import numpy as np\n",
    "import matplotlib.pyplot as plt\n",
    "\n",
    "fig, ax = plt.subplots(1,1,figsize=(12,6))\n",
    "\n",
    "IL=np.linspace(0,24,50)\n",
    "ax.plot(IL,100*(36.45 +0.005*IL)/(48.45 - 0.028*IL));\n",
    "\n",
    "ax.set_xlim(0,24)   \n",
    "ax.set_ylim(75,77)\n",
    "ax.set_xlabel(r'Inductor Current (A)')\n",
    "ax.set_ylabel(r'Duty cycle (%)');"
   ]
  },
  {
   "cell_type": "markdown",
   "id": "e8f6b0dc-51a8-4a4f-b815-2fecfd1c5320",
   "metadata": {
    "editable": true,
    "slideshow": {
     "slide_type": ""
    },
    "tags": []
   },
   "source": [
    "Wanneer we deze grafiek bekijken, lijkt het in dit geval dat we een lineaire benadering kunnen uitvoeren.\n",
    "$$ D  =\\frac{36.45  }{48.45 } \\frac{1 +\\frac{0.005}{36.45} I_L }{1 - \\frac{0.028}{48.45} I_L}$$\n",
    "\n",
    "Dit doen we door een reeks ontwikkeling van de noemer uit te werken:\n",
    "\n",
    "$$ D   = \\frac{36.45  }{48.45 } \\left(1 +\\frac{0.005}{36.45} I_L \\right)\\left(1 + \\frac{0.028}{48.45} I_L+ \\dots \\right)$$\n",
    "\n",
    "en deze reeks vervolgens te benaderen door de eerste term:"
   ]
  },
  {
   "cell_type": "markdown",
   "id": "8abe84ad-f8a1-422c-8d3e-d677796cbc21",
   "metadata": {
    "editable": true,
    "slideshow": {
     "slide_type": ""
    },
    "tags": []
   },
   "source": [
    "$$ D   \\approx \\frac{36.45  }{48.45 } \\left(1 +\\frac{0.005}{36.45} I_L \\right)\\left(1 + \\frac{0.028}{48.45} I_L\\right)$$"
   ]
  },
  {
   "cell_type": "markdown",
   "id": "d503f729-8879-49b4-8707-90134b301e15",
   "metadata": {
    "editable": true,
    "slideshow": {
     "slide_type": ""
    },
    "tags": []
   },
   "source": [
    "$$ D   \\approx \\frac{36.45  }{48.45 } \\left(1 +\\left(\\frac{0.005}{36.45}  + \\frac{0.028}{48.45}\\right) I_L\\right)$$"
   ]
  },
  {
   "cell_type": "code",
   "execution_count": 36,
   "id": "4fc854c0-902d-40b0-9c62-63c5c4ebdb0e",
   "metadata": {
    "editable": true,
    "execution": {
     "iopub.execute_input": "2022-06-19T18:24:40.037542Z",
     "iopub.status.busy": "2022-06-19T18:24:40.037542Z",
     "iopub.status.idle": "2022-06-19T18:24:40.055507Z",
     "shell.execute_reply": "2022-06-19T18:24:40.054584Z",
     "shell.execute_reply.started": "2022-06-19T18:24:40.037542Z"
    },
    "slideshow": {
     "slide_type": "skip"
    },
    "tags": []
   },
   "outputs": [
    {
     "data": {
      "text/plain": [
       "(0.7523219814241486, 0.000715089587925272, 0.7652334442005579)"
      ]
     },
     "execution_count": 36,
     "metadata": {},
     "output_type": "execute_result"
    }
   ],
   "source": [
    "36.45/48.45,0.005/36.45+0.028/48.45,(1+(0.005/36.45+0.028/48.45)*24)*36.45/48.45"
   ]
  },
  {
   "cell_type": "markdown",
   "id": "efffe9ed-f02a-4207-9d0d-b5cb73acb1f8",
   "metadata": {
    "editable": true,
    "slideshow": {
     "slide_type": ""
    },
    "tags": []
   },
   "source": [
    "$$ D   \\approx 0.7523 \\left(1 +0.000715 I_L\\right)$$"
   ]
  },
  {
   "cell_type": "markdown",
   "id": "5af5eb89-d9e4-4130-a2e3-500dcd1847e1",
   "metadata": {
    "editable": true,
    "slideshow": {
     "slide_type": ""
    },
    "tags": []
   },
   "source": [
    "### Bereken de duty cycle D als een functie van de stroom $I_{out}$\n",
    "\n",
    "$$ I_L (1-D)= I_{out}$$\n",
    "\n",
    "$$ D (V_{out}+V_{D} - R_T I_L) =V_{out}+V_{D} +(R_L+R_{SENSE})I_L- V_{in} $$\n",
    "\n",
    "$$ D ((1-D)(V_{out}+V_{D}) - R_T I_{out}) =(1-D)(V_{out}+V_{D}- V_{in}) +(R_L+R_{SENSE})I_{out} $$"
   ]
  },
  {
   "cell_type": "markdown",
   "id": "8132e542-5f83-4fca-b609-c201c61d5857",
   "metadata": {},
   "source": [
    "$$ -(V_{out}+V_{D}) D^2 +(2 V_{out}+2 V_{D} - R_T I_{out}- V_{in})  D  -(V_{out}+V_{D}- V_{in}+(R_L+R_{SENSE})I_{out}) $$\n"
   ]
  },
  {
   "cell_type": "markdown",
   "id": "e8378fa5-3d19-44c6-9ad6-1282f3a0b203",
   "metadata": {
    "editable": true,
    "slideshow": {
     "slide_type": ""
    },
    "tags": []
   },
   "source": [
    "$$D=\\frac{-(2 V_{out}+2 V_{D} - R_T I_{out}- V_{in}) +\\sqrt{(2 V_{out}+2 V_{D} - R_T I_{out}- V_{in})^2-4(V_{out}+V_{D})(V_{out}+V_{D}- V_{in}+(R_L+R_{SENSE})I_{out})}}{-2(V_{out}+V_{D})} $$\n",
    "\n"
   ]
  },
  {
   "cell_type": "code",
   "execution_count": 51,
   "id": "24bd3be1-19d4-4214-9965-a731a2c02cb8",
   "metadata": {
    "editable": true,
    "execution": {
     "iopub.execute_input": "2022-06-19T19:06:07.046647Z",
     "iopub.status.busy": "2022-06-19T19:06:07.045649Z",
     "iopub.status.idle": "2022-06-19T19:06:07.154712Z",
     "shell.execute_reply": "2022-06-19T19:06:07.153711Z",
     "shell.execute_reply.started": "2022-06-19T19:06:07.046647Z"
    },
    "mystnb": {
     "figure": {
      "caption": "Duty cycle als een functie van de stroom aan de uitgang",
      "name": "Dutyoutput"
     }
    },
    "slideshow": {
     "slide_type": "slide"
    },
    "tags": []
   },
   "outputs": [
    {
     "data": {
      "image/png": "[encoded data removed]",
      "text/plain": [
       "<Figure size 864x432 with 1 Axes>"
      ]
     },
     "metadata": {
      "needs_background": "light"
     },
     "output_type": "display_data"
    }
   ],
   "source": [
    "import numpy as np\n",
    "import matplotlib.pyplot as plt\n",
    "\n",
    "fig, ax = plt.subplots(1,1,figsize=(12,6))\n",
    "\n",
    "Iout=np.linspace(0,5.2,50)\n",
    "b=2*48+2*0.45-0.028*Iout-12\n",
    "det=b**2-4*48.45*(36.45+0.005*Iout)\n",
    "ax.plot(Iout,-100*(-b+np.sqrt(det) )/48.45/2);\n",
    "#ax.plot(Iout,-(-b-np.sqrt(det) )/48.45/2);\n",
    "ax.plot(Iout,100*(1.7523 -np.sqrt(1.7523**2-4*(0.7523  +0.0005378945*Iout)))/2)\n",
    "#ax.plot(Iout,100*(1.7523 +np.sqrt(1.7523**2-4*(0.7523  +0.0005378945*Iout)))/2)\n",
    "ax.plot(Iout,100*(0.7523+0.00217*Iout))\n",
    "ax.set_xlim(0,250/48)   \n",
    "ax.set_ylim(75,77)\n",
    "ax.set_xlabel(r'Output Current (A)')\n",
    "ax.set_ylabel(r'Duty cycle (%)');"
   ]
  },
  {
   "cell_type": "markdown",
   "id": "5ab30ecc-7cb8-4bb9-86e5-3b7367408d5e",
   "metadata": {},
   "source": [
    "Aangezien de duty cycle erg lineair was als functie van $I_L$ kunnen we dit ook als basis nemen voor de verdere berekening van de duty cycle als functie van de $I_{out}$\n",
    "\n",
    "\n",
    "$$ D   \\approx 0.7523 \\left(1 +0.000715 I_L\\right)$$\n",
    "\n",
    "$$ D   \\approx 0.7523 \\left(1 +0.000715 \\frac{I_{out}}{1-D}\\right)$$\n",
    "\n",
    "$$ D(1-D)= 0.7523 \\left(1-D +0.000715 I_{out}\\right)$$\n",
    "\n",
    "$$ D^2 -D + 0.7523 \\left(1-D +0.000715 I_{out}\\right)=0$$"
   ]
  },
  {
   "cell_type": "markdown",
   "id": "bdf57f93-7871-4417-aa01-c9103ee84ad9",
   "metadata": {},
   "source": [
    "$$ D^2 -1.7523 D + 0.7523  +0.0005378945 I_{out} \\approx 0$$\n",
    "\n",
    "Opnieuw heeft deze vierkantsvergelijking 2 oplossingen. De berekening met de + levert ons het onstabiele stroompunt op. De correcte benadering vinden we in:\n",
    "\n",
    "$$D \\approx \\frac{1.7523 -\\sqrt{1.7523^2-4(0.7523  +0.0005378945 I_{out})}}{2} $$\n",
    "\n",
    "{numref}`Dutyoutput` toont dat zowel de correcte berekening als de benadering weinig van elkaar verschillen."
   ]
  },
  {
   "cell_type": "code",
   "execution_count": 48,
   "id": "9d067b48-5d8e-4359-a5e8-a26b2dd28c80",
   "metadata": {
    "execution": {
     "iopub.execute_input": "2022-06-19T18:56:00.669261Z",
     "iopub.status.busy": "2022-06-19T18:56:00.667327Z",
     "iopub.status.idle": "2022-06-19T18:56:00.688682Z",
     "shell.execute_reply": "2022-06-19T18:56:00.687643Z",
     "shell.execute_reply.started": "2022-06-19T18:56:00.669261Z"
    },
    "tags": []
   },
   "outputs": [
    {
     "data": {
      "text/plain": [
       "0.0005378945"
      ]
     },
     "execution_count": 48,
     "metadata": {},
     "output_type": "execute_result"
    }
   ],
   "source": [
    "x1=0.7523  *0.000715\n",
    "x1"
   ]
  },
  {
   "cell_type": "code",
   "execution_count": 49,
   "id": "8f669707-0a6c-42f7-b062-819ab9bdb520",
   "metadata": {
    "execution": {
     "iopub.execute_input": "2022-06-19T18:57:42.956270Z",
     "iopub.status.busy": "2022-06-19T18:57:42.956270Z",
     "iopub.status.idle": "2022-06-19T18:57:42.971140Z",
     "shell.execute_reply": "2022-06-19T18:57:42.970142Z",
     "shell.execute_reply.started": "2022-06-19T18:57:42.956270Z"
    },
    "tags": []
   },
   "outputs": [
    {
     "data": {
      "text/plain": [
       "(0.06135528999999984, 0.03506752229514367)"
      ]
     },
     "execution_count": 49,
     "metadata": {},
     "output_type": "execute_result"
    }
   ],
   "source": [
    "x2=1.7523**2-4*0.7523\n",
    "x3=4*x1/x2\n",
    "x2,x3"
   ]
  },
  {
   "cell_type": "code",
   "execution_count": 50,
   "id": "023f46a3-ac3d-49d0-9696-6a94206731a7",
   "metadata": {
    "execution": {
     "iopub.execute_input": "2022-06-19T19:03:41.648741Z",
     "iopub.status.busy": "2022-06-19T19:03:41.648741Z",
     "iopub.status.idle": "2022-06-19T19:03:41.672893Z",
     "shell.execute_reply": "2022-06-19T19:03:41.671979Z",
     "shell.execute_reply.started": "2022-06-19T19:03:41.648741Z"
    }
   },
   "outputs": [
    {
     "data": {
      "text/plain": [
       "(0.7523000000000002, 0.0021715563181267687)"
      ]
     },
     "execution_count": 50,
     "metadata": {},
     "output_type": "execute_result"
    }
   ],
   "source": [
    "(1.7523-np.sqrt(x2))/2,np.sqrt(x2)/2*x3/2"
   ]
  },
  {
   "cell_type": "markdown",
   "id": "1bc32881-f184-40f4-aebd-c1db85641585",
   "metadata": {},
   "source": [
    "$$D \\approx \\frac{1.7523 -\\sqrt{0.061355 (1 -0.035 I_{out})}}{2} $$"
   ]
  },
  {
   "cell_type": "markdown",
   "id": "8578fda6-ee69-4eb4-8158-48a773711287",
   "metadata": {},
   "source": [
    "$$D \\approx 0.7523 + 0.00217 I_{out}$$"
   ]
  },
  {
   "cell_type": "markdown",
   "id": "a7c0211e-b6d7-4cbd-b38c-67d11fc0d4b0",
   "metadata": {},
   "source": [
    "### Bereken de efficientie als een functie van de stroom $I_{out}$"
   ]
  },
  {
   "cell_type": "code",
   "execution_count": 23,
   "id": "e0dfbd30-9270-47de-9464-790d6738372e",
   "metadata": {
    "execution": {
     "iopub.execute_input": "2022-06-19T17:47:52.592716Z",
     "iopub.status.busy": "2022-06-19T17:47:52.592181Z",
     "iopub.status.idle": "2022-06-19T17:47:52.678011Z",
     "shell.execute_reply": "2022-06-19T17:47:52.677900Z",
     "shell.execute_reply.started": "2022-06-19T17:47:52.592716Z"
    },
    "mystnb": {
     "figure": {
      "caption": "efficientie als een functie van de stroom aan de uitgang",
      "name": "effoutput"
     }
    },
    "tags": []
   },
   "outputs": [
    {
     "data": {
      "image/png": "[encoded data removed]",
      "text/plain": [
       "<Figure size 864x432 with 1 Axes>"
      ]
     },
     "metadata": {
      "needs_background": "light"
     },
     "output_type": "display_data"
    }
   ],
   "source": [
    "import numpy as np\n",
    "import matplotlib.pyplot as plt\n",
    "\n",
    "fig, ax = plt.subplots(1,1,figsize=(12,6))\n",
    "\n",
    "Iout=np.linspace(0,5.2,50)\n",
    "b=2*48+2*0.45-0.028*Iout-12\n",
    "det=b**2-4*48.45*(36.45+0.005*Iout)\n",
    "ax.plot(Iout,100*(1+(-b+np.sqrt(det) )/48.45/2)*48/12);\n",
    "#ax.plot(Iout,-(-b-np.sqrt(det) )/48.45/2);\n",
    "ax.set_xlim(0,250/48)   \n",
    "ax.set_ylim(90,100)\n",
    "ax.set_xlabel(r'Output Current (A)')\n",
    "ax.set_ylabel(r'Efficientie (%)');"
   ]
  },
  {
   "cell_type": "markdown",
   "id": "0ee988fe-6619-4f2d-ab76-7426bbd26220",
   "metadata": {},
   "source": [
    "### Bereken de efficientie als een functie van de output Power $P_{out}$"
   ]
  },
  {
   "cell_type": "code",
   "execution_count": 21,
   "id": "e90987d3-87ae-46a5-a6d4-523a1e6e86e9",
   "metadata": {
    "execution": {
     "iopub.execute_input": "2022-06-19T17:46:42.799593Z",
     "iopub.status.busy": "2022-06-19T17:46:42.798556Z",
     "iopub.status.idle": "2022-06-19T17:46:42.881145Z",
     "shell.execute_reply": "2022-06-19T17:46:42.881145Z",
     "shell.execute_reply.started": "2022-06-19T17:46:42.799593Z"
    },
    "jupyter": {
     "source_hidden": true
    },
    "mystnb": {
     "figure": {
      "caption": "Efficientie als een functie van de output power",
      "name": "effpower"
     }
    },
    "tags": []
   },
   "outputs": [
    {
     "data": {
      "image/png": "[encoded data removed]",
      "text/plain": [
       "<Figure size 864x432 with 1 Axes>"
      ]
     },
     "metadata": {
      "needs_background": "light"
     },
     "output_type": "display_data"
    }
   ],
   "source": [
    "import numpy as np\n",
    "import matplotlib.pyplot as plt\n",
    "\n",
    "fig, ax = plt.subplots(1,1,figsize=(12,6))\n",
    "\n",
    "Iout=np.linspace(0,5.2,500)\n",
    "b=2*48+2*0.45-0.028*Iout-12\n",
    "det=b**2-4*48.45*(36.45+0.005*Iout)\n",
    "eff=(1+(-b+np.sqrt(det) )/48.45/2)*48/12\n",
    "ax.plot(Iout*48,100*eff);\n",
    "Pin=Iout*48/eff+12*0.022\n",
    "ax.plot(Iout*48,100*Iout*48/Pin);\n",
    "ax.set_xlim(0,250)   \n",
    "ax.set_ylim(90,100)\n",
    "ax.set_xlabel(r'Output Power (W)')\n",
    "ax.set_ylabel(r'Efficientie (%)');"
   ]
  }
 ],
 "metadata": {
  "kernelspec": {
   "display_name": "KULeuven",
   "language": "python",
   "name": "kuleuven"
  },
  "language_info": {
   "codemirror_mode": {
    "name": "ipython",
    "version": 3
   },
   "file_extension": ".py",
   "mimetype": "text/x-python",
   "name": "python",
   "nbconvert_exporter": "python",
   "pygments_lexer": "ipython3",
   "version": "3.10.15"
  }
 },
 "nbformat": 4,
 "nbformat_minor": 5
}
