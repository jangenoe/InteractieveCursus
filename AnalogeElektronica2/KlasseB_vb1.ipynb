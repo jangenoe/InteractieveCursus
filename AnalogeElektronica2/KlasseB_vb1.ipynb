{
 "cells": [
  {
   "cell_type": "markdown",
   "id": "2b758530-dc58-4e9e-b001-e002043b0f81",
   "metadata": {},
   "source": [
    "# Voorbeeld 1: Klasse B versterker\n",
    "\n",
    "```{figure} ./images/ClassB_vb/vb1schema.png\n",
    "---\n",
    "name: VBB1schema\n",
    "---\n",
    "Basisschema van de versterker\n",
    "```\n",
    "\n",
    "```{figure} ./images/ClassB_vb/vb1intern.png\n",
    "---\n",
    "name: VBB1intern\n",
    "---\n",
    "Interne structuur van de versterkerchip\n",
    "```\n",
    "\n",
    "```{figure} ./images/ClassB_vb/vb1foto.png\n",
    "---\n",
    "name: VBB1foto\n",
    "---\n",
    "Foto van de versterker\n",
    "```\n",
    "\n",
    "\n",
    "```{figure} ./images/ClassB_vb/vb1layout.png\n",
    "---\n",
    "name: VBB1layout\n",
    "---\n",
    "Layout van de versterker\n",
    "```\n",
    "\n",
    "```{figure} ./images/ClassB_vb/vb1bestukking.png\n",
    "---\n",
    "name: VBB1bestukking\n",
    "---\n",
    "Bestukking van de versterker\n",
    "```\n",
    "\n",
    "\n"
   ]
  },
  {
   "cell_type": "code",
   "execution_count": null,
   "id": "5301fcb2-db05-4c29-9b31-318555bb0c83",
   "metadata": {
    "tags": [
     "hide-input"
    ]
   },
   "outputs": [],
   "source": [
    "import matplotlib.pyplot as plt\n",
    "import matplotlib.ticker as ticker\n",
    "from  matplotlib import patches\n",
    "import scipy.signal as signal\n",
    "import numpy as np\n",
    "from PySpice.Probe.Plot import plot\n",
    "from PySpice.Spice.Parser import SpiceParser\n",
    "from PySpice.Spice.Netlist import Circuit\n",
    "from PySpice.Unit import *\n",
    "import schemdraw as schem\n",
    "import schemdraw.elements as e\n",
    "from ipywidgets import interact,FloatSlider\n",
    "usewidgets=False;\n",
    "    \n",
    "def spicelisting(filename):\n",
    "    with open(filename) as f:\n",
    "        for line in f:\n",
    "            print(line.strip())\n",
    "    print()"
   ]
  }
 ],
 "metadata": {
  "kernelspec": {
   "display_name": "KULeuven",
   "language": "python",
   "name": "kuleuven"
  },
  "language_info": {
   "codemirror_mode": {
    "name": "ipython",
    "version": 3
   },
   "file_extension": ".py",
   "mimetype": "text/x-python",
   "name": "python",
   "nbconvert_exporter": "python",
   "pygments_lexer": "ipython3",
   "version": "3.8.12"
  },
  "widgets": {
   "application/vnd.jupyter.widget-state+json": {
    "state": {},
    "version_major": 2,
    "version_minor": 0
   }
  }
 },
 "nbformat": 4,
 "nbformat_minor": 5
}
