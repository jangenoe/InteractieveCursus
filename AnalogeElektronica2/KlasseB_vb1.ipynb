{
 "cells": [
  {
   "cell_type": "markdown",
   "id": "669a4ce0-6f20-4db5-b993-7f71e8905c06",
   "metadata": {
    "slideshow": {
     "slide_type": "slide"
    },
    "tags": []
   },
   "source": [
    "# Voorbeeld 1: Klasse B versterker"
   ]
  },
  {
   "cell_type": "markdown",
   "id": "ed58a77a-b39e-43be-a38f-39b5df9be9ff",
   "metadata": {
    "slideshow": {
     "slide_type": "skip"
    },
    "tags": []
   },
   "source": [
    "<a href=\"./slides/KlasseB_vb1.slides.html\" target=\"_blank\">![slides](./images/slides-beschikbaar-blue.svg)</a> \n",
    "<a href=\"../Lite/AnalogeElektronica2/lab?path=KlasseB_vb1.ipynb\" target=\"_blank\">![slides](./images/open_in-JupyterLite-blue.svg)</a>\n",
    "<a href=\"../Deck/AnalogeElektronica2/lab?path=KlasseB_vb1.ipynb\" target=\"_blank\">![slides](./images/JupyterDeck-slides-blue.svg)</a>"
   ]
  },
  {
   "cell_type": "markdown",
   "id": "52de2796-a950-4739-b0dd-01d3d95a8927",
   "metadata": {},
   "source": [
    "```{figure} ./images/ClassB_vb/vb1schema.png\n",
    "---\n",
    "name: VBB1schema\n",
    "---\n",
    "Basisschema van de versterker\n",
    "```\n",
    "\n",
    "```{figure} ./images/ClassB_vb/vb1intern.png\n",
    "---\n",
    "name: VBB1intern\n",
    "---\n",
    "Interne structuur van de versterkerchip\n",
    "```\n",
    "\n",
    "```{figure} ./images/ClassB_vb/vb1foto.png\n",
    "---\n",
    "name: VBB1foto\n",
    "---\n",
    "Foto van de versterker\n",
    "```\n",
    "\n",
    "\n",
    "```{figure} ./images/ClassB_vb/vb1layout.png\n",
    "---\n",
    "name: VBB1layout\n",
    "---\n",
    "Layout van de versterker\n",
    "```\n",
    "\n",
    "```{figure} ./images/ClassB_vb/vb1bestukking.png\n",
    "---\n",
    "name: VBB1bestukking\n",
    "---\n",
    "Bestukking van de versterker\n",
    "```"
   ]
  },
  {
   "cell_type": "code",
   "execution_count": null,
   "id": "5301fcb2-db05-4c29-9b31-318555bb0c83",
   "metadata": {
    "tags": [
     "remove-input"
    ]
   },
   "outputs": [],
   "source": [
    "import matplotlib.pyplot as plt\n",
    "import matplotlib.ticker as ticker\n",
    "from  matplotlib import patches\n",
    "import scipy.signal as signal\n",
    "import numpy as np\n",
    "from PySpice.Probe.Plot import plot\n",
    "from PySpice.Spice.Parser import SpiceParser\n",
    "from PySpice.Spice.Netlist import Circuit\n",
    "from PySpice.Unit import *\n",
    "import schemdraw as schem\n",
    "import schemdraw.elements as e\n",
    "from ipywidgets import interact,FloatSlider\n",
    "usewidgets=False;\n",
    "    \n",
    "def spicelisting(filename):\n",
    "    with open(filename) as f:\n",
    "        for line in f:\n",
    "            print(line.strip())\n",
    "    print()"
   ]
  },
  {
   "cell_type": "markdown",
   "id": "3a29f1e6",
   "metadata": {
    "slideshow": {
     "slide_type": "slide"
    },
    "tags": [
     "remove_cell",
     "slide_overzicht"
    ]
   },
   "source": [
    "######  Overzicht\n",
    " \n"
   ]
  }
 ],
 "metadata": {
  "kernelspec": {
   "display_name": "KULeuven",
   "language": "python",
   "name": "kuleuven"
  },
  "language_info": {
   "codemirror_mode": {
    "name": "ipython",
    "version": 3
   },
   "file_extension": ".py",
   "mimetype": "text/x-python",
   "name": "python",
   "nbconvert_exporter": "python",
   "pygments_lexer": "ipython3",
   "version": "3.8.13"
  },
  "widgets": {
   "application/vnd.jupyter.widget-state+json": {
    "state": {},
    "version_major": 2,
    "version_minor": 0
   }
  }
 },
 "nbformat": 4,
 "nbformat_minor": 5
}
