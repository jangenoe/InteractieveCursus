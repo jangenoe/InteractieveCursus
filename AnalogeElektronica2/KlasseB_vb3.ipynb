{
 "cells": [
  {
   "cell_type": "markdown",
   "id": "dcd5d046-495d-490d-a600-9af392dc2555",
   "metadata": {},
   "source": [
    "# Voorbeeld 3: Klasse B versterker"
   ]
  },
  {
   "cell_type": "markdown",
   "id": "4722cbda-6406-476c-a4a1-e19670ab27bd",
   "metadata": {
    "tags": []
   },
   "source": [
    "```{figure} ./images/ClassB_vb/vb3schema.png\n",
    "---\n",
    "name: VBB3schema\n",
    "---\n",
    "Basisschema van de versterker\n",
    "```\n",
    "\n",
    "\n",
    "```{figure} ./images/ClassB_vb/vb3foto.jpeg\n",
    "---\n",
    "name: VBB3foto\n",
    "---\n",
    "Foto van de versterker\n",
    "```\n",
    "\n",
    "\n",
    "```{figure} ./images/ClassB_vb/vb3layout.png\n",
    "---\n",
    "name: VBB3layout\n",
    "---\n",
    "Layout van de versterker\n",
    "```"
   ]
  },
  {
   "cell_type": "code",
   "execution_count": null,
   "id": "269bce47-55ad-44c6-b89a-83ef46a5083a",
   "metadata": {
    "tags": [
     "remove-input"
    ]
   },
   "outputs": [],
   "source": [
    "import matplotlib.pyplot as plt\n",
    "import matplotlib.ticker as ticker\n",
    "from  matplotlib import patches\n",
    "import scipy.signal as signal\n",
    "import numpy as np\n",
    "from PySpice.Probe.Plot import plot\n",
    "from PySpice.Spice.Parser import SpiceParser\n",
    "from PySpice.Spice.Netlist import Circuit\n",
    "from PySpice.Unit import *\n",
    "import schemdraw as schem\n",
    "import schemdraw.elements as e\n",
    "from ipywidgets import interact,FloatSlider\n",
    "usewidgets=False;\n",
    "    \n",
    "def spicelisting(filename):\n",
    "    with open(filename) as f:\n",
    "        for line in f:\n",
    "            print(line.strip())\n",
    "    print()"
   ]
  },
  {
   "cell_type": "markdown",
   "id": "06831db2",
   "metadata": {
    "slideshow": {
     "slide_type": "slide"
    },
    "tags": [
     "remove_cell",
     "slide_overzicht"
    ]
   },
   "source": [
    "######  Overzicht\n \n"
   ]
  }
 ],
 "metadata": {
  "kernelspec": {
   "display_name": "KULeuven",
   "language": "python",
   "name": "kuleuven"
  },
  "language_info": {
   "codemirror_mode": {
    "name": "ipython",
    "version": 3
   },
   "file_extension": ".py",
   "mimetype": "text/x-python",
   "name": "python",
   "nbconvert_exporter": "python",
   "pygments_lexer": "ipython3",
   "version": "3.8.13"
  },
  "widgets": {
   "application/vnd.jupyter.widget-state+json": {
    "state": {},
    "version_major": 2,
    "version_minor": 0
   }
  }
 },
 "nbformat": 4,
 "nbformat_minor": 5
}
