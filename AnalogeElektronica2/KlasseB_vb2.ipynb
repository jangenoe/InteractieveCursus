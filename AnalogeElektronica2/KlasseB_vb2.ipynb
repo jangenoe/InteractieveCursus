{
 "cells": [
  {
   "cell_type": "markdown",
   "id": "2b758530-dc58-4e9e-b001-e002043b0f81",
   "metadata": {},
   "source": [
    "# Voorbeeld 2: Klasse B versterker\n",
    "\n",
    "```{figure} ./images/ClassB_vb/vb2schema.png\n",
    "---\n",
    "name: VBB2schema\n",
    "---\n",
    "Basisschema van de versterker\n",
    "```\n",
    "\n",
    "```{figure} ./images/ClassB_vb/vb2amplfier.png\n",
    "---\n",
    "name: VBB2intern\n",
    "---\n",
    "Interne structuur van de versterkerchip\n",
    "```\n",
    "\n",
    "```{figure} ./images/ClassB_vb/vb2foto.jpeg\n",
    "---\n",
    "name: VBB2foto\n",
    "---\n",
    "Foto van de versterker\n",
    "```\n",
    "\n",
    "\n",
    "```{figure} ./images/ClassB_vb/vb2layout.png\n",
    "---\n",
    "name: VBB2layout\n",
    "---\n",
    "Layout van de versterker\n",
    "```\n",
    "\n",
    "```{figure} ./images/ClassB_vb/vb2bestukking.png\n",
    "---\n",
    "name: VBB2bestukking\n",
    "---\n",
    "Bestukking van de versterker\n",
    "```\n"
   ]
  },
  {
   "cell_type": "code",
   "execution_count": null,
   "id": "622c1b3a-6c43-4b35-9ab3-669854c64965",
   "metadata": {},
   "outputs": [],
   "source": []
  }
 ],
 "metadata": {
  "kernelspec": {
   "display_name": "KULeuven",
   "language": "python",
   "name": "kuleuven"
  },
  "language_info": {
   "codemirror_mode": {
    "name": "ipython",
    "version": 3
   },
   "file_extension": ".py",
   "mimetype": "text/x-python",
   "name": "python",
   "nbconvert_exporter": "python",
   "pygments_lexer": "ipython3",
   "version": "3.8.12"
  },
  "widgets": {
   "application/vnd.jupyter.widget-state+json": {
    "state": {},
    "version_major": 2,
    "version_minor": 0
   }
  }
 },
 "nbformat": 4,
 "nbformat_minor": 5
}
