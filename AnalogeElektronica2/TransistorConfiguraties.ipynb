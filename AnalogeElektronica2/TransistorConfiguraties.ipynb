{
 "cells": [
  {
   "cell_type": "markdown",
   "id": "f970fb1c-c596-4fb8-b626-d3a3b445c274",
   "metadata": {},
   "source": [
    "# Transistor Configuraties\n",
    "\n",
    "## Tweepoorten en driepoorten\n",
    "\n"
   ]
  },
  {
   "cell_type": "markdown",
   "id": "14062c87-4f7a-423b-b557-99b9b8b995ed",
   "metadata": {},
   "source": [
    "## Definities van versterking\n",
    "\n"
   ]
  },
  {
   "cell_type": "markdown",
   "id": "524142f2-4008-4e2d-a06b-f4911a75e4c1",
   "metadata": {},
   "source": [
    "## MOS transistor configuraties\n",
    "\n",
    "### Gemeenschappelijke Source Schakeling: GSS"
   ]
  },
  {
   "cell_type": "markdown",
   "id": "2f7863fb-8293-4aa4-b2dd-31c30543b25d",
   "metadata": {},
   "source": [
    "### Gemeenschappelijke Drain Schakeling: GDS\n",
    "\n",
    "In deze configuratie is het doel van de transistor in eerste instantie om stroomsversterking op te leveren."
   ]
  },
  {
   "cell_type": "markdown",
   "id": "3577502d-db88-43a8-9e5e-5398beabd318",
   "metadata": {},
   "source": [
    "### Gemeenschappelijke Gate Schakeling: GGS\n",
    "\n",
    "In deze configuratie is het doel van de transistor in eerste instantie om "
   ]
  },
  {
   "cell_type": "markdown",
   "id": "e32e5309-8b83-4471-a71e-c42d4ad3a427",
   "metadata": {},
   "source": [
    "## Bipolaire transistor configuraties\n",
    "\n",
    "### Gemeenschappelijke Emitter Schakeling: GES\n",
    "\n",
    "In deze configuratie is het doel van de transistor in eerste instantie om spanningsversterking op te leveren.\n"
   ]
  },
  {
   "cell_type": "markdown",
   "id": "9ba495d7-0fb5-4fa0-97e4-37cb0cd09a5a",
   "metadata": {
    "jp-MarkdownHeadingCollapsed": true
   },
   "source": [
    "### Gemeenschappelijke Collector Schakeling: GCS\n",
    "\n",
    "In deze configuratie is het doel van de transistor in eerste instantie om stroomsversterking op te leveren."
   ]
  },
  {
   "cell_type": "markdown",
   "id": "82d73792-2a82-4686-880e-0bc372748a33",
   "metadata": {},
   "source": [
    "### Gemeenschappelijke Basis Schakeling: GBS\n",
    "\n",
    "In deze configuratie is het doel van de transistor in eerste instantie om "
   ]
  }
 ],
 "metadata": {
  "kernelspec": {
   "display_name": "KULeuven",
   "language": "python",
   "name": "kuleuven"
  },
  "language_info": {
   "codemirror_mode": {
    "name": "ipython",
    "version": 3
   },
   "file_extension": ".py",
   "mimetype": "text/x-python",
   "name": "python",
   "nbconvert_exporter": "python",
   "pygments_lexer": "ipython3",
   "version": "3.10.13"
  }
 },
 "nbformat": 4,
 "nbformat_minor": 5
}
