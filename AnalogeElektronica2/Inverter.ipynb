{
 "cells": [
  {
   "cell_type": "markdown",
   "id": "5e11b1e5-bb1f-4e12-9cc1-1b6fbb96399b",
   "metadata": {
    "slideshow": {
     "slide_type": "skip"
    },
    "tags": []
   },
   "source": [
    "# Inverter of Buck-Boost Converter\n",
    "\n",
    " <a href=\"./slides/Inverter.slides.html\">![slides](https://img.shields.io/badge/slides-beschikbaar-blue)</a> "
   ]
  },
  {
   "cell_type": "markdown",
   "id": "22fa3df8-a86b-47c2-8737-4b49f8f5ce15",
   "metadata": {},
   "source": []
  },
  {
   "cell_type": "markdown",
   "id": "1ae89777",
   "metadata": {
    "slideshow": {
     "slide_type": "slide"
    },
    "tags": [
     "remove_cell",
     "slide_overzicht"
    ]
   },
   "source": [
    "######  Overzicht\n \n"
   ]
  }
 ],
 "metadata": {
  "KULeuvenSlides": {
   "authors": "Jan Genoe",
   "date": "Februari 2022",
   "kuleuven_presentation_style": "1425",
   "subtitle": "Schakelende voeding voor een omgekeerde spanning",
   "title": "Inverter of Buck-Boost Converter"
  },
  "citation-manager": {
   "items": {}
  },
  "kernelspec": {
   "display_name": "KULeuven",
   "language": "python",
   "name": "kuleuven"
  },
  "language_info": {
   "codemirror_mode": {
    "name": "ipython",
    "version": 3
   },
   "file_extension": ".py",
   "mimetype": "text/x-python",
   "name": "python",
   "nbconvert_exporter": "python",
   "pygments_lexer": "ipython3",
   "version": "3.8.13"
  },
  "widgets": {
   "application/vnd.jupyter.widget-state+json": {
    "state": {},
    "version_major": 2,
    "version_minor": 0
   }
  }
 },
 "nbformat": 4,
 "nbformat_minor": 5
}
