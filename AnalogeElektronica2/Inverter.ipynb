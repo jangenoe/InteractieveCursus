{
 "cells": [
  {
   "cell_type": "markdown",
   "id": "90a307a5-fb46-4d8d-aa4e-8b9c3be1c865",
   "metadata": {
    "KULeuvenSlides": {
     "slide_code": "normal",
     "slide_ref": "",
     "slide_title": ""
    },
    "editable": true,
    "slideshow": {
     "slide_type": "slide"
    },
    "tags": [
     "remove_cell4reveal"
    ]
   },
   "source": [
    "# Inverter of Buck-Boost Converter"
   ]
  },
  {
   "cell_type": "code",
   "execution_count": 2,
   "id": "0cd09872-c3e7-4c19-97d1-9016f4033e90",
   "metadata": {
    "KULeuvenSlides": {
     "slide_code": "normal",
     "slide_ref": "",
     "slide_title": ""
    },
    "editable": true,
    "execution": {
     "iopub.execute_input": "2024-12-26T23:11:56.067062Z",
     "iopub.status.busy": "2024-12-26T23:11:56.066694Z",
     "iopub.status.idle": "2024-12-26T23:11:57.165955Z",
     "shell.execute_reply": "2024-12-26T23:11:57.165440Z",
     "shell.execute_reply.started": "2024-12-26T23:11:56.067036Z"
    },
    "mystnb": {
     "figure": {
      "caption": "",
      "name": ""
     }
    },
    "slideshow": {
     "slide_type": "skip"
    },
    "tags": [
     "remove_cell4reveal",
     "remove-cell4PDF",
     "remove-cell4BOOK",
     "remove_cell4pptx"
    ]
   },
   "outputs": [],
   "source": [
    "from cursusdef import *"
   ]
  },
  {
   "cell_type": "code",
   "execution_count": 3,
   "id": "2ae53cbf-1ce1-4b2e-9fbf-188f503b3178",
   "metadata": {
    "KULeuvenSlides": {
     "slide_code": "normal",
     "slide_ref": "",
     "slide_title": "Buck-Boost Converter schema"
    },
    "editable": true,
    "execution": {
     "iopub.execute_input": "2024-12-26T23:11:59.593922Z",
     "iopub.status.busy": "2024-12-26T23:11:59.593416Z",
     "iopub.status.idle": "2024-12-26T23:11:59.886657Z",
     "shell.execute_reply": "2024-12-26T23:11:59.885008Z",
     "shell.execute_reply.started": "2024-12-26T23:11:59.593889Z"
    },
    "slideshow": {
     "slide_type": "slide"
    }
   },
   "outputs": [
    {
     "data": {
      "image/png": "[encoded data removed]",
      "text/plain": [
       "<IPython.core.display.Image object>"
      ]
     },
     "execution_count": 3,
     "metadata": {},
     "output_type": "execute_result"
    }
   ],
   "source": [
    "display.Image(\"https://upload.wikimedia.org/wikipedia/commons/thumb/e/e6/Buckboost_conventions.svg/737px-Buckboost_conventions.svg.png\")"
   ]
  },
  {
   "cell_type": "code",
   "execution_count": null,
   "id": "23e1de56-b815-49ff-8aed-ccefddd40743",
   "metadata": {
    "KULeuvenSlides": {
     "slide_code": "normal",
     "slide_ref": "",
     "slide_title": ""
    },
    "editable": true,
    "slideshow": {
     "slide_type": ""
    }
   },
   "outputs": [],
   "source": []
  }
 ],
 "metadata": {
  "KULeuvenSlides": {
   "authors": "Jan Genoe",
   "date": "Februari 2022",
   "kuleuven_presentation_style": "1425",
   "subtitle": "Schakelende voeding voor een omgekeerde spanning",
   "title": "Inverter of Buck-Boost Converter"
  },
  "citation-manager": {
   "items": {}
  },
  "kernelspec": {
   "display_name": "KULeuven",
   "language": "python",
   "name": "kuleuven"
  },
  "language_info": {
   "codemirror_mode": {
    "name": "ipython",
    "version": 3
   },
   "file_extension": ".py",
   "mimetype": "text/x-python",
   "name": "python",
   "nbconvert_exporter": "python",
   "pygments_lexer": "ipython3",
   "version": "3.10.15"
  },
  "scenes_data": {
   "active_scene": "Default Scene",
   "init_scene": "",
   "scenes": [
    "Default Scene"
   ]
  },
  "widgets": {
   "application/vnd.jupyter.widget-state+json": {
    "state": {},
    "version_major": 2,
    "version_minor": 0
   }
  }
 },
 "nbformat": 4,
 "nbformat_minor": 5
}
