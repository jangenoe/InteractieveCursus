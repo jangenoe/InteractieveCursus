{
 "cells": [
  {
   "cell_type": "markdown",
   "id": "9690e7fa-347e-4b5c-b541-c3ba4f016a3e",
   "metadata": {
    "slideshow": {
     "slide_type": "skip"
    },
    "tags": []
   },
   "source": [
    "# Flyback converter\n",
    "\n",
    "De presentatie slides van dit hoofdstuk kan je <a href=\"./slides/Flyback-converter.slides.html\">`hier`</a> vinden."
   ]
  },
  {
   "cell_type": "code",
   "execution_count": null,
   "id": "f5fab484-f77a-448f-9aad-7a82fd92f44c",
   "metadata": {
    "tags": [
     "hide-input"
    ]
   },
   "outputs": [],
   "source": []
  }
 ],
 "metadata": {
  "KULeuvenSlides": {
   "authors": "Jan Genoe",
   "date": "Februari 2022",
   "kuleuven_presentation_style": "1425",
   "subtitle": "Schakelende voeding aan de hand van een transformator",
   "title": "Flyback Converter"
  },
  "citation-manager": {
   "items": {}
  },
  "kernelspec": {
   "display_name": "KULeuven",
   "language": "python",
   "name": "kuleuven"
  },
  "language_info": {
   "codemirror_mode": {
    "name": "ipython",
    "version": 3
   },
   "file_extension": ".py",
   "mimetype": "text/x-python",
   "name": "python",
   "nbconvert_exporter": "python",
   "pygments_lexer": "ipython3",
   "version": "3.8.13"
  },
  "widgets": {
   "application/vnd.jupyter.widget-state+json": {
    "state": {},
    "version_major": 2,
    "version_minor": 0
   }
  }
 },
 "nbformat": 4,
 "nbformat_minor": 5
}
