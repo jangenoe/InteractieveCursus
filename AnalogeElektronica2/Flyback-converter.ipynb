{
 "cells": [
  {
   "cell_type": "markdown",
   "id": "15d19362-ca19-497f-8640-f1e46dd09a7a",
   "metadata": {
    "KULeuvenSlides": {
     "slide_code": "normal",
     "slide_ref": "",
     "slide_title": ""
    },
    "editable": true,
    "slideshow": {
     "slide_type": "skip"
    },
    "tags": [
     "remove_cell4reveal"
    ]
   },
   "source": [
    "# Flyback converter"
   ]
  },
  {
   "cell_type": "code",
   "execution_count": 1,
   "id": "dd5336c7-2381-4e69-8799-bf6b79260921",
   "metadata": {
    "KULeuvenSlides": {
     "slide_code": "normal",
     "slide_ref": "",
     "slide_title": ""
    },
    "editable": true,
    "execution": {
     "iopub.execute_input": "2023-09-26T12:17:52.928952Z",
     "iopub.status.busy": "2023-09-26T12:17:52.928003Z",
     "iopub.status.idle": "2023-09-26T12:18:01.141097Z",
     "shell.execute_reply": "2023-09-26T12:18:01.139845Z",
     "shell.execute_reply.started": "2023-09-26T12:17:52.928952Z"
    },
    "mystnb": {
     "figure": {
      "caption": "",
      "name": ""
     }
    },
    "slideshow": {
     "slide_type": "skip"
    },
    "tags": [
     "remove_cell4reveal",
     "remove-cell4PDF",
     "remove-cell4BOOK",
     "remove_cell4pptx"
    ]
   },
   "outputs": [],
   "source": [
    "from cursusdef import *"
   ]
  }
 ],
 "metadata": {
  "KULeuvenSlides": {
   "authors": "Jan Genoe",
   "date": "Februari 2022",
   "kuleuven_presentation_style": "1425",
   "subtitle": "Schakelende voeding aan de hand van een transformator",
   "title": "Flyback Converter"
  },
  "citation-manager": {
   "items": {}
  },
  "kernelspec": {
   "display_name": "KULeuven",
   "language": "python",
   "name": "kuleuven"
  },
  "language_info": {
   "codemirror_mode": {
    "name": "ipython",
    "version": 3
   },
   "file_extension": ".py",
   "mimetype": "text/x-python",
   "name": "python",
   "nbconvert_exporter": "python",
   "pygments_lexer": "ipython3",
   "version": "3.10.15"
  },
  "widgets": {
   "application/vnd.jupyter.widget-state+json": {
    "state": {},
    "version_major": 2,
    "version_minor": 0
   }
  }
 },
 "nbformat": 4,
 "nbformat_minor": 5
}
