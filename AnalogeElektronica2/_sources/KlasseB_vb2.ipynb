{
 "cells": [
  {
   "cell_type": "markdown",
   "id": "bb43d156-d62e-4cbd-b5f4-013b520084a4",
   "metadata": {
    "slideshow": {
     "slide_type": "slide"
    },
    "tags": []
   },
   "source": [
    "# Voorbeeld 2: Klasse B versterker"
   ]
  },
  {
   "cell_type": "markdown",
   "id": "62bb82eb-3fbb-4c4a-a54f-4a0e62a416b8",
   "metadata": {
    "slideshow": {
     "slide_type": "skip"
    },
    "tags": []
   },
   "source": [
    "<a href=\"./slides/KlasseB_vb2.slides.html\" target=\"_blank\">![slides](./images/slides-beschikbaar-blue.svg)</a> \n",
    "<a href=\"../Lite/ToegepasteAnalogeElektronica/lab?path=KlasseB_vb2.ipynb\" target=\"_blank\">![slides](./images/open_in-JupyterLite-blue.svg)</a>\n",
    "<a href=\"../Deck/ToegepasteAnalogeElektronica/lab?path=KlasseB_vb2.ipynb\" target=\"_blank\">![slides](./images/JupyterDeck-slides-blue.svg)</a>"
   ]
  },
  {
   "cell_type": "markdown",
   "id": "f648ca48-df8d-4be9-862d-85f4501d9b5d",
   "metadata": {},
   "source": [
    "```{figure} ./images/ClassB_vb/vb2schema.png\n",
    "---\n",
    "name: VBB2schema\n",
    "---\n",
    "Basisschema van de versterker\n",
    "```\n",
    "\n",
    "```{figure} ./images/ClassB_vb/vb2amplfier.png\n",
    "---\n",
    "name: VBB2intern\n",
    "---\n",
    "Interne structuur van de versterkerchip\n",
    "```\n",
    "\n",
    "```{figure} ./images/ClassB_vb/vb2foto.jpeg\n",
    "---\n",
    "name: VBB2foto\n",
    "---\n",
    "Foto van de versterker\n",
    "```\n",
    "\n",
    "\n",
    "```{figure} ./images/ClassB_vb/vb2layout.png\n",
    "---\n",
    "name: VBB2layout\n",
    "---\n",
    "Layout van de versterker\n",
    "```\n",
    "\n",
    "```{figure} ./images/ClassB_vb/vb2bestukking.png\n",
    "---\n",
    "name: VBB2bestukking\n",
    "---\n",
    "Bestukking van de versterker\n",
    "```"
   ]
  },
  {
   "cell_type": "code",
   "execution_count": null,
   "id": "622c1b3a-6c43-4b35-9ab3-669854c64965",
   "metadata": {
    "tags": [
     "remove-input"
    ]
   },
   "outputs": [],
   "source": [
    "import matplotlib.pyplot as plt\n",
    "import matplotlib.ticker as ticker\n",
    "from  matplotlib import patches\n",
    "import scipy.signal as signal\n",
    "import numpy as np\n",
    "from PySpice.Probe.Plot import plot\n",
    "from PySpice.Spice.Parser import SpiceParser\n",
    "from PySpice.Spice.Netlist import Circuit\n",
    "from PySpice.Unit import *\n",
    "import schemdraw as schem\n",
    "import schemdraw.elements as e\n",
    "from ipywidgets import interact,FloatSlider\n",
    "usewidgets=False;\n",
    "    \n",
    "def spicelisting(filename):\n",
    "    with open(filename) as f:\n",
    "        for line in f:\n",
    "            print(line.strip())\n",
    "    print()"
   ]
  },
  {
   "cell_type": "markdown",
   "id": "e9d7708b",
   "metadata": {
    "slideshow": {
     "slide_type": "slide"
    },
    "tags": [
     "remove_cell",
     "slide_overzicht"
    ]
   },
   "source": [
    "######  Overzicht\n",
    " \n"
   ]
  }
 ],
 "metadata": {
  "kernelspec": {
   "display_name": "KULeuven",
   "language": "python",
   "name": "kuleuven"
  },
  "language_info": {
   "codemirror_mode": {
    "name": "ipython",
    "version": 3
   },
   "file_extension": ".py",
   "mimetype": "text/x-python",
   "name": "python",
   "nbconvert_exporter": "python",
   "pygments_lexer": "ipython3",
   "version": "3.8.13"
  },
  "widgets": {
   "application/vnd.jupyter.widget-state+json": {
    "state": {},
    "version_major": 2,
    "version_minor": 0
   }
  }
 },
 "nbformat": 4,
 "nbformat_minor": 5
}
