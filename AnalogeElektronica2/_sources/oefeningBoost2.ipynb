{
 "cells": [
  {
   "cell_type": "markdown",
   "id": "ffd9a2eb-14d6-4dec-8522-34f66267cfbc",
   "metadata": {
    "KULeuvenSlides": {
     "slide_code": "normal",
     "slide_ref": "",
     "slide_title": ""
    },
    "editable": true,
    "slideshow": {
     "slide_type": "slide"
    },
    "tags": [
     "remove_cell4reveal"
    ]
   },
   "source": [
    "# Boost Converter oefening 2"
   ]
  },
  {
   "cell_type": "code",
   "execution_count": 1,
   "id": "9f65c636-e450-4461-a203-5882399dd822",
   "metadata": {
    "KULeuvenSlides": {
     "slide_code": "normal",
     "slide_ref": "",
     "slide_title": ""
    },
    "editable": true,
    "execution": {
     "iopub.execute_input": "2023-09-26T12:17:52.928952Z",
     "iopub.status.busy": "2023-09-26T12:17:52.928003Z",
     "iopub.status.idle": "2023-09-26T12:18:01.141097Z",
     "shell.execute_reply": "2023-09-26T12:18:01.139845Z",
     "shell.execute_reply.started": "2023-09-26T12:17:52.928952Z"
    },
    "mystnb": {
     "figure": {
      "caption": "",
      "name": ""
     }
    },
    "slideshow": {
     "slide_type": "skip"
    },
    "tags": [
     "remove_cell4reveal",
     "remove-cell4PDF",
     "remove-cell4BOOK",
     "remove_cell4pptx",
     "remove-cell"
    ]
   },
   "outputs": [],
   "source": [
    "from cursusdef import *"
   ]
  },
  {
   "cell_type": "markdown",
   "id": "6de282b1-8223-4327-96ff-ab66813180f6",
   "metadata": {
    "KULeuvenSlides": {
     "slide_code": "normal",
     "slide_ref": "",
     "slide_title": ""
    },
    "editable": true,
    "slideshow": {
     "slide_type": ""
    },
    "tags": []
   },
   "source": [
    "(a) Het schema in {numref}`ST_schema` komt uit een [datasheet](https://www.st.com/resource/en/datasheet/l6920.pdf) die je van het internet kan downloaden. Wat verwacht je dat er binnen in deze component zit en hoe werkt dit circuit dan? De Ron van de schakeltransistor veronderstel je 0.3$\\Omega$ en de weerstand van het spoel L1 mag je verwaarlozen, VD veronderstel je 0.3V.\n",
    "\n",
    "```{figure} ./images/STep-UP-TI.png\n",
    "---\n",
    "name: ST_schema\n",
    "---\n",
    "Schema van een Step-up converter ontworpen door ST-microelectronics [bron toevoegen].\n",
    "```\n",
    "\n",
    "(b) Reken uit hoe de Duty cycle en de efficiëntie veranderen als de output stroom gaat van 0 mA naar 500 mA.\n"
   ]
  }
 ],
 "metadata": {
  "KULeuvenSlides": {
   "authors": "Jan Genoe",
   "date": "Februari 2022",
   "kuleuven_presentation_style": "1425",
   "subtitle": "Schakelende voeding voor een hogere spanning te bekomen",
   "title": "Boost Converter"
  },
  "citation-manager": {
   "items": {}
  },
  "kernelspec": {
   "display_name": "KULeuven",
   "language": "python",
   "name": "kuleuven"
  },
  "language_info": {
   "codemirror_mode": {
    "name": "ipython",
    "version": 3
   },
   "file_extension": ".py",
   "mimetype": "text/x-python",
   "name": "python",
   "nbconvert_exporter": "python",
   "pygments_lexer": "ipython3",
   "version": "3.10.15"
  },
  "widgets": {
   "application/vnd.jupyter.widget-state+json": {
    "state": {},
    "version_major": 2,
    "version_minor": 0
   }
  }
 },
 "nbformat": 4,
 "nbformat_minor": 5
}
